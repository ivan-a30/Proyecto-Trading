{
 "cells": [
  {
   "cell_type": "markdown",
   "metadata": {},
   "source": [
    "# Predicción de la tendecia del ETF SPY"
   ]
  },
  {
   "cell_type": "markdown",
   "metadata": {},
   "source": [
    "En este proyecto vamos a intentar realizar un modelo que sea capaz de predecir la tendencia diaria del ETF SPY. +\n",
    "\n",
    "Explciacion que es ETF , SPY, SP500, etc... porque hemos elegido esto, ventajas, desventajas, etc...\n",
    "\n",
    "Estrucutra e indice del proyecto\n"
   ]
  },
  {
   "cell_type": "code",
   "execution_count": 1,
   "metadata": {},
   "outputs": [],
   "source": [
    "import numpy as np  # Numerical operations on arrays and matrices\n",
    "import pandas as pd  # Data manipulation and analysis\n",
    "import datetime  # Date and time manipulation\n",
    "import random  # Generate random numbers and random selection\n",
    "\n",
    "import pandas_datareader.data as web  # Fetch financial data from online sources\n",
    "\n",
    "import matplotlib.pyplot as plt  # Data visualization and plotting\n",
    "import seaborn as sns  # Statistical data visualization\n",
    "\n",
    "import pandas_ta as ta  # Technical analysis indicators and tools\n",
    "\n",
    "import statsmodels.api as sm  # Statistical modeling and econometrics\n",
    "\n",
    "from alpha_vantage.timeseries import TimeSeries  # Fetch time series data from Alpha Vantage API\n",
    "\n",
    "from statsmodels.stats.outliers_influence import variance_inflation_factor  # Calculate Variance Inflation Factor (VIF) for multicollinearity analysis\n",
    "\n",
    "from sklearn.model_selection import train_test_split, GridSearchCV  # Data splitting and hyperparameter tuning\n",
    "from sklearn.preprocessing import MinMaxScaler  # Scaling features to a range\n",
    "from sklearn.svm import SVC  # Support Vector Classifier\n",
    "from sklearn.feature_selection import RFE  # Recursive Feature Elimination for feature selection\n",
    "from sklearn.metrics import accuracy_score, classification_report, RocCurveDisplay, roc_auc_score  # Model evaluation metrics\n",
    "from sklearn.ensemble import RandomForestClassifier  # Random Forest for classification and feature importance\n",
    "\n",
    "from scipy import stats  # Statistical functions and tests\n",
    "\n",
    "from collections import defaultdict  # Dictionary subclass for counting and grouping\n",
    "\n",
    "from minisom import MiniSom  # Self Organizing Maps for dimensionality reduction and clustering\n",
    "\n",
    "import warnings\n",
    "warnings.filterwarnings('ignore') #ignore warnings "
   ]
  },
  {
   "cell_type": "code",
   "execution_count": null,
   "metadata": {},
   "outputs": [
    {
     "name": "stdout",
     "output_type": "stream",
     "text": [
      "Collecting pandas_ta\n",
      "  Using cached pandas_ta-0.3.14b.tar.gz (115 kB)\n",
      "  Preparing metadata (setup.py) ... \u001b[?25ldone\n",
      "\u001b[?25hRequirement already satisfied: statsmodels in /opt/anaconda3/envs/ads/lib/python3.10/site-packages (0.14.4)\n",
      "Requirement already satisfied: alpha_vantage in /opt/anaconda3/envs/ads/lib/python3.10/site-packages (3.0.0)\n",
      "Collecting minisom\n",
      "  Downloading minisom-2.3.5.tar.gz (12 kB)\n",
      "  Preparing metadata (setup.py) ... \u001b[?25ldone\n",
      "\u001b[?25hRequirement already satisfied: pandas in /opt/anaconda3/envs/ads/lib/python3.10/site-packages (from pandas_ta) (2.2.3)\n",
      "Requirement already satisfied: numpy<3,>=1.22.3 in /opt/anaconda3/envs/ads/lib/python3.10/site-packages (from statsmodels) (1.26.4)\n",
      "Requirement already satisfied: scipy!=1.9.2,>=1.8 in /opt/anaconda3/envs/ads/lib/python3.10/site-packages (from statsmodels) (1.13.1)\n",
      "Requirement already satisfied: patsy>=0.5.6 in /opt/anaconda3/envs/ads/lib/python3.10/site-packages (from statsmodels) (0.5.6)\n",
      "Requirement already satisfied: packaging>=21.3 in /opt/anaconda3/envs/ads/lib/python3.10/site-packages (from statsmodels) (24.1)\n",
      "Requirement already satisfied: aiohttp in /opt/anaconda3/envs/ads/lib/python3.10/site-packages (from alpha_vantage) (3.11.10)\n",
      "Requirement already satisfied: requests in /opt/anaconda3/envs/ads/lib/python3.10/site-packages (from alpha_vantage) (2.32.3)\n",
      "Requirement already satisfied: python-dateutil>=2.8.2 in /opt/anaconda3/envs/ads/lib/python3.10/site-packages (from pandas->pandas_ta) (2.9.0)\n",
      "Requirement already satisfied: pytz>=2020.1 in /opt/anaconda3/envs/ads/lib/python3.10/site-packages (from pandas->pandas_ta) (2024.1)\n",
      "Requirement already satisfied: tzdata>=2022.7 in /opt/anaconda3/envs/ads/lib/python3.10/site-packages (from pandas->pandas_ta) (2024.2)\n",
      "Requirement already satisfied: six in /opt/anaconda3/envs/ads/lib/python3.10/site-packages (from patsy>=0.5.6->statsmodels) (1.16.0)\n",
      "Requirement already satisfied: aiohappyeyeballs>=2.3.0 in /opt/anaconda3/envs/ads/lib/python3.10/site-packages (from aiohttp->alpha_vantage) (2.4.4)\n",
      "Requirement already satisfied: aiosignal>=1.1.2 in /opt/anaconda3/envs/ads/lib/python3.10/site-packages (from aiohttp->alpha_vantage) (1.3.1)\n",
      "Requirement already satisfied: async-timeout<6.0,>=4.0 in /opt/anaconda3/envs/ads/lib/python3.10/site-packages (from aiohttp->alpha_vantage) (4.0.3)\n",
      "Requirement already satisfied: attrs>=17.3.0 in /opt/anaconda3/envs/ads/lib/python3.10/site-packages (from aiohttp->alpha_vantage) (24.2.0)\n",
      "Requirement already satisfied: frozenlist>=1.1.1 in /opt/anaconda3/envs/ads/lib/python3.10/site-packages (from aiohttp->alpha_vantage) (1.5.0)\n",
      "Requirement already satisfied: multidict<7.0,>=4.5 in /opt/anaconda3/envs/ads/lib/python3.10/site-packages (from aiohttp->alpha_vantage) (6.1.0)\n",
      "Requirement already satisfied: propcache>=0.2.0 in /opt/anaconda3/envs/ads/lib/python3.10/site-packages (from aiohttp->alpha_vantage) (0.2.1)\n",
      "Requirement already satisfied: yarl<2.0,>=1.17.0 in /opt/anaconda3/envs/ads/lib/python3.10/site-packages (from aiohttp->alpha_vantage) (1.18.3)\n",
      "Requirement already satisfied: charset-normalizer<4,>=2 in /opt/anaconda3/envs/ads/lib/python3.10/site-packages (from requests->alpha_vantage) (3.3.2)\n",
      "Requirement already satisfied: idna<4,>=2.5 in /opt/anaconda3/envs/ads/lib/python3.10/site-packages (from requests->alpha_vantage) (3.10)\n",
      "Requirement already satisfied: urllib3<3,>=1.21.1 in /opt/anaconda3/envs/ads/lib/python3.10/site-packages (from requests->alpha_vantage) (2.2.3)\n",
      "Requirement already satisfied: certifi>=2017.4.17 in /opt/anaconda3/envs/ads/lib/python3.10/site-packages (from requests->alpha_vantage) (2024.8.30)\n",
      "Requirement already satisfied: typing-extensions>=4.1.0 in /opt/anaconda3/envs/ads/lib/python3.10/site-packages (from multidict<7.0,>=4.5->aiohttp->alpha_vantage) (4.12.2)\n",
      "Building wheels for collected packages: pandas_ta, minisom\n",
      "  Building wheel for pandas_ta (setup.py) ... \u001b[?25ldone\n",
      "\u001b[?25h  Created wheel for pandas_ta: filename=pandas_ta-0.3.14b0-py3-none-any.whl size=218909 sha256=b3cb3760509b9e75c13b78751fc0c0df84a7d25d936661d93e7239bf24a8a2a2\n",
      "  Stored in directory: /Users/ivan/Library/Caches/pip/wheels/69/00/ac/f7fa862c34b0e2ef320175100c233377b4c558944f12474cf0\n",
      "  Building wheel for minisom (setup.py) ... \u001b[?25ldone\n",
      "\u001b[?25h  Created wheel for minisom: filename=MiniSom-2.3.5-py3-none-any.whl size=12031 sha256=dd3253e6cc7c404bcd4b78fc61c7997ccc5a79cdb855e79fe00f4b5286659946\n",
      "  Stored in directory: /Users/ivan/Library/Caches/pip/wheels/be/33/77/b6bb14008fa79a2dd2b79d565e941d5faa2d7f7526e528345b\n",
      "Successfully built pandas_ta minisom\n",
      "Installing collected packages: minisom, pandas_ta\n",
      "Successfully installed minisom-2.3.5 pandas_ta-0.3.14b0\n",
      "Note: you may need to restart the kernel to use updated packages.\n"
     ]
    }
   ],
   "source": [
    "pip install pandas_datareader pandas_ta statsmodels alpha_vantage minisom"
   ]
  },
  {
   "cell_type": "code",
   "execution_count": 7,
   "metadata": {},
   "outputs": [],
   "source": [
    "# Fetching data with AlphaVantage premium API key\n",
    "api_key = 'TWABU1U88I5L7AKL'\n",
    "ts = TimeSeries(key=api_key, output_format='pandas')\n",
    "\n",
    "# Fetch daily adjusted data for NVDA\n",
    "#data, meta_data = ts.get_daily_adjusted(symbol='SPY', outputsize='full')\n",
    "data, meta_data = ts.get_daily(symbol='SPY', outputsize='full')\n",
    "\n",
    "# Ensure the index is datetime and sort it\n",
    "data.index = pd.to_datetime(data.index)\n",
    "data.sort_index(inplace=True)\n",
    "\n",
    "# Define the date range\n",
    "start_date = '2018-02-01'\n",
    "end_date = '2025-02-01'\n",
    "\n",
    "# Filter data for the specified date range\n",
    "data = data.loc[start_date:end_date]\n",
    "\n",
    "# Select relevant columns (O-H-L-C-Adj.C)\n",
    "data = data[['1. open', '2. high', '3. low', '4. close', '5. volume']]\n",
    "data.columns = ['open', 'high', 'low', 'close', 'volume']\n",
    "\n",
    "# Calculate daily returns using the adjusted close prices\n",
    "#data['daily_return'] = data['adjusted_close'].pct_change()\n",
    "data.dropna(inplace=True)\n",
    "\n",
    "# Save the data with daily returns to CSV\n",
    "data.to_csv('SPY_Daily_Data.csv')"
   ]
  },
  {
   "cell_type": "code",
   "execution_count": 8,
   "metadata": {},
   "outputs": [
    {
     "data": {
      "application/vnd.microsoft.datawrangler.viewer.v0+json": {
       "columns": [
        {
         "name": "date",
         "rawType": "datetime64[ns]",
         "type": "datetime"
        },
        {
         "name": "open",
         "rawType": "float64",
         "type": "float"
        },
        {
         "name": "high",
         "rawType": "float64",
         "type": "float"
        },
        {
         "name": "low",
         "rawType": "float64",
         "type": "float"
        },
        {
         "name": "close",
         "rawType": "float64",
         "type": "float"
        },
        {
         "name": "volume",
         "rawType": "float64",
         "type": "float"
        }
       ],
       "conversionMethod": "pd.DataFrame",
       "ref": "2ad25aae-826e-4be2-a12c-8732e6ec2ff5",
       "rows": [
        [
         "2018-02-01 00:00:00",
         "281.07",
         "283.06",
         "280.68",
         "281.58",
         "90102470.0"
        ],
        [
         "2018-02-02 00:00:00",
         "280.08",
         "280.23",
         "275.41",
         "275.45",
         "173174790.0"
        ],
        [
         "2018-02-05 00:00:00",
         "273.45",
         "275.85",
         "263.31",
         "263.93",
         "294681816.0"
        ],
        [
         "2018-02-06 00:00:00",
         "259.94",
         "269.7",
         "258.7",
         "269.13",
         "355026782.0"
        ],
        [
         "2018-02-07 00:00:00",
         "268.5",
         "272.36",
         "267.58",
         "267.67",
         "167376100.0"
        ],
        [
         "2018-02-08 00:00:00",
         "268.01",
         "268.17",
         "257.59",
         "257.63",
         "246449505.0"
        ],
        [
         "2018-02-09 00:00:00",
         "260.8",
         "263.61",
         "252.92",
         "261.5",
         "283565315.0"
        ],
        [
         "2018-02-12 00:00:00",
         "263.83",
         "267.01",
         "261.66",
         "265.34",
         "143735976.0"
        ],
        [
         "2018-02-13 00:00:00",
         "263.97",
         "266.62",
         "263.31",
         "266.0",
         "81223640.0"
        ],
        [
         "2018-02-14 00:00:00",
         "264.31",
         "270.0",
         "264.3",
         "269.59",
         "120735685.0"
        ],
        [
         "2018-02-15 00:00:00",
         "271.57",
         "273.04",
         "268.77",
         "273.03",
         "111200286.0"
        ],
        [
         "2018-02-16 00:00:00",
         "272.32",
         "275.32",
         "272.27",
         "273.11",
         "160420135.0"
        ],
        [
         "2018-02-20 00:00:00",
         "272.03",
         "273.67",
         "270.5",
         "271.4",
         "86369662.0"
        ],
        [
         "2018-02-21 00:00:00",
         "271.9",
         "274.72",
         "269.94",
         "270.05",
         "98883740.0"
        ],
        [
         "2018-02-22 00:00:00",
         "271.1",
         "273.05",
         "269.64",
         "270.4",
         "110511290.0"
        ],
        [
         "2018-02-23 00:00:00",
         "271.79",
         "274.71",
         "271.25",
         "274.71",
         "92766428.0"
        ],
        [
         "2018-02-26 00:00:00",
         "275.93",
         "278.01",
         "275.26",
         "277.9",
         "86491406.0"
        ],
        [
         "2018-02-27 00:00:00",
         "278.11",
         "278.92",
         "274.36",
         "274.43",
         "99099165.0"
        ],
        [
         "2018-02-28 00:00:00",
         "275.68",
         "276.19",
         "271.29",
         "271.65",
         "121907767.0"
        ],
        [
         "2018-03-01 00:00:00",
         "271.41",
         "273.17",
         "266.0",
         "267.7",
         "176855077.0"
        ],
        [
         "2018-03-02 00:00:00",
         "265.8",
         "269.72",
         "264.82",
         "269.08",
         "139083217.0"
        ],
        [
         "2018-03-05 00:00:00",
         "267.73",
         "272.89",
         "267.61",
         "272.19",
         "97307387.0"
        ],
        [
         "2018-03-06 00:00:00",
         "273.3",
         "273.39",
         "271.18",
         "272.88",
         "79213163.0"
        ],
        [
         "2018-03-07 00:00:00",
         "270.42",
         "273.18",
         "270.2",
         "272.78",
         "87063502.0"
        ],
        [
         "2018-03-08 00:00:00",
         "273.55",
         "274.24",
         "272.42",
         "274.1",
         "66901150.0"
        ],
        [
         "2018-03-09 00:00:00",
         "275.7",
         "278.87",
         "275.34",
         "278.87",
         "113625335.0"
        ],
        [
         "2018-03-12 00:00:00",
         "279.2",
         "279.91",
         "278.08",
         "278.52",
         "71924793.0"
        ],
        [
         "2018-03-13 00:00:00",
         "279.84",
         "280.41",
         "276.03",
         "276.72",
         "91968937.0"
        ],
        [
         "2018-03-14 00:00:00",
         "277.81",
         "278.02",
         "274.67",
         "275.3",
         "105895079.0"
        ],
        [
         "2018-03-15 00:00:00",
         "275.88",
         "276.61",
         "274.43",
         "275.0",
         "83433038.0"
        ],
        [
         "2018-03-16 00:00:00",
         "274.5",
         "275.39",
         "274.14",
         "274.2",
         "100343673.0"
        ],
        [
         "2018-03-19 00:00:00",
         "273.35",
         "274.4",
         "268.62",
         "270.49",
         "109208442.0"
        ],
        [
         "2018-03-20 00:00:00",
         "270.94",
         "271.67",
         "270.18",
         "270.95",
         "59757271.0"
        ],
        [
         "2018-03-21 00:00:00",
         "270.9",
         "273.27",
         "270.19",
         "270.43",
         "78709578.0"
        ],
        [
         "2018-03-22 00:00:00",
         "267.91",
         "268.87",
         "263.36",
         "263.67",
         "148785916.0"
        ],
        [
         "2018-03-23 00:00:00",
         "264.17",
         "264.54",
         "257.83",
         "258.05",
         "183534751.0"
        ],
        [
         "2018-03-26 00:00:00",
         "262.13",
         "265.43",
         "259.41",
         "265.11",
         "141956102.0"
        ],
        [
         "2018-03-27 00:00:00",
         "266.17",
         "266.77",
         "258.84",
         "260.6",
         "129941445.0"
        ],
        [
         "2018-03-28 00:00:00",
         "260.75",
         "262.64",
         "258.58",
         "259.83",
         "146452306.0"
        ],
        [
         "2018-03-29 00:00:00",
         "261.12",
         "265.26",
         "259.84",
         "263.15",
         "124244790.0"
        ],
        [
         "2018-04-02 00:00:00",
         "262.55",
         "263.13",
         "254.67",
         "257.47",
         "186286343.0"
        ],
        [
         "2018-04-03 00:00:00",
         "258.87",
         "261.31",
         "256.84",
         "260.77",
         "119956861.0"
        ],
        [
         "2018-04-04 00:00:00",
         "256.75",
         "264.36",
         "256.6",
         "263.56",
         "123715339.0"
        ],
        [
         "2018-04-05 00:00:00",
         "265.55",
         "266.64",
         "264.32",
         "265.64",
         "82652618.0"
        ],
        [
         "2018-04-06 00:00:00",
         "263.42",
         "265.11",
         "258.0",
         "259.72",
         "179521209.0"
        ],
        [
         "2018-04-09 00:00:00",
         "261.37",
         "264.84",
         "259.94",
         "261.0",
         "105442932.0"
        ],
        [
         "2018-04-10 00:00:00",
         "264.27",
         "266.04",
         "262.98",
         "265.15",
         "105573736.0"
        ],
        [
         "2018-04-11 00:00:00",
         "263.47",
         "265.64",
         "263.39",
         "263.76",
         "91140243.0"
        ],
        [
         "2018-04-12 00:00:00",
         "265.26",
         "267.0",
         "265.06",
         "265.93",
         "68890480.0"
        ],
        [
         "2018-04-13 00:00:00",
         "267.41",
         "267.54",
         "264.01",
         "265.15",
         "85079176.0"
        ]
       ],
       "shape": {
        "columns": 5,
        "rows": 1760
       }
      },
      "text/html": [
       "<div>\n",
       "<style scoped>\n",
       "    .dataframe tbody tr th:only-of-type {\n",
       "        vertical-align: middle;\n",
       "    }\n",
       "\n",
       "    .dataframe tbody tr th {\n",
       "        vertical-align: top;\n",
       "    }\n",
       "\n",
       "    .dataframe thead th {\n",
       "        text-align: right;\n",
       "    }\n",
       "</style>\n",
       "<table border=\"1\" class=\"dataframe\">\n",
       "  <thead>\n",
       "    <tr style=\"text-align: right;\">\n",
       "      <th></th>\n",
       "      <th>open</th>\n",
       "      <th>high</th>\n",
       "      <th>low</th>\n",
       "      <th>close</th>\n",
       "      <th>volume</th>\n",
       "    </tr>\n",
       "    <tr>\n",
       "      <th>date</th>\n",
       "      <th></th>\n",
       "      <th></th>\n",
       "      <th></th>\n",
       "      <th></th>\n",
       "      <th></th>\n",
       "    </tr>\n",
       "  </thead>\n",
       "  <tbody>\n",
       "    <tr>\n",
       "      <th>2018-02-01</th>\n",
       "      <td>281.07</td>\n",
       "      <td>283.06</td>\n",
       "      <td>280.680</td>\n",
       "      <td>281.58</td>\n",
       "      <td>90102470.0</td>\n",
       "    </tr>\n",
       "    <tr>\n",
       "      <th>2018-02-02</th>\n",
       "      <td>280.08</td>\n",
       "      <td>280.23</td>\n",
       "      <td>275.410</td>\n",
       "      <td>275.45</td>\n",
       "      <td>173174790.0</td>\n",
       "    </tr>\n",
       "    <tr>\n",
       "      <th>2018-02-05</th>\n",
       "      <td>273.45</td>\n",
       "      <td>275.85</td>\n",
       "      <td>263.310</td>\n",
       "      <td>263.93</td>\n",
       "      <td>294681816.0</td>\n",
       "    </tr>\n",
       "    <tr>\n",
       "      <th>2018-02-06</th>\n",
       "      <td>259.94</td>\n",
       "      <td>269.70</td>\n",
       "      <td>258.700</td>\n",
       "      <td>269.13</td>\n",
       "      <td>355026782.0</td>\n",
       "    </tr>\n",
       "    <tr>\n",
       "      <th>2018-02-07</th>\n",
       "      <td>268.50</td>\n",
       "      <td>272.36</td>\n",
       "      <td>267.580</td>\n",
       "      <td>267.67</td>\n",
       "      <td>167376100.0</td>\n",
       "    </tr>\n",
       "    <tr>\n",
       "      <th>...</th>\n",
       "      <td>...</td>\n",
       "      <td>...</td>\n",
       "      <td>...</td>\n",
       "      <td>...</td>\n",
       "      <td>...</td>\n",
       "    </tr>\n",
       "    <tr>\n",
       "      <th>2025-01-27</th>\n",
       "      <td>594.81</td>\n",
       "      <td>599.69</td>\n",
       "      <td>594.640</td>\n",
       "      <td>599.37</td>\n",
       "      <td>70361125.0</td>\n",
       "    </tr>\n",
       "    <tr>\n",
       "      <th>2025-01-28</th>\n",
       "      <td>600.62</td>\n",
       "      <td>605.37</td>\n",
       "      <td>597.250</td>\n",
       "      <td>604.52</td>\n",
       "      <td>44433322.0</td>\n",
       "    </tr>\n",
       "    <tr>\n",
       "      <th>2025-01-29</th>\n",
       "      <td>603.72</td>\n",
       "      <td>604.13</td>\n",
       "      <td>599.220</td>\n",
       "      <td>601.81</td>\n",
       "      <td>37177429.0</td>\n",
       "    </tr>\n",
       "    <tr>\n",
       "      <th>2025-01-30</th>\n",
       "      <td>603.96</td>\n",
       "      <td>606.60</td>\n",
       "      <td>600.715</td>\n",
       "      <td>605.04</td>\n",
       "      <td>39281255.0</td>\n",
       "    </tr>\n",
       "    <tr>\n",
       "      <th>2025-01-31</th>\n",
       "      <td>607.50</td>\n",
       "      <td>609.96</td>\n",
       "      <td>601.050</td>\n",
       "      <td>601.82</td>\n",
       "      <td>66671471.0</td>\n",
       "    </tr>\n",
       "  </tbody>\n",
       "</table>\n",
       "<p>1760 rows × 5 columns</p>\n",
       "</div>"
      ],
      "text/plain": [
       "              open    high      low   close       volume\n",
       "date                                                    \n",
       "2018-02-01  281.07  283.06  280.680  281.58   90102470.0\n",
       "2018-02-02  280.08  280.23  275.410  275.45  173174790.0\n",
       "2018-02-05  273.45  275.85  263.310  263.93  294681816.0\n",
       "2018-02-06  259.94  269.70  258.700  269.13  355026782.0\n",
       "2018-02-07  268.50  272.36  267.580  267.67  167376100.0\n",
       "...            ...     ...      ...     ...          ...\n",
       "2025-01-27  594.81  599.69  594.640  599.37   70361125.0\n",
       "2025-01-28  600.62  605.37  597.250  604.52   44433322.0\n",
       "2025-01-29  603.72  604.13  599.220  601.81   37177429.0\n",
       "2025-01-30  603.96  606.60  600.715  605.04   39281255.0\n",
       "2025-01-31  607.50  609.96  601.050  601.82   66671471.0\n",
       "\n",
       "[1760 rows x 5 columns]"
      ]
     },
     "execution_count": 8,
     "metadata": {},
     "output_type": "execute_result"
    }
   ],
   "source": [
    "data"
   ]
  },
  {
   "cell_type": "markdown",
   "metadata": {},
   "source": [
    "## 1."
   ]
  },
  {
   "cell_type": "code",
   "execution_count": 17,
   "metadata": {},
   "outputs": [
    {
     "name": "stderr",
     "output_type": "stream",
     "text": [
      "[*********************100%***********************]  1 of 1 completed\n"
     ]
    }
   ],
   "source": [
    "import yfinance as yf\n",
    "import pandas as pd\n",
    "\n",
    "# Define the ticker and date range\n",
    "symbol = 'SPY'\n",
    "start_date = '2018-02-01'\n",
    "end_date = '2025-02-01'\n",
    "\n",
    "# Download daily data from Yahoo Finance\n",
    "data = yf.download(symbol, start=start_date, end=end_date, auto_adjust=False)\n",
    "\n",
    "data = data.rename(columns={\n",
    "    'Open': 'open',\n",
    "    'High': 'high',\n",
    "    'Low': 'low',\n",
    "    'Close': 'close',\n",
    "    'Adj Close': 'adjusted_close',\n",
    "    'Volume': 'volume'\n",
    "})\n",
    "\n",
    "# Select only the relevant columns\n",
    "data = data[['open', 'high', 'low', 'close', 'adjusted_close', 'volume']]\n",
    "\n",
    "# Calculate daily returns based on adjusted close\n",
    "data['daily_return'] = data['adjusted_close'].pct_change()\n",
    "\n",
    "# Drop the first row with NaN\n",
    "data.dropna(inplace=True)\n",
    "\n",
    "# Save the data to CSV\n",
    "data.to_csv('SPY_Daily_Data.csv')"
   ]
  },
  {
   "cell_type": "code",
   "execution_count": 18,
   "metadata": {},
   "outputs": [
    {
     "data": {
      "application/vnd.microsoft.datawrangler.viewer.v0+json": {
       "columns": [
        {
         "name": "Date",
         "rawType": "datetime64[ns]",
         "type": "datetime"
        },
        {
         "name": "('open', 'SPY')",
         "rawType": "float64",
         "type": "float"
        },
        {
         "name": "('high', 'SPY')",
         "rawType": "float64",
         "type": "float"
        },
        {
         "name": "('low', 'SPY')",
         "rawType": "float64",
         "type": "float"
        },
        {
         "name": "('close', 'SPY')",
         "rawType": "float64",
         "type": "float"
        },
        {
         "name": "('adjusted_close', 'SPY')",
         "rawType": "float64",
         "type": "float"
        },
        {
         "name": "('volume', 'SPY')",
         "rawType": "int64",
         "type": "integer"
        },
        {
         "name": "('daily_return', '')",
         "rawType": "float64",
         "type": "float"
        }
       ],
       "conversionMethod": "pd.DataFrame",
       "ref": "de74db56-e76a-4655-ae2f-293348973498",
       "rows": [
        [
         "2018-02-02 00:00:00",
         "280.0799865722656",
         "280.2300109863281",
         "275.4100036621094",
         "275.45001220703125",
         "245.22088623046875",
         "173174800",
         "-0.021770225755362027"
        ],
        [
         "2018-02-05 00:00:00",
         "273.45001220703125",
         "275.8500061035156",
         "263.30999755859375",
         "263.92999267578125",
         "234.9651641845703",
         "294681800",
         "-0.04182238390680837"
        ],
        [
         "2018-02-06 00:00:00",
         "259.94000244140625",
         "269.70001220703125",
         "258.70001220703125",
         "269.1300048828125",
         "239.5945281982422",
         "355026800",
         "0.0197023419609359"
        ],
        [
         "2018-02-07 00:00:00",
         "268.5",
         "272.3599853515625",
         "267.5799865722656",
         "267.6700134277344",
         "238.29473876953125",
         "167376100",
         "-0.005424954561714657"
        ],
        [
         "2018-02-08 00:00:00",
         "268.010009765625",
         "268.1700134277344",
         "257.5899963378906",
         "257.6300048828125",
         "229.35658264160156",
         "246449500",
         "-0.03750882698494784"
        ],
        [
         "2018-02-09 00:00:00",
         "260.79998779296875",
         "263.6099853515625",
         "252.9199981689453",
         "261.5",
         "232.8019256591797",
         "283565300",
         "0.015021775167281426"
        ],
        [
         "2018-02-12 00:00:00",
         "263.8299865722656",
         "267.010009765625",
         "261.6600036621094",
         "265.3399963378906",
         "236.22042846679688",
         "143736000",
         "0.014684168947218357"
        ],
        [
         "2018-02-13 00:00:00",
         "263.9700012207031",
         "266.6199951171875",
         "263.30999755859375",
         "266.0",
         "236.8080291748047",
         "81223600",
         "0.0024875101269676847"
        ],
        [
         "2018-02-14 00:00:00",
         "264.30999755859375",
         "270.0",
         "264.29998779296875",
         "269.5899963378906",
         "240.00401306152344",
         "120735700",
         "0.013496095963703825"
        ],
        [
         "2018-02-15 00:00:00",
         "271.57000732421875",
         "273.0400085449219",
         "268.7699890136719",
         "273.0299987792969",
         "243.06654357910156",
         "111200300",
         "0.012760330456612179"
        ],
        [
         "2018-02-16 00:00:00",
         "272.32000732421875",
         "275.32000732421875",
         "272.2699890136719",
         "273.1099853515625",
         "243.13772583007812",
         "160420100",
         "0.0002928508791395501"
        ],
        [
         "2018-02-20 00:00:00",
         "272.0299987792969",
         "273.6700134277344",
         "270.5",
         "271.3999938964844",
         "241.6153564453125",
         "86369700",
         "-0.006261345825984921"
        ],
        [
         "2018-02-21 00:00:00",
         "271.8999938964844",
         "274.7200012207031",
         "269.94000244140625",
         "270.04998779296875",
         "240.4135284423828",
         "98883700",
         "-0.0049741374911396186"
        ],
        [
         "2018-02-22 00:00:00",
         "271.1000061035156",
         "273.04998779296875",
         "269.6400146484375",
         "270.3999938964844",
         "240.72515869140625",
         "110511300",
         "0.001296225928060224"
        ],
        [
         "2018-02-23 00:00:00",
         "271.7900085449219",
         "274.7099914550781",
         "271.25",
         "274.7099914550781",
         "244.56207275390625",
         "92766400",
         "0.015938982378732813"
        ],
        [
         "2018-02-26 00:00:00",
         "275.92999267578125",
         "278.010009765625",
         "275.260009765625",
         "277.8999938964844",
         "247.40203857421875",
         "86491400",
         "0.011612454001280303"
        ],
        [
         "2018-02-27 00:00:00",
         "278.1099853515625",
         "278.9200134277344",
         "274.3599853515625",
         "274.42999267578125",
         "244.31288146972656",
         "99099200",
         "-0.01248638500432353"
        ],
        [
         "2018-02-28 00:00:00",
         "275.67999267578125",
         "276.19000244140625",
         "271.2900085449219",
         "271.6499938964844",
         "241.83792114257812",
         "121907800",
         "-0.010130289947299032"
        ],
        [
         "2018-03-01 00:00:00",
         "271.4100036621094",
         "273.1700134277344",
         "266.0",
         "267.70001220703125",
         "238.32135009765625",
         "176855100",
         "-0.014541024121889623"
        ],
        [
         "2018-03-02 00:00:00",
         "265.79998779296875",
         "269.7200012207031",
         "264.82000732421875",
         "269.0799865722656",
         "239.54998779296875",
         "139083200",
         "0.005155382406188291"
        ],
        [
         "2018-03-05 00:00:00",
         "267.7300109863281",
         "272.8900146484375",
         "267.6099853515625",
         "272.19000244140625",
         "242.31871032714844",
         "97307400",
         "0.01155801575983606"
        ],
        [
         "2018-03-06 00:00:00",
         "273.29998779296875",
         "273.3900146484375",
         "271.17999267578125",
         "272.8800048828125",
         "242.9329833984375",
         "79213200",
         "0.002534979946285487"
        ],
        [
         "2018-03-07 00:00:00",
         "270.4200134277344",
         "273.17999267578125",
         "270.20001220703125",
         "272.7799987792969",
         "242.84400939941406",
         "87063500",
         "-0.00036624915142757786"
        ],
        [
         "2018-03-08 00:00:00",
         "273.54998779296875",
         "274.239990234375",
         "272.4200134277344",
         "274.1000061035156",
         "244.01910400390625",
         "66901200",
         "0.004838886523897967"
        ],
        [
         "2018-03-09 00:00:00",
         "275.70001220703125",
         "278.8699951171875",
         "275.3399963378906",
         "278.8699951171875",
         "248.26556396484375",
         "113625300",
         "0.01740216192609867"
        ],
        [
         "2018-03-12 00:00:00",
         "279.20001220703125",
         "279.9100036621094",
         "278.0799865722656",
         "278.5199890136719",
         "247.95401000976562",
         "71924800",
         "-0.0012549221490993911"
        ],
        [
         "2018-03-13 00:00:00",
         "279.8399963378906",
         "280.4100036621094",
         "276.0299987792969",
         "276.7200012207031",
         "246.35150146484375",
         "91968900",
         "-0.006462926511488054"
        ],
        [
         "2018-03-14 00:00:00",
         "277.80999755859375",
         "278.0199890136719",
         "274.6700134277344",
         "275.29998779296875",
         "245.08740234375",
         "105895100",
         "-0.005131282389501224"
        ],
        [
         "2018-03-15 00:00:00",
         "275.8800048828125",
         "276.6099853515625",
         "274.42999267578125",
         "275.0",
         "244.8203125",
         "83433000",
         "-0.001089773856982612"
        ],
        [
         "2018-03-16 00:00:00",
         "274.5",
         "275.3900146484375",
         "274.1400146484375",
         "274.20001220703125",
         "245.0857696533203",
         "100343700",
         "0.0010842938259885138"
        ],
        [
         "2018-03-19 00:00:00",
         "273.3500061035156",
         "274.3999938964844",
         "268.6199951171875",
         "270.489990234375",
         "241.7697296142578",
         "109208400",
         "-0.013530120674705493"
        ],
        [
         "2018-03-20 00:00:00",
         "270.94000244140625",
         "271.6700134277344",
         "270.17999267578125",
         "270.95001220703125",
         "242.18084716796875",
         "59757300",
         "0.0017004508975002608"
        ],
        [
         "2018-03-21 00:00:00",
         "270.8999938964844",
         "273.2699890136719",
         "270.19000244140625",
         "270.42999267578125",
         "241.7160186767578",
         "78709600",
         "-0.0019193445586080937"
        ],
        [
         "2018-03-22 00:00:00",
         "267.9100036621094",
         "268.8699951171875",
         "263.3599853515625",
         "263.6700134277344",
         "235.67385864257812",
         "148785900",
         "-0.024996936765948274"
        ],
        [
         "2018-03-23 00:00:00",
         "264.1700134277344",
         "264.5400085449219",
         "257.8299865722656",
         "258.04998779296875",
         "230.65052795410156",
         "183534800",
         "-0.02131475555842166"
        ],
        [
         "2018-03-26 00:00:00",
         "262.1300048828125",
         "265.42999267578125",
         "259.4100036621094",
         "265.1099853515625",
         "236.9609375",
         "141956100",
         "0.027359181016720635"
        ],
        [
         "2018-03-27 00:00:00",
         "266.1700134277344",
         "266.7699890136719",
         "258.8399963378906",
         "260.6000061035156",
         "232.92979431152344",
         "129941400",
         "-0.017011846893442373"
        ],
        [
         "2018-03-28 00:00:00",
         "260.75",
         "262.6400146484375",
         "258.5799865722656",
         "259.8299865722656",
         "232.24151611328125",
         "146452300",
         "-0.0029548740223488412"
        ],
        [
         "2018-03-29 00:00:00",
         "261.1199951171875",
         "265.260009765625",
         "259.8399963378906",
         "263.1499938964844",
         "235.20899963378906",
         "111601600",
         "0.012777575560867227"
        ],
        [
         "2018-04-02 00:00:00",
         "262.54998779296875",
         "263.1300048828125",
         "254.6699981689453",
         "257.4700012207031",
         "230.1321563720703",
         "186286300",
         "-0.02158439204972251"
        ],
        [
         "2018-04-03 00:00:00",
         "258.8699951171875",
         "261.30999755859375",
         "256.8399963378906",
         "260.7699890136719",
         "233.081787109375",
         "119956900",
         "0.01281711684192377"
        ],
        [
         "2018-04-04 00:00:00",
         "256.75",
         "264.3599853515625",
         "256.6000061035156",
         "263.55999755859375",
         "235.57553100585938",
         "123715300",
         "0.010699007963733242"
        ],
        [
         "2018-04-05 00:00:00",
         "265.54998779296875",
         "266.6400146484375",
         "264.32000732421875",
         "265.6400146484375",
         "237.43467712402344",
         "82652600",
         "0.007891932197821694"
        ],
        [
         "2018-04-06 00:00:00",
         "263.4200134277344",
         "265.1099853515625",
         "258.0",
         "259.7200012207031",
         "232.1431427001953",
         "179521200",
         "-0.022286274641610593"
        ],
        [
         "2018-04-09 00:00:00",
         "261.3699951171875",
         "264.8399963378906",
         "259.94000244140625",
         "261.0",
         "233.2873077392578",
         "105442900",
         "0.004928704874733958"
        ],
        [
         "2018-04-10 00:00:00",
         "264.2699890136719",
         "266.0400085449219",
         "262.9800109863281",
         "265.1499938964844",
         "236.99667358398438",
         "103529000",
         "0.01590041858973512"
        ],
        [
         "2018-04-11 00:00:00",
         "263.4700012207031",
         "265.6400146484375",
         "263.3900146484375",
         "263.760009765625",
         "235.7542266845703",
         "91140200",
         "-0.005242465561331122"
        ],
        [
         "2018-04-12 00:00:00",
         "265.260009765625",
         "267.0",
         "265.05999755859375",
         "265.92999267578125",
         "237.69383239746094",
         "68890500",
         "0.00822723622039545"
        ],
        [
         "2018-04-13 00:00:00",
         "267.4100036621094",
         "267.5400085449219",
         "264.010009765625",
         "265.1499938964844",
         "236.99667358398438",
         "85079200",
         "-0.0029330117927115484"
        ],
        [
         "2018-04-16 00:00:00",
         "267.0",
         "268.20001220703125",
         "266.07000732421875",
         "267.3299865722656",
         "238.94522094726562",
         "63405300",
         "0.008221834230051961"
        ]
       ],
       "shape": {
        "columns": 7,
        "rows": 1759
       }
      },
      "text/html": [
       "<div>\n",
       "<style scoped>\n",
       "    .dataframe tbody tr th:only-of-type {\n",
       "        vertical-align: middle;\n",
       "    }\n",
       "\n",
       "    .dataframe tbody tr th {\n",
       "        vertical-align: top;\n",
       "    }\n",
       "\n",
       "    .dataframe thead tr th {\n",
       "        text-align: left;\n",
       "    }\n",
       "\n",
       "    .dataframe thead tr:last-of-type th {\n",
       "        text-align: right;\n",
       "    }\n",
       "</style>\n",
       "<table border=\"1\" class=\"dataframe\">\n",
       "  <thead>\n",
       "    <tr>\n",
       "      <th>Price</th>\n",
       "      <th>open</th>\n",
       "      <th>high</th>\n",
       "      <th>low</th>\n",
       "      <th>close</th>\n",
       "      <th>adjusted_close</th>\n",
       "      <th>volume</th>\n",
       "      <th>daily_return</th>\n",
       "    </tr>\n",
       "    <tr>\n",
       "      <th>Ticker</th>\n",
       "      <th>SPY</th>\n",
       "      <th>SPY</th>\n",
       "      <th>SPY</th>\n",
       "      <th>SPY</th>\n",
       "      <th>SPY</th>\n",
       "      <th>SPY</th>\n",
       "      <th></th>\n",
       "    </tr>\n",
       "    <tr>\n",
       "      <th>Date</th>\n",
       "      <th></th>\n",
       "      <th></th>\n",
       "      <th></th>\n",
       "      <th></th>\n",
       "      <th></th>\n",
       "      <th></th>\n",
       "      <th></th>\n",
       "    </tr>\n",
       "  </thead>\n",
       "  <tbody>\n",
       "    <tr>\n",
       "      <th>2018-02-02</th>\n",
       "      <td>280.079987</td>\n",
       "      <td>280.230011</td>\n",
       "      <td>275.410004</td>\n",
       "      <td>275.450012</td>\n",
       "      <td>245.220886</td>\n",
       "      <td>173174800</td>\n",
       "      <td>-0.021770</td>\n",
       "    </tr>\n",
       "    <tr>\n",
       "      <th>2018-02-05</th>\n",
       "      <td>273.450012</td>\n",
       "      <td>275.850006</td>\n",
       "      <td>263.309998</td>\n",
       "      <td>263.929993</td>\n",
       "      <td>234.965164</td>\n",
       "      <td>294681800</td>\n",
       "      <td>-0.041822</td>\n",
       "    </tr>\n",
       "    <tr>\n",
       "      <th>2018-02-06</th>\n",
       "      <td>259.940002</td>\n",
       "      <td>269.700012</td>\n",
       "      <td>258.700012</td>\n",
       "      <td>269.130005</td>\n",
       "      <td>239.594528</td>\n",
       "      <td>355026800</td>\n",
       "      <td>0.019702</td>\n",
       "    </tr>\n",
       "    <tr>\n",
       "      <th>2018-02-07</th>\n",
       "      <td>268.500000</td>\n",
       "      <td>272.359985</td>\n",
       "      <td>267.579987</td>\n",
       "      <td>267.670013</td>\n",
       "      <td>238.294739</td>\n",
       "      <td>167376100</td>\n",
       "      <td>-0.005425</td>\n",
       "    </tr>\n",
       "    <tr>\n",
       "      <th>2018-02-08</th>\n",
       "      <td>268.010010</td>\n",
       "      <td>268.170013</td>\n",
       "      <td>257.589996</td>\n",
       "      <td>257.630005</td>\n",
       "      <td>229.356583</td>\n",
       "      <td>246449500</td>\n",
       "      <td>-0.037509</td>\n",
       "    </tr>\n",
       "    <tr>\n",
       "      <th>...</th>\n",
       "      <td>...</td>\n",
       "      <td>...</td>\n",
       "      <td>...</td>\n",
       "      <td>...</td>\n",
       "      <td>...</td>\n",
       "      <td>...</td>\n",
       "      <td>...</td>\n",
       "    </tr>\n",
       "    <tr>\n",
       "      <th>2025-01-27</th>\n",
       "      <td>594.809998</td>\n",
       "      <td>599.690002</td>\n",
       "      <td>594.640015</td>\n",
       "      <td>599.369995</td>\n",
       "      <td>597.572388</td>\n",
       "      <td>70361100</td>\n",
       "      <td>-0.014145</td>\n",
       "    </tr>\n",
       "    <tr>\n",
       "      <th>2025-01-28</th>\n",
       "      <td>600.619995</td>\n",
       "      <td>605.369995</td>\n",
       "      <td>597.250000</td>\n",
       "      <td>604.520020</td>\n",
       "      <td>602.706970</td>\n",
       "      <td>44433300</td>\n",
       "      <td>0.008592</td>\n",
       "    </tr>\n",
       "    <tr>\n",
       "      <th>2025-01-29</th>\n",
       "      <td>603.719971</td>\n",
       "      <td>604.130005</td>\n",
       "      <td>599.219971</td>\n",
       "      <td>601.809998</td>\n",
       "      <td>600.005066</td>\n",
       "      <td>37177400</td>\n",
       "      <td>-0.004483</td>\n",
       "    </tr>\n",
       "    <tr>\n",
       "      <th>2025-01-30</th>\n",
       "      <td>603.960022</td>\n",
       "      <td>606.599976</td>\n",
       "      <td>600.719971</td>\n",
       "      <td>605.039978</td>\n",
       "      <td>603.225342</td>\n",
       "      <td>39281300</td>\n",
       "      <td>0.005367</td>\n",
       "    </tr>\n",
       "    <tr>\n",
       "      <th>2025-01-31</th>\n",
       "      <td>607.500000</td>\n",
       "      <td>609.960022</td>\n",
       "      <td>601.049988</td>\n",
       "      <td>601.820007</td>\n",
       "      <td>600.015015</td>\n",
       "      <td>66671500</td>\n",
       "      <td>-0.005322</td>\n",
       "    </tr>\n",
       "  </tbody>\n",
       "</table>\n",
       "<p>1759 rows × 7 columns</p>\n",
       "</div>"
      ],
      "text/plain": [
       "Price             open        high         low       close adjusted_close  \\\n",
       "Ticker             SPY         SPY         SPY         SPY            SPY   \n",
       "Date                                                                        \n",
       "2018-02-02  280.079987  280.230011  275.410004  275.450012     245.220886   \n",
       "2018-02-05  273.450012  275.850006  263.309998  263.929993     234.965164   \n",
       "2018-02-06  259.940002  269.700012  258.700012  269.130005     239.594528   \n",
       "2018-02-07  268.500000  272.359985  267.579987  267.670013     238.294739   \n",
       "2018-02-08  268.010010  268.170013  257.589996  257.630005     229.356583   \n",
       "...                ...         ...         ...         ...            ...   \n",
       "2025-01-27  594.809998  599.690002  594.640015  599.369995     597.572388   \n",
       "2025-01-28  600.619995  605.369995  597.250000  604.520020     602.706970   \n",
       "2025-01-29  603.719971  604.130005  599.219971  601.809998     600.005066   \n",
       "2025-01-30  603.960022  606.599976  600.719971  605.039978     603.225342   \n",
       "2025-01-31  607.500000  609.960022  601.049988  601.820007     600.015015   \n",
       "\n",
       "Price          volume daily_return  \n",
       "Ticker            SPY               \n",
       "Date                                \n",
       "2018-02-02  173174800    -0.021770  \n",
       "2018-02-05  294681800    -0.041822  \n",
       "2018-02-06  355026800     0.019702  \n",
       "2018-02-07  167376100    -0.005425  \n",
       "2018-02-08  246449500    -0.037509  \n",
       "...               ...          ...  \n",
       "2025-01-27   70361100    -0.014145  \n",
       "2025-01-28   44433300     0.008592  \n",
       "2025-01-29   37177400    -0.004483  \n",
       "2025-01-30   39281300     0.005367  \n",
       "2025-01-31   66671500    -0.005322  \n",
       "\n",
       "[1759 rows x 7 columns]"
      ]
     },
     "execution_count": 18,
     "metadata": {},
     "output_type": "execute_result"
    }
   ],
   "source": [
    "data"
   ]
  },
  {
   "cell_type": "markdown",
   "metadata": {},
   "source": [
    "## 2."
   ]
  },
  {
   "cell_type": "code",
   "execution_count": null,
   "metadata": {},
   "outputs": [],
   "source": [
    "# Define the time range\n",
    "start_date = '2018-02-01'\n",
    "end_date = '2025-02-01'\n",
    "\n",
    "# Fetch the daily 2-Year and 10-Year Treasury yields from FRED\n",
    "dgs2 = web.DataReader('DGS2', 'fred', start_date, end_date)\n",
    "dgs10 = web.DataReader('DGS10', 'fred', start_date, end_date)\n",
    "\n",
    "# Combine the two datasets into a single DataFrame\n",
    "treasury_data = pd.concat([dgs2, dgs10], axis=1)\n",
    "treasury_data.columns = ['2yr_yield', '10yr_yield']\n",
    "\n",
    "# Calculate the daily yield spread (10-Year minus 2-Year)\n",
    "treasury_data['yield_spread'] = treasury_data['10yr_yield'] - treasury_data['2yr_yield']\n",
    "\n",
    "# Drop any rows with missing values (optional)\n",
    "treasury_data.dropna(inplace=True)\n",
    "\n",
    "# Save the data to a CSV file\n",
    "treasury_data.to_csv('Treasury_Yields.csv')"
   ]
  },
  {
   "cell_type": "code",
   "execution_count": 22,
   "metadata": {},
   "outputs": [
    {
     "data": {
      "application/vnd.microsoft.datawrangler.viewer.v0+json": {
       "columns": [
        {
         "name": "DATE",
         "rawType": "datetime64[ns]",
         "type": "datetime"
        },
        {
         "name": "2yr_yield",
         "rawType": "float64",
         "type": "float"
        },
        {
         "name": "10yr_yield",
         "rawType": "float64",
         "type": "float"
        },
        {
         "name": "yield_spread",
         "rawType": "float64",
         "type": "float"
        }
       ],
       "conversionMethod": "pd.DataFrame",
       "ref": "14aee1b9-e201-4e83-86d0-61d1cf115e43",
       "rows": [
        [
         "2017-07-03 00:00:00",
         "1.41",
         "2.35",
         "0.9400000000000002"
        ],
        [
         "2017-07-05 00:00:00",
         "1.41",
         "2.33",
         "0.9200000000000002"
        ],
        [
         "2017-07-06 00:00:00",
         "1.4",
         "2.37",
         "0.9700000000000002"
        ],
        [
         "2017-07-07 00:00:00",
         "1.4",
         "2.39",
         "0.9900000000000002"
        ],
        [
         "2017-07-10 00:00:00",
         "1.4",
         "2.38",
         "0.98"
        ],
        [
         "2017-07-11 00:00:00",
         "1.37",
         "2.37",
         "1.0"
        ],
        [
         "2017-07-12 00:00:00",
         "1.35",
         "2.33",
         "0.98"
        ],
        [
         "2017-07-13 00:00:00",
         "1.37",
         "2.35",
         "0.98"
        ],
        [
         "2017-07-14 00:00:00",
         "1.35",
         "2.33",
         "0.98"
        ],
        [
         "2017-07-17 00:00:00",
         "1.36",
         "2.31",
         "0.95"
        ],
        [
         "2017-07-18 00:00:00",
         "1.36",
         "2.27",
         "0.9099999999999999"
        ],
        [
         "2017-07-19 00:00:00",
         "1.37",
         "2.27",
         "0.8999999999999999"
        ],
        [
         "2017-07-20 00:00:00",
         "1.37",
         "2.27",
         "0.8999999999999999"
        ],
        [
         "2017-07-21 00:00:00",
         "1.36",
         "2.24",
         "0.8800000000000001"
        ],
        [
         "2017-07-24 00:00:00",
         "1.37",
         "2.26",
         "0.8899999999999997"
        ],
        [
         "2017-07-25 00:00:00",
         "1.4",
         "2.33",
         "0.9300000000000002"
        ],
        [
         "2017-07-26 00:00:00",
         "1.36",
         "2.29",
         "0.9299999999999999"
        ],
        [
         "2017-07-27 00:00:00",
         "1.36",
         "2.32",
         "0.9599999999999997"
        ],
        [
         "2017-07-28 00:00:00",
         "1.34",
         "2.3",
         "0.9599999999999997"
        ],
        [
         "2017-07-31 00:00:00",
         "1.34",
         "2.3",
         "0.9599999999999997"
        ],
        [
         "2017-08-01 00:00:00",
         "1.34",
         "2.26",
         "0.9199999999999997"
        ],
        [
         "2017-08-02 00:00:00",
         "1.36",
         "2.27",
         "0.9099999999999999"
        ],
        [
         "2017-08-03 00:00:00",
         "1.34",
         "2.24",
         "0.9000000000000001"
        ],
        [
         "2017-08-04 00:00:00",
         "1.36",
         "2.27",
         "0.9099999999999999"
        ],
        [
         "2017-08-07 00:00:00",
         "1.36",
         "2.26",
         "0.8999999999999997"
        ],
        [
         "2017-08-08 00:00:00",
         "1.36",
         "2.29",
         "0.9299999999999999"
        ],
        [
         "2017-08-09 00:00:00",
         "1.33",
         "2.24",
         "0.9100000000000001"
        ],
        [
         "2017-08-10 00:00:00",
         "1.33",
         "2.2",
         "0.8700000000000001"
        ],
        [
         "2017-08-11 00:00:00",
         "1.3",
         "2.19",
         "0.8899999999999999"
        ],
        [
         "2017-08-14 00:00:00",
         "1.33",
         "2.22",
         "0.8900000000000001"
        ],
        [
         "2017-08-15 00:00:00",
         "1.35",
         "2.27",
         "0.9199999999999999"
        ],
        [
         "2017-08-16 00:00:00",
         "1.33",
         "2.23",
         "0.8999999999999999"
        ],
        [
         "2017-08-17 00:00:00",
         "1.32",
         "2.19",
         "0.8699999999999999"
        ],
        [
         "2017-08-18 00:00:00",
         "1.33",
         "2.19",
         "0.8599999999999999"
        ],
        [
         "2017-08-21 00:00:00",
         "1.32",
         "2.18",
         "0.8600000000000001"
        ],
        [
         "2017-08-22 00:00:00",
         "1.33",
         "2.22",
         "0.8900000000000001"
        ],
        [
         "2017-08-23 00:00:00",
         "1.32",
         "2.17",
         "0.8499999999999999"
        ],
        [
         "2017-08-24 00:00:00",
         "1.33",
         "2.19",
         "0.8599999999999999"
        ],
        [
         "2017-08-25 00:00:00",
         "1.35",
         "2.17",
         "0.8199999999999998"
        ],
        [
         "2017-08-28 00:00:00",
         "1.33",
         "2.16",
         "0.8300000000000001"
        ],
        [
         "2017-08-29 00:00:00",
         "1.33",
         "2.13",
         "0.7999999999999998"
        ],
        [
         "2017-08-30 00:00:00",
         "1.33",
         "2.15",
         "0.8199999999999998"
        ],
        [
         "2017-08-31 00:00:00",
         "1.33",
         "2.12",
         "0.79"
        ],
        [
         "2017-09-01 00:00:00",
         "1.35",
         "2.16",
         "0.81"
        ],
        [
         "2017-09-05 00:00:00",
         "1.3",
         "2.07",
         "0.7699999999999998"
        ],
        [
         "2017-09-06 00:00:00",
         "1.3",
         "2.1",
         "0.8"
        ],
        [
         "2017-09-07 00:00:00",
         "1.27",
         "2.05",
         "0.7799999999999998"
        ],
        [
         "2017-09-08 00:00:00",
         "1.27",
         "2.06",
         "0.79"
        ],
        [
         "2017-09-11 00:00:00",
         "1.32",
         "2.14",
         "0.8200000000000001"
        ],
        [
         "2017-09-12 00:00:00",
         "1.33",
         "2.17",
         "0.8399999999999999"
        ]
       ],
       "shape": {
        "columns": 3,
        "rows": 1750
       }
      },
      "text/html": [
       "<div>\n",
       "<style scoped>\n",
       "    .dataframe tbody tr th:only-of-type {\n",
       "        vertical-align: middle;\n",
       "    }\n",
       "\n",
       "    .dataframe tbody tr th {\n",
       "        vertical-align: top;\n",
       "    }\n",
       "\n",
       "    .dataframe thead th {\n",
       "        text-align: right;\n",
       "    }\n",
       "</style>\n",
       "<table border=\"1\" class=\"dataframe\">\n",
       "  <thead>\n",
       "    <tr style=\"text-align: right;\">\n",
       "      <th></th>\n",
       "      <th>2yr_yield</th>\n",
       "      <th>10yr_yield</th>\n",
       "      <th>yield_spread</th>\n",
       "    </tr>\n",
       "    <tr>\n",
       "      <th>DATE</th>\n",
       "      <th></th>\n",
       "      <th></th>\n",
       "      <th></th>\n",
       "    </tr>\n",
       "  </thead>\n",
       "  <tbody>\n",
       "    <tr>\n",
       "      <th>2017-07-03</th>\n",
       "      <td>1.41</td>\n",
       "      <td>2.35</td>\n",
       "      <td>0.94</td>\n",
       "    </tr>\n",
       "    <tr>\n",
       "      <th>2017-07-05</th>\n",
       "      <td>1.41</td>\n",
       "      <td>2.33</td>\n",
       "      <td>0.92</td>\n",
       "    </tr>\n",
       "    <tr>\n",
       "      <th>2017-07-06</th>\n",
       "      <td>1.40</td>\n",
       "      <td>2.37</td>\n",
       "      <td>0.97</td>\n",
       "    </tr>\n",
       "    <tr>\n",
       "      <th>2017-07-07</th>\n",
       "      <td>1.40</td>\n",
       "      <td>2.39</td>\n",
       "      <td>0.99</td>\n",
       "    </tr>\n",
       "    <tr>\n",
       "      <th>2017-07-10</th>\n",
       "      <td>1.40</td>\n",
       "      <td>2.38</td>\n",
       "      <td>0.98</td>\n",
       "    </tr>\n",
       "    <tr>\n",
       "      <th>...</th>\n",
       "      <td>...</td>\n",
       "      <td>...</td>\n",
       "      <td>...</td>\n",
       "    </tr>\n",
       "    <tr>\n",
       "      <th>2024-06-25</th>\n",
       "      <td>4.65</td>\n",
       "      <td>4.23</td>\n",
       "      <td>-0.42</td>\n",
       "    </tr>\n",
       "    <tr>\n",
       "      <th>2024-06-26</th>\n",
       "      <td>4.71</td>\n",
       "      <td>4.32</td>\n",
       "      <td>-0.39</td>\n",
       "    </tr>\n",
       "    <tr>\n",
       "      <th>2024-06-27</th>\n",
       "      <td>4.70</td>\n",
       "      <td>4.29</td>\n",
       "      <td>-0.41</td>\n",
       "    </tr>\n",
       "    <tr>\n",
       "      <th>2024-06-28</th>\n",
       "      <td>4.71</td>\n",
       "      <td>4.36</td>\n",
       "      <td>-0.35</td>\n",
       "    </tr>\n",
       "    <tr>\n",
       "      <th>2024-07-01</th>\n",
       "      <td>4.77</td>\n",
       "      <td>4.48</td>\n",
       "      <td>-0.29</td>\n",
       "    </tr>\n",
       "  </tbody>\n",
       "</table>\n",
       "<p>1750 rows × 3 columns</p>\n",
       "</div>"
      ],
      "text/plain": [
       "            2yr_yield  10yr_yield  yield_spread\n",
       "DATE                                           \n",
       "2017-07-03       1.41        2.35          0.94\n",
       "2017-07-05       1.41        2.33          0.92\n",
       "2017-07-06       1.40        2.37          0.97\n",
       "2017-07-07       1.40        2.39          0.99\n",
       "2017-07-10       1.40        2.38          0.98\n",
       "...               ...         ...           ...\n",
       "2024-06-25       4.65        4.23         -0.42\n",
       "2024-06-26       4.71        4.32         -0.39\n",
       "2024-06-27       4.70        4.29         -0.41\n",
       "2024-06-28       4.71        4.36         -0.35\n",
       "2024-07-01       4.77        4.48         -0.29\n",
       "\n",
       "[1750 rows x 3 columns]"
      ]
     },
     "execution_count": 22,
     "metadata": {},
     "output_type": "execute_result"
    }
   ],
   "source": [
    "treasury_data"
   ]
  },
  {
   "cell_type": "code",
   "execution_count": 26,
   "metadata": {},
   "outputs": [
    {
     "name": "stdout",
     "output_type": "stream",
     "text": [
      "Downloading VXX...\n"
     ]
    },
    {
     "name": "stderr",
     "output_type": "stream",
     "text": [
      "[*********************100%***********************]  1 of 1 completed\n",
      "[*********************100%***********************]  1 of 1 completed\n"
     ]
    },
    {
     "name": "stdout",
     "output_type": "stream",
     "text": [
      "Downloading GLD...\n",
      "Downloading UUP...\n"
     ]
    },
    {
     "name": "stderr",
     "output_type": "stream",
     "text": [
      "[*********************100%***********************]  1 of 1 completed\n"
     ]
    },
    {
     "name": "stdout",
     "output_type": "stream",
     "text": [
      "Downloading USO...\n"
     ]
    },
    {
     "name": "stderr",
     "output_type": "stream",
     "text": [
      "[*********************100%***********************]  1 of 1 completed\n"
     ]
    },
    {
     "name": "stdout",
     "output_type": "stream",
     "text": [
      "Downloading QQQ...\n"
     ]
    },
    {
     "name": "stderr",
     "output_type": "stream",
     "text": [
      "[*********************100%***********************]  1 of 1 completed"
     ]
    },
    {
     "name": "stdout",
     "output_type": "stream",
     "text": [
      "Price      VXX_daily_return GLD_daily_return UUP_daily_return  \\\n",
      "Ticker                                                          \n",
      "Date                                                            \n",
      "2018-02-02         0.128594        -0.013118         0.006053   \n",
      "2018-02-05         0.335160         0.002532         0.004298   \n",
      "2018-02-06        -0.016963        -0.010496         0.002139   \n",
      "2018-02-07         0.033027        -0.004706         0.007686   \n",
      "2018-02-08         0.238886         0.001523         0.000000   \n",
      "\n",
      "Price      USO_daily_return QQQ_daily_return  \n",
      "Ticker                                        \n",
      "Date                                          \n",
      "2018-02-02        -0.015106        -0.019945  \n",
      "2018-02-05        -0.020705        -0.039426  \n",
      "2018-02-06        -0.005482         0.026499  \n",
      "2018-02-07        -0.025984        -0.012938  \n",
      "2018-02-08        -0.022635        -0.042195  \n",
      "Price      VXX_daily_return GLD_daily_return UUP_daily_return  \\\n",
      "Ticker                                                          \n",
      "Date                                                            \n",
      "2025-01-27         0.065884        -0.010405         0.000342   \n",
      "2025-01-28        -0.033041         0.008656         0.004108   \n",
      "2025-01-29        -0.002557        -0.003840         0.002046   \n",
      "2025-01-30        -0.005360         0.015146         0.000000   \n",
      "2025-01-31         0.033739         0.001976         0.004083   \n",
      "\n",
      "Price      USO_daily_return QQQ_daily_return  \n",
      "Ticker                                        \n",
      "Date                                          \n",
      "2025-01-27        -0.020980        -0.029115  \n",
      "2025-01-28         0.011934         0.014780  \n",
      "2025-01-29        -0.013695        -0.001878  \n",
      "2025-01-30        -0.000386         0.004262  \n",
      "2025-01-31         0.003473        -0.001453  \n"
     ]
    },
    {
     "name": "stderr",
     "output_type": "stream",
     "text": [
      "\n"
     ]
    }
   ],
   "source": [
    "import yfinance as yf\n",
    "import pandas as pd\n",
    "\n",
    "# Define symbols and time range\n",
    "symbols = ['VXX', 'GLD', 'UUP', 'USO', 'QQQ']\n",
    "start_date = '2018-02-01'\n",
    "end_date = '2025-02-01'\n",
    "\n",
    "# Initialize DataFrame to collect all daily returns\n",
    "all_data = pd.DataFrame()\n",
    "\n",
    "# Loop through each symbol\n",
    "for symbol in symbols:\n",
    "    print(f'Downloading {symbol}...')\n",
    "    \n",
    "    # Download data with adjusted close included\n",
    "    data = yf.download(symbol, start=start_date, end=end_date, auto_adjust=False)\n",
    "\n",
    "    # Rename adjusted close to custom name\n",
    "    data = data[['Adj Close']].rename(columns={'Adj Close': f'{symbol}_adj_close'})\n",
    "    \n",
    "    # Calculate daily return\n",
    "    data[f'{symbol}_daily_return'] = data[f'{symbol}_adj_close'].pct_change()\n",
    "    \n",
    "    # Keep only the daily return column\n",
    "    data = data[[f'{symbol}_daily_return']]\n",
    "    \n",
    "    # Merge into the master DataFrame\n",
    "    if all_data.empty:\n",
    "        all_data = data\n",
    "    else:\n",
    "        all_data = pd.merge(all_data, data, left_index=True, right_index=True, how='outer')\n",
    "\n",
    "# Drop rows where all returns are NaN (e.g., holidays)\n",
    "all_data.dropna(how='all', inplace=True)\n",
    "\n",
    "# Save to CSV\n",
    "all_data.to_csv('VXX_GLD_UUP_USO_QQQ_Daily_Returns.csv')\n",
    "\n",
    "# Preview\n",
    "print(all_data.head())\n",
    "print(all_data.tail())\n"
   ]
  },
  {
   "cell_type": "code",
   "execution_count": 27,
   "metadata": {},
   "outputs": [
    {
     "data": {
      "application/vnd.microsoft.datawrangler.viewer.v0+json": {
       "columns": [
        {
         "name": "Date",
         "rawType": "datetime64[ns]",
         "type": "datetime"
        },
        {
         "name": "('VXX_daily_return', '')",
         "rawType": "float64",
         "type": "float"
        },
        {
         "name": "('GLD_daily_return', '')",
         "rawType": "float64",
         "type": "float"
        },
        {
         "name": "('UUP_daily_return', '')",
         "rawType": "float64",
         "type": "float"
        },
        {
         "name": "('USO_daily_return', '')",
         "rawType": "float64",
         "type": "float"
        },
        {
         "name": "('QQQ_daily_return', '')",
         "rawType": "float64",
         "type": "float"
        }
       ],
       "conversionMethod": "pd.DataFrame",
       "ref": "28d60529-0393-4367-be22-51fdd0e2e75e",
       "rows": [
        [
         "2018-02-02 00:00:00",
         "0.12859443013840144",
         "-0.013117887393550687",
         "0.0060527824986253975",
         "-0.015105726036447331",
         "-0.019945042345704378"
        ],
        [
         "2018-02-05 00:00:00",
         "0.33515989794958556",
         "0.002531843471552664",
         "0.004297513140926856",
         "-0.020705483503006716",
         "-0.03942641131877511"
        ],
        [
         "2018-02-06 00:00:00",
         "-0.01696305223091077",
         "-0.010496423649786535",
         "0.002139420204666287",
         "-0.005481648080597923",
         "0.026498758450133275"
        ],
        [
         "2018-02-07 00:00:00",
         "0.03302717666491106",
         "-0.004705665583148222",
         "0.007685771659649454",
         "-0.02598424635135088",
         "-0.012938146878965884"
        ],
        [
         "2018-02-08 00:00:00",
         "0.2388863756385593",
         "0.0015225774502147793",
         "0.0",
         "-0.02263538686835942",
         "-0.042194518144650806"
        ],
        [
         "2018-02-09 00:00:00",
         "-0.08880031712176872",
         "-0.0016803225174144565",
         "0.0008474093126236149",
         "-0.019024027544070177",
         "0.017269525626778304"
        ],
        [
         "2018-02-12 00:00:00",
         "-0.034407310744579145",
         "0.004808897328354433",
         "-0.0033869540357560624",
         "0.002529568930351278",
         "0.017744766835847248"
        ],
        [
         "2018-02-13 00:00:00",
         "-0.011946406291901246",
         "0.0056632293923437604",
         "-0.005522528202710819",
         "-0.0016821242376922063",
         "0.005161384790402845"
        ],
        [
         "2018-02-14 00:00:00",
         "-0.11444656115825558",
         "0.017052616317100977",
         "-0.007689149168871978",
         "0.026116295080494734",
         "0.01872382810034967"
        ],
        [
         "2018-02-15 00:00:00",
         "-0.023069669321958197",
         "0.001169844500285011",
         "-0.00430472357411793",
         "0.012315239308042791",
         "0.01856424515589361"
        ],
        [
         "2018-02-16 00:00:00",
         "0.014939733298428015",
         "-0.003271582663696204",
         "0.0069176019412235945",
         "0.004055165534813332",
         "-0.004465878029096371"
        ],
        [
         "2018-02-20 00:00:00",
         "0.040835737519477666",
         "-0.013441710167313103",
         "0.006440496389662709",
         "0.0008077729232143227",
         "0.002000299520475979"
        ],
        [
         "2018-02-21 00:00:00",
         "0.015054740992585192",
         "-0.004594377467322608",
         "0.003839512643583065",
         "-0.008071055585048392",
         "-0.0028433504370530827"
        ],
        [
         "2018-02-22 00:00:00",
         "-0.013033749012464901",
         "0.005093103382117992",
         "-0.0033999088670692013",
         "0.024410105098945145",
         "-0.00012160129956895194"
        ],
        [
         "2018-02-23 00:00:00",
         "-0.07809646251086999",
         "-0.0012668539845070992",
         "0.002132215816095684",
         "0.014297085225911",
         "0.020448904327510675"
        ],
        [
         "2018-02-26 00:00:00",
         "-0.02988399231935379",
         "0.0024575674654647717",
         "-0.0012766638021041166",
         "0.007047705222192002",
         "0.013260689075686338"
        ],
        [
         "2018-02-27 00:00:00",
         "0.07968434738763142",
         "-0.01043890649807222",
         "0.00639119684457734",
         "-0.016329707912389857",
         "-0.01238283905336679"
        ],
        [
         "2018-02-28 00:00:00",
         "0.041263853013354446",
         "-0.0010388975966705294",
         "0.0029635614358631823",
         "-0.022134366910259495",
         "-0.006417368267832235"
        ],
        [
         "2018-03-01 00:00:00",
         "0.06884060068006304",
         "-0.0022399902343750444",
         "-0.003376946248084267",
         "-0.0016167747998691029",
         "-0.016326789114311402"
        ],
        [
         "2018-03-02 00:00:00",
         "-0.04406783469138975",
         "0.005372018620811936",
         "-0.004235439107423522",
         "0.0016193929936523244",
         "0.009180737924676441"
        ],
        [
         "2018-03-05 00:00:00",
         "-0.036790777630959615",
         "-0.0016747674096407872",
         "0.0",
         "0.01778498537301032",
         "0.011084719840235513"
        ],
        [
         "2018-03-06 00:00:00",
         "0.005292212312045352",
         "0.010784458146907872",
         "-0.0025521476674911225",
         "-0.0015885986911255978",
         "0.004230595016321281"
        ],
        [
         "2018-03-07 00:00:00",
         "-0.01487749442922337",
         "-0.006401624645603676",
         "-0.0008528298912409138",
         "-0.017501934661548035",
         "0.0023138024050199935"
        ],
        [
         "2018-03-08 00:00:00",
         "-0.01045540783845822",
         "-0.0023862794212923255",
         "0.006401919078914409",
         "-0.016194393260063333",
         "0.005505273298613611"
        ],
        [
         "2018-03-09 00:00:00",
         "-0.10190185811314634",
         "0.0009568071147663115",
         "-0.0012722390443717924",
         "0.02633750276094604",
         "0.019428043133647543"
        ],
        [
         "2018-03-12 00:00:00",
         "0.03947708030152164",
         "0.0",
         "-0.0012738596984172013",
         "-0.008019276610132242",
         "0.005312868785380953"
        ],
        [
         "2018-03-13 00:00:00",
         "0.023893380358241956",
         "0.0019117242474055995",
         "-0.0025509689734014573",
         "-0.010509306034245158",
         "-0.013614575322657307"
        ],
        [
         "2018-03-14 00:00:00",
         "0.021861935879725847",
         "-0.0006360457292980959",
         "0.0004261861640959541",
         "0.003267970800735931",
         "-0.00017475640468689324"
        ],
        [
         "2018-03-15 00:00:00",
         "-0.027884612739438763",
         "-0.006364323323672649",
         "0.0038346993110434102",
         "0.004886027762329714",
         "-0.0008735614721410156"
        ],
        [
         "2018-03-16 00:00:00",
         "-0.02818989684375295",
         "-0.0024019459414951205",
         "0.0025467315836844584",
         "0.017017831081868495",
         "-0.002973322292108893"
        ],
        [
         "2018-03-19 00:00:00",
         "0.10356233521211222",
         "0.0021669685053569143",
         "-0.004233739235541933",
         "0.0",
         "-0.02133604029262437"
        ],
        [
         "2018-03-20 00:00:00",
         "-0.019137607489015274",
         "-0.004484705499084418",
         "0.005952417235817631",
         "0.020717149396840995",
         "0.0032915820805914375"
        ],
        [
         "2018-03-21 00:00:00",
         "-0.03643627653272541",
         "0.01745640608927701",
         "-0.008030486426984451",
         "0.028883674741530863",
         "-0.004354596297286073"
        ],
        [
         "2018-03-22 00:00:00",
         "0.1515003374038637",
         "-0.003953194075975608",
         "0.001278295756024228",
         "-0.017450720074742576",
         "-0.02468258708546256"
        ],
        [
         "2018-03-23 00:00:00",
         "0.059322016775454234",
         "0.012938539529958382",
         "-0.003404249088539757",
         "0.025482619966523457",
         "-0.02635104312516745"
        ],
        [
         "2018-03-26 00:00:00",
         "-0.07400001525878908",
         "0.005250357853935794",
         "-0.004696902316072338",
         "-0.0052710614632337505",
         "0.037158247504291975"
        ],
        [
         "2018-03-27 00:00:00",
         "0.07516197839266447",
         "-0.0061584106879087885",
         "0.00471906731427052",
         "-0.009841038157873738",
         "-0.032360012718244624"
        ],
        [
         "2018-03-28 00:00:00",
         "0.00632789170612158",
         "-0.01380496145836152",
         "0.008966702209876054",
         "-0.0030581010769374917",
         "-0.011503439680090044"
        ],
        [
         "2018-03-29 00:00:00",
         "-0.021858492744193936",
         "0.0004771936450476133",
         "-0.0008464268289302135",
         "0.0038343704663446054",
         "0.018314866670077645"
        ],
        [
         "2018-04-02 00:00:00",
         "0.057959186787508",
         "0.011686153191860393",
         "-0.0004234785158689913",
         "-0.026737996744830572",
         "-0.028851600633091223"
        ],
        [
         "2018-04-03 00:00:00",
         "-0.04282409749553795",
         "-0.007543604183229413",
         "0.0016948186252472297",
         "0.00549455649577224",
         "0.011253136585412049"
        ],
        [
         "2018-04-04 00:00:00",
         "-0.01894394693557644",
         "0.0011876001018218396",
         "-0.00042294111741547624",
         "0.0007805835191236898",
         "0.015770009915820893"
        ],
        [
         "2018-04-05 00:00:00",
         "-0.026910463539001506",
         "-0.005140323544257752",
         "0.003808640703665489",
         "0.000780049073314304",
         "0.0056968140977951"
        ],
        [
         "2018-04-06 00:00:00",
         "0.051298297656074965",
         "0.004689954877408642",
         "-0.003794189997204822",
         "-0.024941519620195307",
         "-0.02502363918964945"
        ],
        [
         "2018-04-09 00:00:00",
         "0.0",
         "0.0034021703240154633",
         "-0.0025392804867906404",
         "0.02078339121701811",
         "0.007023016790720593"
        ],
        [
         "2018-04-10 00:00:00",
         "0.0",
         "0.0023655815524343815",
         "-0.002545464107608586",
         "0.03758805990836955",
         "0.02206325938823528"
        ],
        [
         "2018-04-11 00:00:00",
         "0.0",
         "0.007787899955785216",
         "-0.0008508409806446959",
         "0.015094325227557492",
         "-0.005768989972331773"
        ],
        [
         "2018-04-12 00:00:00",
         "-0.034337331539557425",
         "-0.011630613197024187",
         "0.002128679072474382",
         "0.005204509255852585",
         "0.012041530571614167"
        ],
        [
         "2018-04-13 00:00:00",
         "-0.043876078262769846",
         "0.006555000660688037",
         "0.0",
         "0.0022189150854625694",
         "-0.0051784630133239196"
        ],
        [
         "2018-04-16 00:00:00",
         "-0.05067416353967402",
         "0.0014123209845888773",
         "-0.003398464478737706",
         "-0.012546130915200071",
         "0.007621980079330237"
        ]
       ],
       "shape": {
        "columns": 5,
        "rows": 1759
       }
      },
      "text/html": [
       "<div>\n",
       "<style scoped>\n",
       "    .dataframe tbody tr th:only-of-type {\n",
       "        vertical-align: middle;\n",
       "    }\n",
       "\n",
       "    .dataframe tbody tr th {\n",
       "        vertical-align: top;\n",
       "    }\n",
       "\n",
       "    .dataframe thead tr th {\n",
       "        text-align: left;\n",
       "    }\n",
       "\n",
       "    .dataframe thead tr:last-of-type th {\n",
       "        text-align: right;\n",
       "    }\n",
       "</style>\n",
       "<table border=\"1\" class=\"dataframe\">\n",
       "  <thead>\n",
       "    <tr>\n",
       "      <th>Price</th>\n",
       "      <th>VXX_daily_return</th>\n",
       "      <th>GLD_daily_return</th>\n",
       "      <th>UUP_daily_return</th>\n",
       "      <th>USO_daily_return</th>\n",
       "      <th>QQQ_daily_return</th>\n",
       "    </tr>\n",
       "    <tr>\n",
       "      <th>Ticker</th>\n",
       "      <th></th>\n",
       "      <th></th>\n",
       "      <th></th>\n",
       "      <th></th>\n",
       "      <th></th>\n",
       "    </tr>\n",
       "    <tr>\n",
       "      <th>Date</th>\n",
       "      <th></th>\n",
       "      <th></th>\n",
       "      <th></th>\n",
       "      <th></th>\n",
       "      <th></th>\n",
       "    </tr>\n",
       "  </thead>\n",
       "  <tbody>\n",
       "    <tr>\n",
       "      <th>2018-02-02</th>\n",
       "      <td>0.128594</td>\n",
       "      <td>-0.013118</td>\n",
       "      <td>0.006053</td>\n",
       "      <td>-0.015106</td>\n",
       "      <td>-0.019945</td>\n",
       "    </tr>\n",
       "    <tr>\n",
       "      <th>2018-02-05</th>\n",
       "      <td>0.335160</td>\n",
       "      <td>0.002532</td>\n",
       "      <td>0.004298</td>\n",
       "      <td>-0.020705</td>\n",
       "      <td>-0.039426</td>\n",
       "    </tr>\n",
       "    <tr>\n",
       "      <th>2018-02-06</th>\n",
       "      <td>-0.016963</td>\n",
       "      <td>-0.010496</td>\n",
       "      <td>0.002139</td>\n",
       "      <td>-0.005482</td>\n",
       "      <td>0.026499</td>\n",
       "    </tr>\n",
       "    <tr>\n",
       "      <th>2018-02-07</th>\n",
       "      <td>0.033027</td>\n",
       "      <td>-0.004706</td>\n",
       "      <td>0.007686</td>\n",
       "      <td>-0.025984</td>\n",
       "      <td>-0.012938</td>\n",
       "    </tr>\n",
       "    <tr>\n",
       "      <th>2018-02-08</th>\n",
       "      <td>0.238886</td>\n",
       "      <td>0.001523</td>\n",
       "      <td>0.000000</td>\n",
       "      <td>-0.022635</td>\n",
       "      <td>-0.042195</td>\n",
       "    </tr>\n",
       "    <tr>\n",
       "      <th>...</th>\n",
       "      <td>...</td>\n",
       "      <td>...</td>\n",
       "      <td>...</td>\n",
       "      <td>...</td>\n",
       "      <td>...</td>\n",
       "    </tr>\n",
       "    <tr>\n",
       "      <th>2025-01-27</th>\n",
       "      <td>0.065884</td>\n",
       "      <td>-0.010405</td>\n",
       "      <td>0.000342</td>\n",
       "      <td>-0.020980</td>\n",
       "      <td>-0.029115</td>\n",
       "    </tr>\n",
       "    <tr>\n",
       "      <th>2025-01-28</th>\n",
       "      <td>-0.033041</td>\n",
       "      <td>0.008656</td>\n",
       "      <td>0.004108</td>\n",
       "      <td>0.011934</td>\n",
       "      <td>0.014780</td>\n",
       "    </tr>\n",
       "    <tr>\n",
       "      <th>2025-01-29</th>\n",
       "      <td>-0.002557</td>\n",
       "      <td>-0.003840</td>\n",
       "      <td>0.002046</td>\n",
       "      <td>-0.013695</td>\n",
       "      <td>-0.001878</td>\n",
       "    </tr>\n",
       "    <tr>\n",
       "      <th>2025-01-30</th>\n",
       "      <td>-0.005360</td>\n",
       "      <td>0.015146</td>\n",
       "      <td>0.000000</td>\n",
       "      <td>-0.000386</td>\n",
       "      <td>0.004262</td>\n",
       "    </tr>\n",
       "    <tr>\n",
       "      <th>2025-01-31</th>\n",
       "      <td>0.033739</td>\n",
       "      <td>0.001976</td>\n",
       "      <td>0.004083</td>\n",
       "      <td>0.003473</td>\n",
       "      <td>-0.001453</td>\n",
       "    </tr>\n",
       "  </tbody>\n",
       "</table>\n",
       "<p>1759 rows × 5 columns</p>\n",
       "</div>"
      ],
      "text/plain": [
       "Price      VXX_daily_return GLD_daily_return UUP_daily_return  \\\n",
       "Ticker                                                          \n",
       "Date                                                            \n",
       "2018-02-02         0.128594        -0.013118         0.006053   \n",
       "2018-02-05         0.335160         0.002532         0.004298   \n",
       "2018-02-06        -0.016963        -0.010496         0.002139   \n",
       "2018-02-07         0.033027        -0.004706         0.007686   \n",
       "2018-02-08         0.238886         0.001523         0.000000   \n",
       "...                     ...              ...              ...   \n",
       "2025-01-27         0.065884        -0.010405         0.000342   \n",
       "2025-01-28        -0.033041         0.008656         0.004108   \n",
       "2025-01-29        -0.002557        -0.003840         0.002046   \n",
       "2025-01-30        -0.005360         0.015146         0.000000   \n",
       "2025-01-31         0.033739         0.001976         0.004083   \n",
       "\n",
       "Price      USO_daily_return QQQ_daily_return  \n",
       "Ticker                                        \n",
       "Date                                          \n",
       "2018-02-02        -0.015106        -0.019945  \n",
       "2018-02-05        -0.020705        -0.039426  \n",
       "2018-02-06        -0.005482         0.026499  \n",
       "2018-02-07        -0.025984        -0.012938  \n",
       "2018-02-08        -0.022635        -0.042195  \n",
       "...                     ...              ...  \n",
       "2025-01-27        -0.020980        -0.029115  \n",
       "2025-01-28         0.011934         0.014780  \n",
       "2025-01-29        -0.013695        -0.001878  \n",
       "2025-01-30        -0.000386         0.004262  \n",
       "2025-01-31         0.003473        -0.001453  \n",
       "\n",
       "[1759 rows x 5 columns]"
      ]
     },
     "execution_count": 27,
     "metadata": {},
     "output_type": "execute_result"
    }
   ],
   "source": [
    "all_data"
   ]
  },
  {
   "cell_type": "markdown",
   "metadata": {},
   "source": [
    "## SP500 P/E Ratio Datos"
   ]
  },
  {
   "cell_type": "code",
   "execution_count": 29,
   "metadata": {},
   "outputs": [],
   "source": [
    "df = pd.read_csv(\"/Users/ivan/Downloads/sp-500-pe-ratio-price-to-earnings-chart.csv\")"
   ]
  },
  {
   "cell_type": "code",
   "execution_count": 30,
   "metadata": {},
   "outputs": [
    {
     "data": {
      "application/vnd.microsoft.datawrangler.viewer.v0+json": {
       "columns": [
        {
         "name": "index",
         "rawType": "int64",
         "type": "integer"
        },
        {
         "name": "date",
         "rawType": "datetime64[ns]",
         "type": "datetime"
        },
        {
         "name": " value",
         "rawType": "float64",
         "type": "float"
        }
       ],
       "conversionMethod": "pd.DataFrame",
       "ref": "98780aaa-eb0e-4501-b015-6c4228326bb8",
       "rows": [
        [
         "1082",
         "2018-02-01 00:00:00",
         "23.5086"
        ],
        [
         "1083",
         "2018-03-01 00:00:00",
         "22.8766"
        ],
        [
         "1084",
         "2018-04-01 00:00:00",
         "21.6203"
        ],
        [
         "1085",
         "2018-05-01 00:00:00",
         "22.0874"
        ],
        [
         "1086",
         "2018-06-01 00:00:00",
         "22.1944"
        ],
        [
         "1087",
         "2018-07-01 00:00:00",
         "21.599"
        ],
        [
         "1088",
         "2018-08-01 00:00:00",
         "22.2526"
        ],
        [
         "1089",
         "2018-09-01 00:00:00",
         "22.3482"
        ],
        [
         "1090",
         "2018-10-01 00:00:00",
         "20.483"
        ],
        [
         "1091",
         "2018-11-01 00:00:00",
         "20.8488"
        ],
        [
         "1092",
         "2018-12-01 00:00:00",
         "18.9353"
        ],
        [
         "1093",
         "2019-01-01 00:00:00",
         "20.1213"
        ],
        [
         "1094",
         "2019-02-01 00:00:00",
         "20.7195"
        ],
        [
         "1095",
         "2019-03-01 00:00:00",
         "21.0909"
        ],
        [
         "1096",
         "2019-04-01 00:00:00",
         "21.7774"
        ],
        [
         "1097",
         "2019-05-01 00:00:00",
         "20.3449"
        ],
        [
         "1098",
         "2019-06-01 00:00:00",
         "21.7473"
        ],
        [
         "1099",
         "2019-07-01 00:00:00",
         "22.4257"
        ],
        [
         "1100",
         "2019-08-01 00:00:00",
         "22.02"
        ],
        [
         "1101",
         "2019-09-01 00:00:00",
         "22.3983"
        ],
        [
         "1102",
         "2019-10-01 00:00:00",
         "21.7699"
        ],
        [
         "1103",
         "2019-11-01 00:00:00",
         "22.5111"
        ],
        [
         "1104",
         "2019-12-01 00:00:00",
         "23.1547"
        ],
        [
         "1105",
         "2020-01-01 00:00:00",
         "27.7273"
        ],
        [
         "1106",
         "2020-02-01 00:00:00",
         "25.3952"
        ],
        [
         "1107",
         "2020-03-01 00:00:00",
         "22.2177"
        ],
        [
         "1108",
         "2020-04-01 00:00:00",
         "29.3503"
        ],
        [
         "1109",
         "2020-05-01 00:00:00",
         "30.6793"
        ],
        [
         "1110",
         "2020-06-01 00:00:00",
         "31.2435"
        ],
        [
         "1111",
         "2020-07-01 00:00:00",
         "33.2938"
        ],
        [
         "1112",
         "2020-08-01 00:00:00",
         "35.6266"
        ],
        [
         "1113",
         "2020-09-01 00:00:00",
         "34.229"
        ],
        [
         "1114",
         "2020-10-01 00:00:00",
         "33.282"
        ],
        [
         "1115",
         "2020-11-01 00:00:00",
         "36.8614"
        ],
        [
         "1116",
         "2020-12-01 00:00:00",
         "38.2297"
        ],
        [
         "1117",
         "2021-01-01 00:00:00",
         "28.9722"
        ],
        [
         "1118",
         "2021-02-01 00:00:00",
         "29.7282"
        ],
        [
         "1119",
         "2021-03-01 00:00:00",
         "30.9898"
        ],
        [
         "1120",
         "2021-04-01 00:00:00",
         "26.3364"
        ],
        [
         "1121",
         "2021-05-01 00:00:00",
         "26.4809"
        ],
        [
         "1122",
         "2021-06-01 00:00:00",
         "27.0692"
        ],
        [
         "1123",
         "2021-07-01 00:00:00",
         "25.0628"
        ],
        [
         "1124",
         "2021-08-01 00:00:00",
         "25.7894"
        ],
        [
         "1125",
         "2021-09-01 00:00:00",
         "24.5626"
        ],
        [
         "1126",
         "2021-10-01 00:00:00",
         "23.2748"
        ],
        [
         "1127",
         "2021-11-01 00:00:00",
         "23.0808"
        ],
        [
         "1128",
         "2021-12-01 00:00:00",
         "24.0874"
        ],
        [
         "1129",
         "2022-01-01 00:00:00",
         "22.8162"
        ],
        [
         "1130",
         "2022-02-01 00:00:00",
         "22.1007"
        ],
        [
         "1131",
         "2022-03-01 00:00:00",
         "22.8913"
        ]
       ],
       "shape": {
        "columns": 2,
        "rows": 85
       }
      },
      "text/html": [
       "<div>\n",
       "<style scoped>\n",
       "    .dataframe tbody tr th:only-of-type {\n",
       "        vertical-align: middle;\n",
       "    }\n",
       "\n",
       "    .dataframe tbody tr th {\n",
       "        vertical-align: top;\n",
       "    }\n",
       "\n",
       "    .dataframe thead th {\n",
       "        text-align: right;\n",
       "    }\n",
       "</style>\n",
       "<table border=\"1\" class=\"dataframe\">\n",
       "  <thead>\n",
       "    <tr style=\"text-align: right;\">\n",
       "      <th></th>\n",
       "      <th>date</th>\n",
       "      <th>value</th>\n",
       "    </tr>\n",
       "  </thead>\n",
       "  <tbody>\n",
       "    <tr>\n",
       "      <th>1082</th>\n",
       "      <td>2018-02-01</td>\n",
       "      <td>23.5086</td>\n",
       "    </tr>\n",
       "    <tr>\n",
       "      <th>1083</th>\n",
       "      <td>2018-03-01</td>\n",
       "      <td>22.8766</td>\n",
       "    </tr>\n",
       "    <tr>\n",
       "      <th>1084</th>\n",
       "      <td>2018-04-01</td>\n",
       "      <td>21.6203</td>\n",
       "    </tr>\n",
       "    <tr>\n",
       "      <th>1085</th>\n",
       "      <td>2018-05-01</td>\n",
       "      <td>22.0874</td>\n",
       "    </tr>\n",
       "    <tr>\n",
       "      <th>1086</th>\n",
       "      <td>2018-06-01</td>\n",
       "      <td>22.1944</td>\n",
       "    </tr>\n",
       "    <tr>\n",
       "      <th>...</th>\n",
       "      <td>...</td>\n",
       "      <td>...</td>\n",
       "    </tr>\n",
       "    <tr>\n",
       "      <th>1162</th>\n",
       "      <td>2024-10-01</td>\n",
       "      <td>27.0888</td>\n",
       "    </tr>\n",
       "    <tr>\n",
       "      <th>1163</th>\n",
       "      <td>2024-11-01</td>\n",
       "      <td>28.6411</td>\n",
       "    </tr>\n",
       "    <tr>\n",
       "      <th>1164</th>\n",
       "      <td>2024-12-01</td>\n",
       "      <td>27.9253</td>\n",
       "    </tr>\n",
       "    <tr>\n",
       "      <th>1165</th>\n",
       "      <td>2025-01-01</td>\n",
       "      <td>28.6798</td>\n",
       "    </tr>\n",
       "    <tr>\n",
       "      <th>1166</th>\n",
       "      <td>2025-02-01</td>\n",
       "      <td>28.2713</td>\n",
       "    </tr>\n",
       "  </tbody>\n",
       "</table>\n",
       "<p>85 rows × 2 columns</p>\n",
       "</div>"
      ],
      "text/plain": [
       "           date    value\n",
       "1082 2018-02-01  23.5086\n",
       "1083 2018-03-01  22.8766\n",
       "1084 2018-04-01  21.6203\n",
       "1085 2018-05-01  22.0874\n",
       "1086 2018-06-01  22.1944\n",
       "...         ...      ...\n",
       "1162 2024-10-01  27.0888\n",
       "1163 2024-11-01  28.6411\n",
       "1164 2024-12-01  27.9253\n",
       "1165 2025-01-01  28.6798\n",
       "1166 2025-02-01  28.2713\n",
       "\n",
       "[85 rows x 2 columns]"
      ]
     },
     "execution_count": 30,
     "metadata": {},
     "output_type": "execute_result"
    }
   ],
   "source": [
    "import pandas as pd\n",
    "\n",
    "def filtrar_por_rango_fechas(df):\n",
    "    \"\"\"\n",
    "    Filtra un DataFrame por la columna 'date' dentro del rango '2018-02-01' a '2025-02-21'.\n",
    "\n",
    "    Args:\n",
    "        df (pd.DataFrame): El DataFrame a filtrar.\n",
    "\n",
    "    Returns:\n",
    "        pd.DataFrame: El DataFrame filtrado.\n",
    "    \"\"\"\n",
    "\n",
    "    # Asegurar que la columna 'date' esté en formato datetime\n",
    "    df['date'] = pd.to_datetime(df['date'])\n",
    "\n",
    "    # Definir las fechas de inicio y fin del rango\n",
    "    fecha_inicio = pd.to_datetime('2018-02-01')\n",
    "    fecha_fin = pd.to_datetime('2025-02-01')\n",
    "\n",
    "    # Filtrar el DataFrame por el rango de fechas\n",
    "    df_filtrado = df[(df['date'] >= fecha_inicio) & (df['date'] <= fecha_fin)]\n",
    "\n",
    "    return df_filtrado\n",
    "\n",
    "df = filtrar_por_rango_fechas(df)\n",
    "df"
   ]
  }
 ],
 "metadata": {
  "kernelspec": {
   "display_name": "ads",
   "language": "python",
   "name": "python3"
  },
  "language_info": {
   "codemirror_mode": {
    "name": "ipython",
    "version": 3
   },
   "file_extension": ".py",
   "mimetype": "text/x-python",
   "name": "python",
   "nbconvert_exporter": "python",
   "pygments_lexer": "ipython3",
   "version": "3.10.15"
  }
 },
 "nbformat": 4,
 "nbformat_minor": 2
}
