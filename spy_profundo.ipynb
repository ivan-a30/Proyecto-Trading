{
 "cells": [
  {
   "cell_type": "code",
   "execution_count": 1,
   "metadata": {},
   "outputs": [],
   "source": [
    "from alpha_vantage.timeseries import TimeSeries\n",
    "import os\n",
    "import pandas as pd\n",
    "import requests\n",
    "import matplotlib.pyplot as plt"
   ]
  },
  {
   "cell_type": "code",
   "execution_count": null,
   "metadata": {},
   "outputs": [],
   "source": [
    "API_KEY = \"YBKMA5L9K9I3GE0E\"\n"
   ]
  },
  {
   "cell_type": "code",
   "execution_count": 6,
   "metadata": {},
   "outputs": [
    {
     "ename": "KeyError",
     "evalue": "'Time Series (15min)'",
     "output_type": "error",
     "traceback": [
      "\u001b[0;31m---------------------------------------------------------------------------\u001b[0m",
      "\u001b[0;31mKeyError\u001b[0m                                  Traceback (most recent call last)",
      "Cell \u001b[0;32mIn[6], line 17\u001b[0m\n\u001b[1;32m     14\u001b[0m     \u001b[38;5;28;01mreturn\u001b[39;00m df\n\u001b[1;32m     16\u001b[0m \u001b[38;5;66;03m# Cambia \"5min\" por \"1min\", \"15min\", \"30min\", \"1h\"\u001b[39;00m\n\u001b[0;32m---> 17\u001b[0m df_spy \u001b[38;5;241m=\u001b[39m \u001b[43mget_intraday_data\u001b[49m\u001b[43m(\u001b[49m\u001b[38;5;124;43m\"\u001b[39;49m\u001b[38;5;124;43mSPY\u001b[39;49m\u001b[38;5;124;43m\"\u001b[39;49m\u001b[43m,\u001b[49m\u001b[43m \u001b[49m\u001b[38;5;124;43m\"\u001b[39;49m\u001b[38;5;124;43m15min\u001b[39;49m\u001b[38;5;124;43m\"\u001b[39;49m\u001b[43m)\u001b[49m\n\u001b[1;32m     18\u001b[0m \u001b[38;5;28mprint\u001b[39m(df_spy\u001b[38;5;241m.\u001b[39mhead())\n",
      "Cell \u001b[0;32mIn[6], line 11\u001b[0m, in \u001b[0;36mget_intraday_data\u001b[0;34m(symbol, interval)\u001b[0m\n\u001b[1;32m      9\u001b[0m url \u001b[38;5;241m=\u001b[39m \u001b[38;5;124mf\u001b[39m\u001b[38;5;124m\"\u001b[39m\u001b[38;5;124mhttps://www.alphavantage.co/query?function=TIME_SERIES_INTRADAY&symbol=\u001b[39m\u001b[38;5;132;01m{\u001b[39;00msymbol\u001b[38;5;132;01m}\u001b[39;00m\u001b[38;5;124m&interval=\u001b[39m\u001b[38;5;132;01m{\u001b[39;00minterval\u001b[38;5;132;01m}\u001b[39;00m\u001b[38;5;124m&apikey=\u001b[39m\u001b[38;5;132;01m{\u001b[39;00mAPI_KEY\u001b[38;5;132;01m}\u001b[39;00m\u001b[38;5;124m&outputsize=compact\u001b[39m\u001b[38;5;124m\"\u001b[39m\n\u001b[1;32m     10\u001b[0m response \u001b[38;5;241m=\u001b[39m requests\u001b[38;5;241m.\u001b[39mget(url)\u001b[38;5;241m.\u001b[39mjson()\n\u001b[0;32m---> 11\u001b[0m df \u001b[38;5;241m=\u001b[39m pd\u001b[38;5;241m.\u001b[39mDataFrame\u001b[38;5;241m.\u001b[39mfrom_dict(\u001b[43mresponse\u001b[49m\u001b[43m[\u001b[49m\u001b[38;5;124;43mf\u001b[39;49m\u001b[38;5;124;43m\"\u001b[39;49m\u001b[38;5;124;43mTime Series (\u001b[39;49m\u001b[38;5;132;43;01m{\u001b[39;49;00m\u001b[43minterval\u001b[49m\u001b[38;5;132;43;01m}\u001b[39;49;00m\u001b[38;5;124;43m)\u001b[39;49m\u001b[38;5;124;43m\"\u001b[39;49m\u001b[43m]\u001b[49m, orient\u001b[38;5;241m=\u001b[39m\u001b[38;5;124m\"\u001b[39m\u001b[38;5;124mindex\u001b[39m\u001b[38;5;124m\"\u001b[39m)\n\u001b[1;32m     12\u001b[0m df\u001b[38;5;241m.\u001b[39mcolumns \u001b[38;5;241m=\u001b[39m [\u001b[38;5;124m\"\u001b[39m\u001b[38;5;124mOpen\u001b[39m\u001b[38;5;124m\"\u001b[39m, \u001b[38;5;124m\"\u001b[39m\u001b[38;5;124mHigh\u001b[39m\u001b[38;5;124m\"\u001b[39m, \u001b[38;5;124m\"\u001b[39m\u001b[38;5;124mLow\u001b[39m\u001b[38;5;124m\"\u001b[39m, \u001b[38;5;124m\"\u001b[39m\u001b[38;5;124mClose\u001b[39m\u001b[38;5;124m\"\u001b[39m, \u001b[38;5;124m\"\u001b[39m\u001b[38;5;124mVolume\u001b[39m\u001b[38;5;124m\"\u001b[39m]\n\u001b[1;32m     13\u001b[0m df \u001b[38;5;241m=\u001b[39m df\u001b[38;5;241m.\u001b[39mastype(\u001b[38;5;28mfloat\u001b[39m)\n",
      "\u001b[0;31mKeyError\u001b[0m: 'Time Series (15min)'"
     ]
    }
   ],
   "source": [
    "import requests\n",
    "import pandas as pd\n",
    "\n",
    "API_KEY = \"WGWW2PTZ1ESFJ2OO\"\n",
    "symbol = \"SPY\"\n",
    "interval = \"15 min\"\n",
    "\n",
    "def get_intraday_data(symbol, interval=\"5min\"):\n",
    "    url = f\"https://www.alphavantage.co/query?function=TIME_SERIES_INTRADAY&symbol={symbol}&interval={interval}&apikey={API_KEY}&outputsize=compact\"\n",
    "    response = requests.get(url).json()\n",
    "    df = pd.DataFrame.from_dict(response[f\"Time Series ({interval})\"], orient=\"index\")\n",
    "    df.columns = [\"Open\", \"High\", \"Low\", \"Close\", \"Volume\"]\n",
    "    df = df.astype(float)\n",
    "    return df\n",
    "\n",
    "# Cambia \"5min\" por \"1min\", \"15min\", \"30min\", \"1h\"\n",
    "df_spy = get_intraday_data(\"SPY\", \"15min\")\n",
    "print(df_spy.head())\n"
   ]
  },
  {
   "cell_type": "code",
   "execution_count": 18,
   "metadata": {},
   "outputs": [
    {
     "data": {
      "application/vnd.microsoft.datawrangler.viewer.v0+json": {
       "columns": [
        {
         "name": "index",
         "rawType": "int64",
         "type": "integer"
        },
        {
         "name": "Time",
         "rawType": "object",
         "type": "string"
        },
        {
         "name": "Open",
         "rawType": "float64",
         "type": "float"
        },
        {
         "name": "High",
         "rawType": "float64",
         "type": "float"
        },
        {
         "name": "Low",
         "rawType": "float64",
         "type": "float"
        },
        {
         "name": "Close",
         "rawType": "float64",
         "type": "float"
        },
        {
         "name": "Volume",
         "rawType": "float64",
         "type": "float"
        }
       ],
       "conversionMethod": "pd.DataFrame",
       "ref": "6d50c938-02d9-42a5-a2b4-906b754f3d1a",
       "rows": [
        [
         "0",
         "2025-02-27 20:00:00",
         "585.05",
         "585.05",
         "585.05",
         "585.05",
         "1625705.0"
        ],
        [
         "1",
         "2025-02-27 19:45:00",
         "585.19",
         "585.27",
         "584.88",
         "584.88",
         "28517.0"
        ],
        [
         "2",
         "2025-02-27 19:30:00",
         "585.56",
         "585.73",
         "585.11",
         "585.2299",
         "16223.0"
        ],
        [
         "3",
         "2025-02-27 19:15:00",
         "585.96",
         "586.04",
         "585.39",
         "585.56",
         "18956.0"
        ],
        [
         "4",
         "2025-02-27 19:00:00",
         "586.045",
         "586.26",
         "585.96",
         "585.96",
         "16332.0"
        ]
       ],
       "shape": {
        "columns": 6,
        "rows": 5
       }
      },
      "text/html": [
       "<div>\n",
       "<style scoped>\n",
       "    .dataframe tbody tr th:only-of-type {\n",
       "        vertical-align: middle;\n",
       "    }\n",
       "\n",
       "    .dataframe tbody tr th {\n",
       "        vertical-align: top;\n",
       "    }\n",
       "\n",
       "    .dataframe thead th {\n",
       "        text-align: right;\n",
       "    }\n",
       "</style>\n",
       "<table border=\"1\" class=\"dataframe\">\n",
       "  <thead>\n",
       "    <tr style=\"text-align: right;\">\n",
       "      <th></th>\n",
       "      <th>Time</th>\n",
       "      <th>Open</th>\n",
       "      <th>High</th>\n",
       "      <th>Low</th>\n",
       "      <th>Close</th>\n",
       "      <th>Volume</th>\n",
       "    </tr>\n",
       "  </thead>\n",
       "  <tbody>\n",
       "    <tr>\n",
       "      <th>0</th>\n",
       "      <td>2025-02-27 20:00:00</td>\n",
       "      <td>585.050</td>\n",
       "      <td>585.05</td>\n",
       "      <td>585.05</td>\n",
       "      <td>585.0500</td>\n",
       "      <td>1625705.0</td>\n",
       "    </tr>\n",
       "    <tr>\n",
       "      <th>1</th>\n",
       "      <td>2025-02-27 19:45:00</td>\n",
       "      <td>585.190</td>\n",
       "      <td>585.27</td>\n",
       "      <td>584.88</td>\n",
       "      <td>584.8800</td>\n",
       "      <td>28517.0</td>\n",
       "    </tr>\n",
       "    <tr>\n",
       "      <th>2</th>\n",
       "      <td>2025-02-27 19:30:00</td>\n",
       "      <td>585.560</td>\n",
       "      <td>585.73</td>\n",
       "      <td>585.11</td>\n",
       "      <td>585.2299</td>\n",
       "      <td>16223.0</td>\n",
       "    </tr>\n",
       "    <tr>\n",
       "      <th>3</th>\n",
       "      <td>2025-02-27 19:15:00</td>\n",
       "      <td>585.960</td>\n",
       "      <td>586.04</td>\n",
       "      <td>585.39</td>\n",
       "      <td>585.5600</td>\n",
       "      <td>18956.0</td>\n",
       "    </tr>\n",
       "    <tr>\n",
       "      <th>4</th>\n",
       "      <td>2025-02-27 19:00:00</td>\n",
       "      <td>586.045</td>\n",
       "      <td>586.26</td>\n",
       "      <td>585.96</td>\n",
       "      <td>585.9600</td>\n",
       "      <td>16332.0</td>\n",
       "    </tr>\n",
       "  </tbody>\n",
       "</table>\n",
       "</div>"
      ],
      "text/plain": [
       "                  Time     Open    High     Low     Close     Volume\n",
       "0  2025-02-27 20:00:00  585.050  585.05  585.05  585.0500  1625705.0\n",
       "1  2025-02-27 19:45:00  585.190  585.27  584.88  584.8800    28517.0\n",
       "2  2025-02-27 19:30:00  585.560  585.73  585.11  585.2299    16223.0\n",
       "3  2025-02-27 19:15:00  585.960  586.04  585.39  585.5600    18956.0\n",
       "4  2025-02-27 19:00:00  586.045  586.26  585.96  585.9600    16332.0"
      ]
     },
     "execution_count": 18,
     "metadata": {},
     "output_type": "execute_result"
    }
   ],
   "source": [
    "df_spy.reset_index(inplace=True)\n",
    "df_spy.rename(columns={\"index\": \"Time\"}, inplace=True)\n",
    "df_spy.head()"
   ]
  },
  {
   "cell_type": "code",
   "execution_count": 26,
   "metadata": {},
   "outputs": [
    {
     "data": {
      "application/vnd.plotly.v1+json": {
       "config": {
        "plotlyServerURL": "https://plot.ly"
       },
       "data": [
        {
         "hovertemplate": "variable=Open<br>Time=%{x}<br>value=%{y}<extra></extra>",
         "legendgroup": "Open",
         "line": {
          "color": "#636efa",
          "dash": "solid"
         },
         "marker": {
          "symbol": "circle"
         },
         "mode": "lines",
         "name": "Open",
         "orientation": "v",
         "showlegend": true,
         "type": "scatter",
         "x": [
          "2025-02-27 20:00:00",
          "2025-02-27 19:45:00",
          "2025-02-27 19:30:00",
          "2025-02-27 19:15:00",
          "2025-02-27 19:00:00",
          "2025-02-27 18:45:00",
          "2025-02-27 18:30:00",
          "2025-02-27 18:15:00",
          "2025-02-27 18:00:00",
          "2025-02-27 17:45:00",
          "2025-02-27 17:30:00",
          "2025-02-27 17:15:00",
          "2025-02-27 17:00:00",
          "2025-02-27 16:45:00",
          "2025-02-27 16:30:00",
          "2025-02-27 16:15:00",
          "2025-02-27 16:00:00",
          "2025-02-27 15:45:00",
          "2025-02-27 15:30:00",
          "2025-02-27 15:15:00",
          "2025-02-27 15:00:00",
          "2025-02-27 14:45:00",
          "2025-02-27 14:30:00",
          "2025-02-27 14:15:00",
          "2025-02-27 14:00:00",
          "2025-02-27 13:45:00",
          "2025-02-27 13:30:00",
          "2025-02-27 13:15:00",
          "2025-02-27 13:00:00",
          "2025-02-27 12:45:00",
          "2025-02-27 12:30:00",
          "2025-02-27 12:15:00",
          "2025-02-27 12:00:00",
          "2025-02-27 11:45:00",
          "2025-02-27 11:30:00",
          "2025-02-27 11:15:00",
          "2025-02-27 11:00:00",
          "2025-02-27 10:45:00",
          "2025-02-27 10:30:00",
          "2025-02-27 10:15:00",
          "2025-02-27 10:00:00",
          "2025-02-27 09:45:00",
          "2025-02-27 09:30:00",
          "2025-02-27 09:15:00",
          "2025-02-27 09:00:00",
          "2025-02-27 08:45:00",
          "2025-02-27 08:30:00",
          "2025-02-27 08:15:00",
          "2025-02-27 08:00:00",
          "2025-02-27 07:45:00",
          "2025-02-27 07:30:00",
          "2025-02-27 07:15:00",
          "2025-02-27 07:00:00",
          "2025-02-27 06:45:00",
          "2025-02-27 06:30:00",
          "2025-02-27 06:15:00",
          "2025-02-27 06:00:00",
          "2025-02-27 05:45:00",
          "2025-02-27 05:30:00",
          "2025-02-27 05:15:00",
          "2025-02-27 05:00:00",
          "2025-02-27 04:45:00",
          "2025-02-27 04:30:00",
          "2025-02-27 04:15:00",
          "2025-02-27 04:00:00",
          "2025-02-26 20:00:00",
          "2025-02-26 19:45:00",
          "2025-02-26 19:30:00",
          "2025-02-26 19:15:00",
          "2025-02-26 19:00:00",
          "2025-02-26 18:45:00",
          "2025-02-26 18:30:00",
          "2025-02-26 18:15:00",
          "2025-02-26 18:00:00",
          "2025-02-26 17:45:00",
          "2025-02-26 17:30:00",
          "2025-02-26 17:15:00",
          "2025-02-26 17:00:00",
          "2025-02-26 16:45:00",
          "2025-02-26 16:30:00",
          "2025-02-26 16:15:00",
          "2025-02-26 16:00:00",
          "2025-02-26 15:45:00",
          "2025-02-26 15:30:00",
          "2025-02-26 15:15:00",
          "2025-02-26 15:00:00",
          "2025-02-26 14:45:00",
          "2025-02-26 14:30:00",
          "2025-02-26 14:15:00",
          "2025-02-26 14:00:00",
          "2025-02-26 13:45:00",
          "2025-02-26 13:30:00",
          "2025-02-26 13:15:00",
          "2025-02-26 13:00:00",
          "2025-02-26 12:45:00",
          "2025-02-26 12:30:00",
          "2025-02-26 12:15:00",
          "2025-02-26 12:00:00",
          "2025-02-26 11:45:00",
          "2025-02-26 11:30:00"
         ],
         "xaxis": "x",
         "y": {
          "bdata": "ZmZmZmZIgkDsUbgehUmCQBSuR+F6TIJASOF6FK5PgkCPwvUoXFCCQFyPwvUoToJAZmZmZmZIgkBmZmZmZk6CQGZmZmZmTIJAmpmZmZlLgkDXo3A9CkuCQHsUrkfhSoJASgwCKwdNgkC4HoXrUU+CQJqZmZmZTYJAUrgehetJgkCPwvUoXEiCQAAAAAAAUoJAlkOLbOdSgkCPwvUoXFqCQGZmZmZmaoJA16NwPQppgkDHSzeJQXaCQLgehetRhIJArkfhehSOgkB7FK5H4ZKCQNejcD0KlYJAh6dXyjKVgkDsUbgehYuCQOxRuB6FhoJASOF6FK6PgkCamZmZmYOCQFK4HoXrg4JACtejcD2OgkDXo3A9CpGCQBSuR+F6moJA7FG4HoWLgkC4HoXrUZiCQJqZmZmZm4JAuB6F61GQgkA9CtejcIOCQKRwPQrXm4JAzczMzMymgkAzMzMzM6mCQM3MzMzMnoJAAAAAAACwgkCamZmZma2CQFyPwvUosIJAAAAAAAC0gkC4HoXrUbSCQM3MzMzMsoJASOF6FK6xgkBxPQrXo7KCQKRwPQrXr4JACtejcD2wgkAUrkfherCCQMP1KFyProJAPQrXo3CtgkD2KFyPwq2CQEjhehSurYJAexSuR+GugkCkcD0K162CQDMzMzMzrYJAMzMzMzOpgkBcj8L1KKaCQLgehetRlIJAAAAAAACSgkAgY+5awpGCQHE9CtejloJAmpmZmZmYgkDhehSuR5SCQLgehetRlIJAw/UoXI+WgkBI4XoUrpmCQGZmZmZmnoJAmpmZmZmfgkAzMzMzM6KCQBSuR+F6ooJAXI/C9SiYgkBSuB6F65OCQLgehetRloJA7FG4HoWTgkAK16NwPZaCQB+F61G4jIJApHA9CteJgkBmZmZmZoaCQD0K16NwkYJAzczMzMyKgkC4HoXrUYSCQGZmZmZmhIJAhetRuB6NgkBSuB6F646CQOF6FK5Hm4JAH4XrUbicgkDD9Shcj6qCQDMzMzMztYJAZmZmZma4gkAUrkfherCCQClcj8L1toJAPQrXo3C1gkA=",
          "dtype": "f8"
         },
         "yaxis": "y"
        },
        {
         "hovertemplate": "variable=High<br>Time=%{x}<br>value=%{y}<extra></extra>",
         "legendgroup": "High",
         "line": {
          "color": "#EF553B",
          "dash": "solid"
         },
         "marker": {
          "symbol": "circle"
         },
         "mode": "lines",
         "name": "High",
         "orientation": "v",
         "showlegend": true,
         "type": "scatter",
         "x": [
          "2025-02-27 20:00:00",
          "2025-02-27 19:45:00",
          "2025-02-27 19:30:00",
          "2025-02-27 19:15:00",
          "2025-02-27 19:00:00",
          "2025-02-27 18:45:00",
          "2025-02-27 18:30:00",
          "2025-02-27 18:15:00",
          "2025-02-27 18:00:00",
          "2025-02-27 17:45:00",
          "2025-02-27 17:30:00",
          "2025-02-27 17:15:00",
          "2025-02-27 17:00:00",
          "2025-02-27 16:45:00",
          "2025-02-27 16:30:00",
          "2025-02-27 16:15:00",
          "2025-02-27 16:00:00",
          "2025-02-27 15:45:00",
          "2025-02-27 15:30:00",
          "2025-02-27 15:15:00",
          "2025-02-27 15:00:00",
          "2025-02-27 14:45:00",
          "2025-02-27 14:30:00",
          "2025-02-27 14:15:00",
          "2025-02-27 14:00:00",
          "2025-02-27 13:45:00",
          "2025-02-27 13:30:00",
          "2025-02-27 13:15:00",
          "2025-02-27 13:00:00",
          "2025-02-27 12:45:00",
          "2025-02-27 12:30:00",
          "2025-02-27 12:15:00",
          "2025-02-27 12:00:00",
          "2025-02-27 11:45:00",
          "2025-02-27 11:30:00",
          "2025-02-27 11:15:00",
          "2025-02-27 11:00:00",
          "2025-02-27 10:45:00",
          "2025-02-27 10:30:00",
          "2025-02-27 10:15:00",
          "2025-02-27 10:00:00",
          "2025-02-27 09:45:00",
          "2025-02-27 09:30:00",
          "2025-02-27 09:15:00",
          "2025-02-27 09:00:00",
          "2025-02-27 08:45:00",
          "2025-02-27 08:30:00",
          "2025-02-27 08:15:00",
          "2025-02-27 08:00:00",
          "2025-02-27 07:45:00",
          "2025-02-27 07:30:00",
          "2025-02-27 07:15:00",
          "2025-02-27 07:00:00",
          "2025-02-27 06:45:00",
          "2025-02-27 06:30:00",
          "2025-02-27 06:15:00",
          "2025-02-27 06:00:00",
          "2025-02-27 05:45:00",
          "2025-02-27 05:30:00",
          "2025-02-27 05:15:00",
          "2025-02-27 05:00:00",
          "2025-02-27 04:45:00",
          "2025-02-27 04:30:00",
          "2025-02-27 04:15:00",
          "2025-02-27 04:00:00",
          "2025-02-26 20:00:00",
          "2025-02-26 19:45:00",
          "2025-02-26 19:30:00",
          "2025-02-26 19:15:00",
          "2025-02-26 19:00:00",
          "2025-02-26 18:45:00",
          "2025-02-26 18:30:00",
          "2025-02-26 18:15:00",
          "2025-02-26 18:00:00",
          "2025-02-26 17:45:00",
          "2025-02-26 17:30:00",
          "2025-02-26 17:15:00",
          "2025-02-26 17:00:00",
          "2025-02-26 16:45:00",
          "2025-02-26 16:30:00",
          "2025-02-26 16:15:00",
          "2025-02-26 16:00:00",
          "2025-02-26 15:45:00",
          "2025-02-26 15:30:00",
          "2025-02-26 15:15:00",
          "2025-02-26 15:00:00",
          "2025-02-26 14:45:00",
          "2025-02-26 14:30:00",
          "2025-02-26 14:15:00",
          "2025-02-26 14:00:00",
          "2025-02-26 13:45:00",
          "2025-02-26 13:30:00",
          "2025-02-26 13:15:00",
          "2025-02-26 13:00:00",
          "2025-02-26 12:45:00",
          "2025-02-26 12:30:00",
          "2025-02-26 12:15:00",
          "2025-02-26 12:00:00",
          "2025-02-26 11:45:00",
          "2025-02-26 11:30:00"
         ],
         "xaxis": "x",
         "y": {
          "bdata": "ZmZmZmZIgkBcj8L1KEqCQKRwPQrXTYJAuB6F61FQgkCuR+F6FFKCQM3MzMzMUIJASOF6FK5RgkBxPQrXo6iCQLgehetRUoJAH4XrUbhMgkB7FK5H4UuCQDMzMzMzS4JA4XoUrkdNgkDD9Shcj1CCQM3MzMzMUIJApgpGJfWRgkCmCkYl9ZGCQKRwPQrXV4JAw/UoXI9cgkCuR+F6FGCCQM3MzMzMaoJA7FG4HoVvgkBmZmZmZnaCQPYoXI/ChYJAH4XrUbiOgkCamZmZmZWCQJqZmZmZl4JA4XoUrkeZgkDhehSuR5eCQGZmZmZmjIJAzczMzMyTgkBSuB6F64+CQFyPwvUoiIJAhetRuB6RgkATYcPTq5eCQFK4HoXroYJAzczMzMyagkCF61G4Hp2CQPYoXI/CnYJAXI/C9SikgkCF61G4HpOCQOxRuB6Fo4JAXI/C9SiwgkBSuB6F66mCQGZmZmZmqoJAAAAAAACygkBxPQrXo7CCQK5H4XoUsoJAPQrXo3C1gkDNzMzMzLSCQD0K16NwtYJApHA9CtezgkAK16NwPbSCQClcj8L1soJAcT0K16OwgkA9CtejcLGCQPYoXI/CsYJAzczMzMyugkAUrkfheq6CQOF6FK5HsYJA4XoUrkevgkBSuB6F66+CQOxRuB6Fr4JACtejcD2ugkBcj8L1KK6CQLgehetRlIJAw/UoXI+SgkA5tMh2PpKCQClcj8L1loJAMzMzMzObgkCPwvUoXJmCQI/C9Shcl4JApHA9CteZgkCamZmZmZyCQOxRuB6Fn4JAH4XrUbiggkBmZmZmZqKCQApoImz4pYJA16NwPQqjgkC4HoXrUZqCQK5H4XoUwIJATKYKRiWhgkC4HoXrUZqCQFyPwvWol4JApHA9CtePgkCkcD0K142CQAAAAAAAlIJAhetRuB6VgkACmggbHo+CQGZmZmZmioJAhetRuB6PgkAfhetRuJSCQNejcD0KnYJAexSuR+GegkAAAAAAAKyCQK5H4XoUuIJAT6+UZQi7gkDNzMzMzLiCQGZmZmZmuoJAPQrXo3C7gkA=",
          "dtype": "f8"
         },
         "yaxis": "y"
        },
        {
         "hovertemplate": "variable=Low<br>Time=%{x}<br>value=%{y}<extra></extra>",
         "legendgroup": "Low",
         "line": {
          "color": "#00cc96",
          "dash": "solid"
         },
         "marker": {
          "symbol": "circle"
         },
         "mode": "lines",
         "name": "Low",
         "orientation": "v",
         "showlegend": true,
         "type": "scatter",
         "x": [
          "2025-02-27 20:00:00",
          "2025-02-27 19:45:00",
          "2025-02-27 19:30:00",
          "2025-02-27 19:15:00",
          "2025-02-27 19:00:00",
          "2025-02-27 18:45:00",
          "2025-02-27 18:30:00",
          "2025-02-27 18:15:00",
          "2025-02-27 18:00:00",
          "2025-02-27 17:45:00",
          "2025-02-27 17:30:00",
          "2025-02-27 17:15:00",
          "2025-02-27 17:00:00",
          "2025-02-27 16:45:00",
          "2025-02-27 16:30:00",
          "2025-02-27 16:15:00",
          "2025-02-27 16:00:00",
          "2025-02-27 15:45:00",
          "2025-02-27 15:30:00",
          "2025-02-27 15:15:00",
          "2025-02-27 15:00:00",
          "2025-02-27 14:45:00",
          "2025-02-27 14:30:00",
          "2025-02-27 14:15:00",
          "2025-02-27 14:00:00",
          "2025-02-27 13:45:00",
          "2025-02-27 13:30:00",
          "2025-02-27 13:15:00",
          "2025-02-27 13:00:00",
          "2025-02-27 12:45:00",
          "2025-02-27 12:30:00",
          "2025-02-27 12:15:00",
          "2025-02-27 12:00:00",
          "2025-02-27 11:45:00",
          "2025-02-27 11:30:00",
          "2025-02-27 11:15:00",
          "2025-02-27 11:00:00",
          "2025-02-27 10:45:00",
          "2025-02-27 10:30:00",
          "2025-02-27 10:15:00",
          "2025-02-27 10:00:00",
          "2025-02-27 09:45:00",
          "2025-02-27 09:30:00",
          "2025-02-27 09:15:00",
          "2025-02-27 09:00:00",
          "2025-02-27 08:45:00",
          "2025-02-27 08:30:00",
          "2025-02-27 08:15:00",
          "2025-02-27 08:00:00",
          "2025-02-27 07:45:00",
          "2025-02-27 07:30:00",
          "2025-02-27 07:15:00",
          "2025-02-27 07:00:00",
          "2025-02-27 06:45:00",
          "2025-02-27 06:30:00",
          "2025-02-27 06:15:00",
          "2025-02-27 06:00:00",
          "2025-02-27 05:45:00",
          "2025-02-27 05:30:00",
          "2025-02-27 05:15:00",
          "2025-02-27 05:00:00",
          "2025-02-27 04:45:00",
          "2025-02-27 04:30:00",
          "2025-02-27 04:15:00",
          "2025-02-27 04:00:00",
          "2025-02-26 20:00:00",
          "2025-02-26 19:45:00",
          "2025-02-26 19:30:00",
          "2025-02-26 19:15:00",
          "2025-02-26 19:00:00",
          "2025-02-26 18:45:00",
          "2025-02-26 18:30:00",
          "2025-02-26 18:15:00",
          "2025-02-26 18:00:00",
          "2025-02-26 17:45:00",
          "2025-02-26 17:30:00",
          "2025-02-26 17:15:00",
          "2025-02-26 17:00:00",
          "2025-02-26 16:45:00",
          "2025-02-26 16:30:00",
          "2025-02-26 16:15:00",
          "2025-02-26 16:00:00",
          "2025-02-26 15:45:00",
          "2025-02-26 15:30:00",
          "2025-02-26 15:15:00",
          "2025-02-26 15:00:00",
          "2025-02-26 14:45:00",
          "2025-02-26 14:30:00",
          "2025-02-26 14:15:00",
          "2025-02-26 14:00:00",
          "2025-02-26 13:45:00",
          "2025-02-26 13:30:00",
          "2025-02-26 13:15:00",
          "2025-02-26 13:00:00",
          "2025-02-26 12:45:00",
          "2025-02-26 12:30:00",
          "2025-02-26 12:15:00",
          "2025-02-26 12:00:00",
          "2025-02-26 11:45:00",
          "2025-02-26 11:30:00"
         ],
         "xaxis": "x",
         "y": {
          "bdata": "ZmZmZmZIgkDXo3A9CkeCQHsUrkfhSIJAhetRuB5LgkBI4XoUrk+CQM3MzMzMTIJAZmZmZmZIgkDhehSuR02CQGZmZmZmTIJAexSuR+FKgkBmZmZmZkiCQEjhehSuSYJAvAUSFD8tgUBmZmZmZkiCQJqZmZmZTYJA4L4OnLNGgkBI4XoUrkWCQDMzMzMzRYJA9ihcj8JPgkBSuB6F61GCQKRwPQrXVYJAXI/C9ShmgkAfhetRuGKCQD0K16NwdYJAPQrXo3CDgkDjpZvEII2CQOF6FK5HkYJAmpmZmZmRgkA9CtejcIqCQClcj8L1goJAhetRuB6DgkAzMzMzM3uCQDVeukkMgYJACtejcD2CgkDXo3A9Co2CQHsUrkfhjoJA9ihcj8KJgkC4HoXrUYqCQB+F61G4jIJAzczMzMyOgkBcj8L1KHSCQIXrUbgegYJAFK5H4XqYgkAUrkfheqSCQM3MzMzMnIJAFK5H4XqPgkDXo3A9CqeCQDMzMzMzq4JAqMZLNwmUgkApXI/C9a6CQJqZmZmZsYJAzczMzMywgkAzMzMzM7GCQD0K16Nwr4JAAAAAAACugkCF61G4Hq+CQArXo3A9roJACtejcD2sgkCamZmZmauCQOF6FK5HrYJAuB6F61GsgkDsUbgeha2CQHE9CtejrIJAw/UoXI+ogkBcj8L1KKaCQLgehetRlIJAexSuR+GMgkDsUbgehY+CQClcj8L1joJApHA9CteVgkDhehSuR5SCQPYoXI/Ck4JAzczMzMyOgkCF61G4HpaCQM3MzMzMmIJAXI/C9SiegkCDUUmdAAGCQHQkl/8QWIFAuB6F61GUgkBxPQrXo46CQJqZmZmZgYJAuB6F61FygkDD9Shcj42CQIXrUbgeiYJA7FG4HoWHgkBI4XoUroOCQNejcD0KhYJAUrgeheuJgkD2KFyPwn+CQKkT0ETYfoJAKVyPwvWAgkCPwvUoXImCQM3MzMzMjoJAzczMzMyWgkDNzMzMzJiCQArXo3A9poJACtejcD2wgkA9CtejcK2CQMP1KFyProJAH4XrUbiwgkA=",
          "dtype": "f8"
         },
         "yaxis": "y"
        },
        {
         "hovertemplate": "variable=Close<br>Time=%{x}<br>value=%{y}<extra></extra>",
         "legendgroup": "Close",
         "line": {
          "color": "#ab63fa",
          "dash": "solid"
         },
         "marker": {
          "symbol": "circle"
         },
         "mode": "lines",
         "name": "Close",
         "orientation": "v",
         "showlegend": true,
         "type": "scatter",
         "x": [
          "2025-02-27 20:00:00",
          "2025-02-27 19:45:00",
          "2025-02-27 19:30:00",
          "2025-02-27 19:15:00",
          "2025-02-27 19:00:00",
          "2025-02-27 18:45:00",
          "2025-02-27 18:30:00",
          "2025-02-27 18:15:00",
          "2025-02-27 18:00:00",
          "2025-02-27 17:45:00",
          "2025-02-27 17:30:00",
          "2025-02-27 17:15:00",
          "2025-02-27 17:00:00",
          "2025-02-27 16:45:00",
          "2025-02-27 16:30:00",
          "2025-02-27 16:15:00",
          "2025-02-27 16:00:00",
          "2025-02-27 15:45:00",
          "2025-02-27 15:30:00",
          "2025-02-27 15:15:00",
          "2025-02-27 15:00:00",
          "2025-02-27 14:45:00",
          "2025-02-27 14:30:00",
          "2025-02-27 14:15:00",
          "2025-02-27 14:00:00",
          "2025-02-27 13:45:00",
          "2025-02-27 13:30:00",
          "2025-02-27 13:15:00",
          "2025-02-27 13:00:00",
          "2025-02-27 12:45:00",
          "2025-02-27 12:30:00",
          "2025-02-27 12:15:00",
          "2025-02-27 12:00:00",
          "2025-02-27 11:45:00",
          "2025-02-27 11:30:00",
          "2025-02-27 11:15:00",
          "2025-02-27 11:00:00",
          "2025-02-27 10:45:00",
          "2025-02-27 10:30:00",
          "2025-02-27 10:15:00",
          "2025-02-27 10:00:00",
          "2025-02-27 09:45:00",
          "2025-02-27 09:30:00",
          "2025-02-27 09:15:00",
          "2025-02-27 09:00:00",
          "2025-02-27 08:45:00",
          "2025-02-27 08:30:00",
          "2025-02-27 08:15:00",
          "2025-02-27 08:00:00",
          "2025-02-27 07:45:00",
          "2025-02-27 07:30:00",
          "2025-02-27 07:15:00",
          "2025-02-27 07:00:00",
          "2025-02-27 06:45:00",
          "2025-02-27 06:30:00",
          "2025-02-27 06:15:00",
          "2025-02-27 06:00:00",
          "2025-02-27 05:45:00",
          "2025-02-27 05:30:00",
          "2025-02-27 05:15:00",
          "2025-02-27 05:00:00",
          "2025-02-27 04:45:00",
          "2025-02-27 04:30:00",
          "2025-02-27 04:15:00",
          "2025-02-27 04:00:00",
          "2025-02-26 20:00:00",
          "2025-02-26 19:45:00",
          "2025-02-26 19:30:00",
          "2025-02-26 19:15:00",
          "2025-02-26 19:00:00",
          "2025-02-26 18:45:00",
          "2025-02-26 18:30:00",
          "2025-02-26 18:15:00",
          "2025-02-26 18:00:00",
          "2025-02-26 17:45:00",
          "2025-02-26 17:30:00",
          "2025-02-26 17:15:00",
          "2025-02-26 17:00:00",
          "2025-02-26 16:45:00",
          "2025-02-26 16:30:00",
          "2025-02-26 16:15:00",
          "2025-02-26 16:00:00",
          "2025-02-26 15:45:00",
          "2025-02-26 15:30:00",
          "2025-02-26 15:15:00",
          "2025-02-26 15:00:00",
          "2025-02-26 14:45:00",
          "2025-02-26 14:30:00",
          "2025-02-26 14:15:00",
          "2025-02-26 14:00:00",
          "2025-02-26 13:45:00",
          "2025-02-26 13:30:00",
          "2025-02-26 13:15:00",
          "2025-02-26 13:00:00",
          "2025-02-26 12:45:00",
          "2025-02-26 12:30:00",
          "2025-02-26 12:15:00",
          "2025-02-26 12:00:00",
          "2025-02-26 11:45:00",
          "2025-02-26 11:30:00"
         ],
         "xaxis": "x",
         "y": {
          "bdata": "ZmZmZmZIgkDXo3A9CkeCQM6qz9XWSYJAFK5H4XpMgkBI4XoUrk+CQBSuR+F6UIJAZmZmZmZOgkDD9Shcj06CQDMzMzMzToJArkfhehRMgkAzMzMzM0uCQDMzMzMzS4JA16NwPQpLgkBmZmZmZkyCQIXrUbgeT4JApHA9CtdNgkA5tMh2PkqCQLgehetRSIJACtejcD1SgkAUrkfhelKCQBSuR+F6WoJACtejcD1qgkCF61G4HmmCQNk9eVgodoJAZmZmZmaEgkBI4XoUro2CQHsUrkfhkoJAH4XrUbiUgkDXo3A9CpWCQI/C9Shci4JA7C+7J4+GgkCamZmZmY+CQIXrUbgeg4JAmpmZmZmDgkCF61G4Ho+CQApoImz4kIJAZmZmZmaagkD6fmq8dIuCQGZmZmZmmIJAmpmZmZmbgkBxPQrXo5CCQBSuR+F6g4JAIGPuWsKbgkDXo3A9CqeCQM3MzMzMqIJA16NwPQqfgkBSuB6F66+CQFyPwvUoroJAj8L1KFywgkD2KFyPwq+CQAAAAAAAtIJAZmZmZmaygkD2KFyPwrGCQClcj8L1soJAmpmZmZmvgkBcj8L1KLCCQB+F61G4sIJAzczMzMyugkA9CtejcK2CQB+F61G4roJAUrgeheutgkBmZmZmZq6CQArXo3A9roJACtejcD2ugkCamZmZmamCQLgehetRlIJAPQrXo3CNgkCamZmZmZGCQOxRuB6FkYJAFK5H4XqWgkDD9Shcj5iCQPYoXI/Ck4JAuB6F61GUgkAK16NwPZaCQEjhehSumYJAZmZmZmaegkCamZmZmZ+CQAtGJXUCooJAFK5H4XqigkC4HoXrUZiCQAAAAAAAlIJACtejcD2WgkA9CtejcJOCQBSuR+F6loJAH4XrUbiMgkBcj8L1KIqCQK5H4XoUhoJAPQrXo3CRgkAnMQisHIuCQI51cRsNhIJAcT0K16OEgkCF61G4Ho2CQGZmZmZmj4JAcT0K16ObgkCkcD0K15yCQArXo3A9qoJAzczMzMy0gkA9CtejcLiCQK5H4XoUsIJAm+Ydp+i2gkA=",
          "dtype": "f8"
         },
         "yaxis": "y"
        },
        {
         "hovertemplate": "variable=Volume<br>Time=%{x}<br>value=%{y}<extra></extra>",
         "legendgroup": "Volume",
         "line": {
          "color": "#FFA15A",
          "dash": "solid"
         },
         "marker": {
          "symbol": "circle"
         },
         "mode": "lines",
         "name": "Volume",
         "orientation": "v",
         "showlegend": true,
         "type": "scatter",
         "x": [
          "2025-02-27 20:00:00",
          "2025-02-27 19:45:00",
          "2025-02-27 19:30:00",
          "2025-02-27 19:15:00",
          "2025-02-27 19:00:00",
          "2025-02-27 18:45:00",
          "2025-02-27 18:30:00",
          "2025-02-27 18:15:00",
          "2025-02-27 18:00:00",
          "2025-02-27 17:45:00",
          "2025-02-27 17:30:00",
          "2025-02-27 17:15:00",
          "2025-02-27 17:00:00",
          "2025-02-27 16:45:00",
          "2025-02-27 16:30:00",
          "2025-02-27 16:15:00",
          "2025-02-27 16:00:00",
          "2025-02-27 15:45:00",
          "2025-02-27 15:30:00",
          "2025-02-27 15:15:00",
          "2025-02-27 15:00:00",
          "2025-02-27 14:45:00",
          "2025-02-27 14:30:00",
          "2025-02-27 14:15:00",
          "2025-02-27 14:00:00",
          "2025-02-27 13:45:00",
          "2025-02-27 13:30:00",
          "2025-02-27 13:15:00",
          "2025-02-27 13:00:00",
          "2025-02-27 12:45:00",
          "2025-02-27 12:30:00",
          "2025-02-27 12:15:00",
          "2025-02-27 12:00:00",
          "2025-02-27 11:45:00",
          "2025-02-27 11:30:00",
          "2025-02-27 11:15:00",
          "2025-02-27 11:00:00",
          "2025-02-27 10:45:00",
          "2025-02-27 10:30:00",
          "2025-02-27 10:15:00",
          "2025-02-27 10:00:00",
          "2025-02-27 09:45:00",
          "2025-02-27 09:30:00",
          "2025-02-27 09:15:00",
          "2025-02-27 09:00:00",
          "2025-02-27 08:45:00",
          "2025-02-27 08:30:00",
          "2025-02-27 08:15:00",
          "2025-02-27 08:00:00",
          "2025-02-27 07:45:00",
          "2025-02-27 07:30:00",
          "2025-02-27 07:15:00",
          "2025-02-27 07:00:00",
          "2025-02-27 06:45:00",
          "2025-02-27 06:30:00",
          "2025-02-27 06:15:00",
          "2025-02-27 06:00:00",
          "2025-02-27 05:45:00",
          "2025-02-27 05:30:00",
          "2025-02-27 05:15:00",
          "2025-02-27 05:00:00",
          "2025-02-27 04:45:00",
          "2025-02-27 04:30:00",
          "2025-02-27 04:15:00",
          "2025-02-27 04:00:00",
          "2025-02-26 20:00:00",
          "2025-02-26 19:45:00",
          "2025-02-26 19:30:00",
          "2025-02-26 19:15:00",
          "2025-02-26 19:00:00",
          "2025-02-26 18:45:00",
          "2025-02-26 18:30:00",
          "2025-02-26 18:15:00",
          "2025-02-26 18:00:00",
          "2025-02-26 17:45:00",
          "2025-02-26 17:30:00",
          "2025-02-26 17:15:00",
          "2025-02-26 17:00:00",
          "2025-02-26 16:45:00",
          "2025-02-26 16:30:00",
          "2025-02-26 16:15:00",
          "2025-02-26 16:00:00",
          "2025-02-26 15:45:00",
          "2025-02-26 15:30:00",
          "2025-02-26 15:15:00",
          "2025-02-26 15:00:00",
          "2025-02-26 14:45:00",
          "2025-02-26 14:30:00",
          "2025-02-26 14:15:00",
          "2025-02-26 14:00:00",
          "2025-02-26 13:45:00",
          "2025-02-26 13:30:00",
          "2025-02-26 13:15:00",
          "2025-02-26 13:00:00",
          "2025-02-26 12:45:00",
          "2025-02-26 12:30:00",
          "2025-02-26 12:15:00",
          "2025-02-26 12:00:00",
          "2025-02-26 11:45:00",
          "2025-02-26 11:30:00"
         ],
         "xaxis": "x",
         "y": {
          "bdata": "AAAAAGnOOEEAAAAAQNnbQAAAAACAr89AAAAAAACD0kAAAAAAAObPQAAAAABg8O5AAAAAABQjOkEAAAAAAI3hQAAAAADQN/FAAAAAAODF4UAAAAAAYGjmQAAAAADgyPFAAAAAAC7iIUEAAAAAcEH2QAAAAACAbfpAAAAAAKG8QUEAAACAEthqQQAAAEDiKGZBAAAAgAN6S0EAAAAAO9hIQQAAAAAEQElBAAAAAAcpP0EAAAAA1tNGQQAAAABm2jhBAAAAAMhqLUEAAAAALqIlQQAAAADCpiBBAAAAAGXEMkEAAAAAyMsuQQAAAACS/ihBAAAAAA7gLkEAAAAAJLo0QQAAAACr2jBBAAAAAB4tNEEAAAAA9DUuQQAAAADKBS9BAAAAACwuNkEAAAAAa3QzQQAAAABeHTZBAAAAgGi/QkEAAAAARFJOQQAAAICBW0dBAAAAAKGjRUEAAAAA+LoBQQAAAABgChNBAAAAANmPMUEAAAAAiAwRQQAAAAAQdPxAAAAAAAgdAEEAAAAA0Fj2QAAAAABAS/RAAAAAALC++EAAAAAAiLEMQQAAAAAAMMBAAAAAAICSz0AAAAAAAPHFQAAAAAAACcNAAAAAAAA3sEAAAAAAAHCjQAAAAAAAQr9AAAAAAAAGo0AAAAAAAICqQAAAAACAdcVAAAAAAIBjwUAAAAAAAFPZQAAAAADE6yZBAAAAAKBJ40AAAAAAAJvTQAAAAACA79VAAAAAAABzukAAAAAAAMm7QAAAAABkYSdBAAAAAMB04kAAAAAAYPH0QAAAAABAZddAAAAAAEC/30AAAAAAsEX7QAAAAAB4swFBAAAAAEBLBkEAAAAACCoMQQAAAABjzTBBAAAAwLBoUkEAAAAAVJpQQQAAAABfKD5BAAAAAICqMUEAAAAA6asxQQAAAAAUlyxBAAAAAC/JM0EAAAAA/P4zQQAAAACZYztBAAAAAPqQOkEAAAAA2p0xQQAAAABgVjRBAAAAALMwM0EAAAAACK8wQQAAAADT1DVBAAAAAAxNLkEAAAAA0CclQQAAAADmRSZBAAAAAIo5L0E=",
          "dtype": "f8"
         },
         "yaxis": "y"
        }
       ],
       "layout": {
        "legend": {
         "title": {
          "text": "variable"
         },
         "tracegroupgap": 0
        },
        "margin": {
         "t": 60
        },
        "template": {
         "data": {
          "bar": [
           {
            "error_x": {
             "color": "#2a3f5f"
            },
            "error_y": {
             "color": "#2a3f5f"
            },
            "marker": {
             "line": {
              "color": "#E5ECF6",
              "width": 0.5
             },
             "pattern": {
              "fillmode": "overlay",
              "size": 10,
              "solidity": 0.2
             }
            },
            "type": "bar"
           }
          ],
          "barpolar": [
           {
            "marker": {
             "line": {
              "color": "#E5ECF6",
              "width": 0.5
             },
             "pattern": {
              "fillmode": "overlay",
              "size": 10,
              "solidity": 0.2
             }
            },
            "type": "barpolar"
           }
          ],
          "carpet": [
           {
            "aaxis": {
             "endlinecolor": "#2a3f5f",
             "gridcolor": "white",
             "linecolor": "white",
             "minorgridcolor": "white",
             "startlinecolor": "#2a3f5f"
            },
            "baxis": {
             "endlinecolor": "#2a3f5f",
             "gridcolor": "white",
             "linecolor": "white",
             "minorgridcolor": "white",
             "startlinecolor": "#2a3f5f"
            },
            "type": "carpet"
           }
          ],
          "choropleth": [
           {
            "colorbar": {
             "outlinewidth": 0,
             "ticks": ""
            },
            "type": "choropleth"
           }
          ],
          "contour": [
           {
            "colorbar": {
             "outlinewidth": 0,
             "ticks": ""
            },
            "colorscale": [
             [
              0,
              "#0d0887"
             ],
             [
              0.1111111111111111,
              "#46039f"
             ],
             [
              0.2222222222222222,
              "#7201a8"
             ],
             [
              0.3333333333333333,
              "#9c179e"
             ],
             [
              0.4444444444444444,
              "#bd3786"
             ],
             [
              0.5555555555555556,
              "#d8576b"
             ],
             [
              0.6666666666666666,
              "#ed7953"
             ],
             [
              0.7777777777777778,
              "#fb9f3a"
             ],
             [
              0.8888888888888888,
              "#fdca26"
             ],
             [
              1,
              "#f0f921"
             ]
            ],
            "type": "contour"
           }
          ],
          "contourcarpet": [
           {
            "colorbar": {
             "outlinewidth": 0,
             "ticks": ""
            },
            "type": "contourcarpet"
           }
          ],
          "heatmap": [
           {
            "colorbar": {
             "outlinewidth": 0,
             "ticks": ""
            },
            "colorscale": [
             [
              0,
              "#0d0887"
             ],
             [
              0.1111111111111111,
              "#46039f"
             ],
             [
              0.2222222222222222,
              "#7201a8"
             ],
             [
              0.3333333333333333,
              "#9c179e"
             ],
             [
              0.4444444444444444,
              "#bd3786"
             ],
             [
              0.5555555555555556,
              "#d8576b"
             ],
             [
              0.6666666666666666,
              "#ed7953"
             ],
             [
              0.7777777777777778,
              "#fb9f3a"
             ],
             [
              0.8888888888888888,
              "#fdca26"
             ],
             [
              1,
              "#f0f921"
             ]
            ],
            "type": "heatmap"
           }
          ],
          "histogram": [
           {
            "marker": {
             "pattern": {
              "fillmode": "overlay",
              "size": 10,
              "solidity": 0.2
             }
            },
            "type": "histogram"
           }
          ],
          "histogram2d": [
           {
            "colorbar": {
             "outlinewidth": 0,
             "ticks": ""
            },
            "colorscale": [
             [
              0,
              "#0d0887"
             ],
             [
              0.1111111111111111,
              "#46039f"
             ],
             [
              0.2222222222222222,
              "#7201a8"
             ],
             [
              0.3333333333333333,
              "#9c179e"
             ],
             [
              0.4444444444444444,
              "#bd3786"
             ],
             [
              0.5555555555555556,
              "#d8576b"
             ],
             [
              0.6666666666666666,
              "#ed7953"
             ],
             [
              0.7777777777777778,
              "#fb9f3a"
             ],
             [
              0.8888888888888888,
              "#fdca26"
             ],
             [
              1,
              "#f0f921"
             ]
            ],
            "type": "histogram2d"
           }
          ],
          "histogram2dcontour": [
           {
            "colorbar": {
             "outlinewidth": 0,
             "ticks": ""
            },
            "colorscale": [
             [
              0,
              "#0d0887"
             ],
             [
              0.1111111111111111,
              "#46039f"
             ],
             [
              0.2222222222222222,
              "#7201a8"
             ],
             [
              0.3333333333333333,
              "#9c179e"
             ],
             [
              0.4444444444444444,
              "#bd3786"
             ],
             [
              0.5555555555555556,
              "#d8576b"
             ],
             [
              0.6666666666666666,
              "#ed7953"
             ],
             [
              0.7777777777777778,
              "#fb9f3a"
             ],
             [
              0.8888888888888888,
              "#fdca26"
             ],
             [
              1,
              "#f0f921"
             ]
            ],
            "type": "histogram2dcontour"
           }
          ],
          "mesh3d": [
           {
            "colorbar": {
             "outlinewidth": 0,
             "ticks": ""
            },
            "type": "mesh3d"
           }
          ],
          "parcoords": [
           {
            "line": {
             "colorbar": {
              "outlinewidth": 0,
              "ticks": ""
             }
            },
            "type": "parcoords"
           }
          ],
          "pie": [
           {
            "automargin": true,
            "type": "pie"
           }
          ],
          "scatter": [
           {
            "fillpattern": {
             "fillmode": "overlay",
             "size": 10,
             "solidity": 0.2
            },
            "type": "scatter"
           }
          ],
          "scatter3d": [
           {
            "line": {
             "colorbar": {
              "outlinewidth": 0,
              "ticks": ""
             }
            },
            "marker": {
             "colorbar": {
              "outlinewidth": 0,
              "ticks": ""
             }
            },
            "type": "scatter3d"
           }
          ],
          "scattercarpet": [
           {
            "marker": {
             "colorbar": {
              "outlinewidth": 0,
              "ticks": ""
             }
            },
            "type": "scattercarpet"
           }
          ],
          "scattergeo": [
           {
            "marker": {
             "colorbar": {
              "outlinewidth": 0,
              "ticks": ""
             }
            },
            "type": "scattergeo"
           }
          ],
          "scattergl": [
           {
            "marker": {
             "colorbar": {
              "outlinewidth": 0,
              "ticks": ""
             }
            },
            "type": "scattergl"
           }
          ],
          "scattermap": [
           {
            "marker": {
             "colorbar": {
              "outlinewidth": 0,
              "ticks": ""
             }
            },
            "type": "scattermap"
           }
          ],
          "scattermapbox": [
           {
            "marker": {
             "colorbar": {
              "outlinewidth": 0,
              "ticks": ""
             }
            },
            "type": "scattermapbox"
           }
          ],
          "scatterpolar": [
           {
            "marker": {
             "colorbar": {
              "outlinewidth": 0,
              "ticks": ""
             }
            },
            "type": "scatterpolar"
           }
          ],
          "scatterpolargl": [
           {
            "marker": {
             "colorbar": {
              "outlinewidth": 0,
              "ticks": ""
             }
            },
            "type": "scatterpolargl"
           }
          ],
          "scatterternary": [
           {
            "marker": {
             "colorbar": {
              "outlinewidth": 0,
              "ticks": ""
             }
            },
            "type": "scatterternary"
           }
          ],
          "surface": [
           {
            "colorbar": {
             "outlinewidth": 0,
             "ticks": ""
            },
            "colorscale": [
             [
              0,
              "#0d0887"
             ],
             [
              0.1111111111111111,
              "#46039f"
             ],
             [
              0.2222222222222222,
              "#7201a8"
             ],
             [
              0.3333333333333333,
              "#9c179e"
             ],
             [
              0.4444444444444444,
              "#bd3786"
             ],
             [
              0.5555555555555556,
              "#d8576b"
             ],
             [
              0.6666666666666666,
              "#ed7953"
             ],
             [
              0.7777777777777778,
              "#fb9f3a"
             ],
             [
              0.8888888888888888,
              "#fdca26"
             ],
             [
              1,
              "#f0f921"
             ]
            ],
            "type": "surface"
           }
          ],
          "table": [
           {
            "cells": {
             "fill": {
              "color": "#EBF0F8"
             },
             "line": {
              "color": "white"
             }
            },
            "header": {
             "fill": {
              "color": "#C8D4E3"
             },
             "line": {
              "color": "white"
             }
            },
            "type": "table"
           }
          ]
         },
         "layout": {
          "annotationdefaults": {
           "arrowcolor": "#2a3f5f",
           "arrowhead": 0,
           "arrowwidth": 1
          },
          "autotypenumbers": "strict",
          "coloraxis": {
           "colorbar": {
            "outlinewidth": 0,
            "ticks": ""
           }
          },
          "colorscale": {
           "diverging": [
            [
             0,
             "#8e0152"
            ],
            [
             0.1,
             "#c51b7d"
            ],
            [
             0.2,
             "#de77ae"
            ],
            [
             0.3,
             "#f1b6da"
            ],
            [
             0.4,
             "#fde0ef"
            ],
            [
             0.5,
             "#f7f7f7"
            ],
            [
             0.6,
             "#e6f5d0"
            ],
            [
             0.7,
             "#b8e186"
            ],
            [
             0.8,
             "#7fbc41"
            ],
            [
             0.9,
             "#4d9221"
            ],
            [
             1,
             "#276419"
            ]
           ],
           "sequential": [
            [
             0,
             "#0d0887"
            ],
            [
             0.1111111111111111,
             "#46039f"
            ],
            [
             0.2222222222222222,
             "#7201a8"
            ],
            [
             0.3333333333333333,
             "#9c179e"
            ],
            [
             0.4444444444444444,
             "#bd3786"
            ],
            [
             0.5555555555555556,
             "#d8576b"
            ],
            [
             0.6666666666666666,
             "#ed7953"
            ],
            [
             0.7777777777777778,
             "#fb9f3a"
            ],
            [
             0.8888888888888888,
             "#fdca26"
            ],
            [
             1,
             "#f0f921"
            ]
           ],
           "sequentialminus": [
            [
             0,
             "#0d0887"
            ],
            [
             0.1111111111111111,
             "#46039f"
            ],
            [
             0.2222222222222222,
             "#7201a8"
            ],
            [
             0.3333333333333333,
             "#9c179e"
            ],
            [
             0.4444444444444444,
             "#bd3786"
            ],
            [
             0.5555555555555556,
             "#d8576b"
            ],
            [
             0.6666666666666666,
             "#ed7953"
            ],
            [
             0.7777777777777778,
             "#fb9f3a"
            ],
            [
             0.8888888888888888,
             "#fdca26"
            ],
            [
             1,
             "#f0f921"
            ]
           ]
          },
          "colorway": [
           "#636efa",
           "#EF553B",
           "#00cc96",
           "#ab63fa",
           "#FFA15A",
           "#19d3f3",
           "#FF6692",
           "#B6E880",
           "#FF97FF",
           "#FECB52"
          ],
          "font": {
           "color": "#2a3f5f"
          },
          "geo": {
           "bgcolor": "white",
           "lakecolor": "white",
           "landcolor": "#E5ECF6",
           "showlakes": true,
           "showland": true,
           "subunitcolor": "white"
          },
          "hoverlabel": {
           "align": "left"
          },
          "hovermode": "closest",
          "mapbox": {
           "style": "light"
          },
          "paper_bgcolor": "white",
          "plot_bgcolor": "#E5ECF6",
          "polar": {
           "angularaxis": {
            "gridcolor": "white",
            "linecolor": "white",
            "ticks": ""
           },
           "bgcolor": "#E5ECF6",
           "radialaxis": {
            "gridcolor": "white",
            "linecolor": "white",
            "ticks": ""
           }
          },
          "scene": {
           "xaxis": {
            "backgroundcolor": "#E5ECF6",
            "gridcolor": "white",
            "gridwidth": 2,
            "linecolor": "white",
            "showbackground": true,
            "ticks": "",
            "zerolinecolor": "white"
           },
           "yaxis": {
            "backgroundcolor": "#E5ECF6",
            "gridcolor": "white",
            "gridwidth": 2,
            "linecolor": "white",
            "showbackground": true,
            "ticks": "",
            "zerolinecolor": "white"
           },
           "zaxis": {
            "backgroundcolor": "#E5ECF6",
            "gridcolor": "white",
            "gridwidth": 2,
            "linecolor": "white",
            "showbackground": true,
            "ticks": "",
            "zerolinecolor": "white"
           }
          },
          "shapedefaults": {
           "line": {
            "color": "#2a3f5f"
           }
          },
          "ternary": {
           "aaxis": {
            "gridcolor": "white",
            "linecolor": "white",
            "ticks": ""
           },
           "baxis": {
            "gridcolor": "white",
            "linecolor": "white",
            "ticks": ""
           },
           "bgcolor": "#E5ECF6",
           "caxis": {
            "gridcolor": "white",
            "linecolor": "white",
            "ticks": ""
           }
          },
          "title": {
           "x": 0.05
          },
          "xaxis": {
           "automargin": true,
           "gridcolor": "white",
           "linecolor": "white",
           "ticks": "",
           "title": {
            "standoff": 15
           },
           "zerolinecolor": "white",
           "zerolinewidth": 2
          },
          "yaxis": {
           "automargin": true,
           "gridcolor": "white",
           "linecolor": "white",
           "ticks": "",
           "title": {
            "standoff": 15
           },
           "zerolinecolor": "white",
           "zerolinewidth": 2
          }
         }
        },
        "xaxis": {
         "anchor": "y",
         "domain": [
          0,
          1
         ],
         "title": {
          "text": "Time"
         }
        },
        "yaxis": {
         "anchor": "x",
         "domain": [
          0,
          1
         ],
         "title": {
          "text": "value"
         }
        }
       }
      }
     },
     "metadata": {},
     "output_type": "display_data"
    }
   ],
   "source": [
    "import plotly\n",
    "import pandas as pd\n",
    "import plotly.express as px\n",
    "import matplotlib.pyplot as plt\n",
    "\n",
    "pd.options.plotting.backend = \"plotly\"\n",
    "\n",
    "# Asegúrate de que `df_spy` es un DataFrame válido\n",
    "fig = df_spy.plot(x='Time', y=df_spy.columns)\n",
    "\n",
    "fig.show()"
   ]
  },
  {
   "cell_type": "markdown",
   "metadata": {},
   "source": [
    "### Obtención de datos adiccionales\n",
    "Las medias móviles simples (SMA) y el Average True Range (ATR) son indicadores técnicos ampliamente utilizados en el análisis de series temporales financieras. \n",
    "\n",
    "1. La media móvil simple (SMA) es el promedio del precio de cierre de un activo en un número determinado de períodos. Su principal objetivo es suavizar los datos y ayudar a identificar la dirección de la tendencia del mercado. Se calcula sumando los precios de cierre de los últimos N períodos y dividiendo entre N."
   ]
  },
  {
   "cell_type": "markdown",
   "metadata": {},
   "source": [
    "## Obtener los 3 SMA"
   ]
  },
  {
   "cell_type": "code",
   "execution_count": 19,
   "metadata": {},
   "outputs": [
    {
     "name": "stdout",
     "output_type": "stream",
     "text": [
      "Error obteniendo SMA para SPY (20 días).\n",
      "Respuesta de la API: {'Information': 'Thank you for using Alpha Vantage! Our standard API rate limit is 25 requests per day. Please subscribe to any of the premium plans at https://www.alphavantage.co/premium/ to instantly remove all daily rate limits.'}\n",
      "Error obteniendo SMA para SPY (50 días).\n",
      "Respuesta de la API: {'Information': 'Thank you for using Alpha Vantage! Our standard API rate limit is 25 requests per day. Please subscribe to any of the premium plans at https://www.alphavantage.co/premium/ to instantly remove all daily rate limits.'}\n",
      "Error obteniendo SMA para SPY (200 días).\n",
      "Respuesta de la API: {'Information': 'Thank you for using Alpha Vantage! Our standard API rate limit is 25 requests per day. Please subscribe to any of the premium plans at https://www.alphavantage.co/premium/ to instantly remove all daily rate limits.'}\n"
     ]
    },
    {
     "data": {
      "application/vnd.microsoft.datawrangler.viewer.v0+json": {
       "columns": [
        {
         "name": "index",
         "rawType": "int64",
         "type": "integer"
        }
       ],
       "conversionMethod": "pd.DataFrame",
       "ref": "ed415e53-9dbd-488d-a9d7-1cfa08b32116",
       "rows": [],
       "shape": {
        "columns": 0,
        "rows": 0
       }
      },
      "text/html": [
       "<div>\n",
       "<style scoped>\n",
       "    .dataframe tbody tr th:only-of-type {\n",
       "        vertical-align: middle;\n",
       "    }\n",
       "\n",
       "    .dataframe tbody tr th {\n",
       "        vertical-align: top;\n",
       "    }\n",
       "\n",
       "    .dataframe thead th {\n",
       "        text-align: right;\n",
       "    }\n",
       "</style>\n",
       "<table border=\"1\" class=\"dataframe\">\n",
       "  <thead>\n",
       "    <tr style=\"text-align: right;\">\n",
       "      <th></th>\n",
       "    </tr>\n",
       "  </thead>\n",
       "  <tbody>\n",
       "  </tbody>\n",
       "</table>\n",
       "</div>"
      ],
      "text/plain": [
       "Empty DataFrame\n",
       "Columns: []\n",
       "Index: []"
      ]
     },
     "execution_count": 19,
     "metadata": {},
     "output_type": "execute_result"
    }
   ],
   "source": [
    "import requests\n",
    "import pandas as pd\n",
    "\n",
    "SYMBOL = \"SPY\"  # Activo a analizar\n",
    "INTERVAL = \"15min\"\n",
    "\n",
    "def get_sma(symbol, interval, time_period):\n",
    "    \"\"\"\n",
    "    Obtiene la Media Móvil Simple (SMA) de un activo desde Alpha Vantage.\n",
    "    \n",
    "    Parámetros:\n",
    "    - symbol: Ticker del activo (Ejemplo: \"SPY\")\n",
    "    - time_period: Número de días para calcular la SMA (Ejemplo: 20, 50, 200)\n",
    "    \n",
    "    Retorna:\n",
    "    - DataFrame con la SMA calculada\n",
    "    \"\"\"\n",
    "    url = f\"https://www.alphavantage.co/query?function=SMA&symbol={symbol}&interval={interval}&time_period={time_period}&series_type=close&apikey=GJT1CV11AHDS6WXS\"\n",
    "    response = requests.get(url)\n",
    "    data = response.json()\n",
    "\n",
    "    key_name = list(data.keys())[-1] if len(data.keys()) > 1 else None\n",
    "    if not key_name or key_name == \"Information\":\n",
    "        print(f\"Error obteniendo SMA para {symbol} ({time_period} días).\")\n",
    "        print(\"Respuesta de la API:\", data)\n",
    "        return pd.DataFrame() \n",
    "\n",
    "    df = pd.DataFrame.from_dict(data[key_name], orient=\"index\")\n",
    "    df = df.rename(columns={\"SMA\": f\"SMA_{time_period}\"}) \n",
    "    df = df.astype(float)\n",
    "    df.index = pd.to_datetime(df.index)\n",
    "    return df.sort_index()\n",
    "\n",
    "sma_20 = get_sma(SYMBOL, INTERVAL, 20)\n",
    "sma_50 = get_sma(SYMBOL, INTERVAL, 50)\n",
    "sma_200 = get_sma(SYMBOL, INTERVAL, 200)\n",
    "\n",
    "# UNIR LAS TRES SMA EN UN SOLO DATAFRAME\n",
    "df_sma = sma_20.join([sma_50, sma_200], how=\"outer\")\n",
    "df_sma\n"
   ]
  },
  {
   "cell_type": "code",
   "execution_count": 6,
   "metadata": {},
   "outputs": [
    {
     "data": {
      "application/vnd.microsoft.datawrangler.viewer.v0+json": {
       "columns": [
        {
         "name": "index",
         "rawType": "datetime64[ns]",
         "type": "datetime"
        },
        {
         "name": "SMA_20",
         "rawType": "float64",
         "type": "float"
        },
        {
         "name": "SMA_50",
         "rawType": "float64",
         "type": "float"
        },
        {
         "name": "SMA_200",
         "rawType": "float64",
         "type": "float"
        }
       ],
       "conversionMethod": "pd.DataFrame",
       "ref": "fdfec1e9-6d8d-481d-94a5-aaeea913bc7a",
       "rows": [
        [
         "1999-11-29 00:00:00",
         "88.5199",
         null,
         null
        ],
        [
         "1999-11-30 00:00:00",
         "88.638",
         null,
         null
        ],
        [
         "1999-12-01 00:00:00",
         "88.8227",
         null,
         null
        ],
        [
         "1999-12-02 00:00:00",
         "89.0053",
         null,
         null
        ],
        [
         "1999-12-03 00:00:00",
         "89.2376",
         null,
         null
        ],
        [
         "1999-12-06 00:00:00",
         "89.3934",
         null,
         null
        ],
        [
         "1999-12-07 00:00:00",
         "89.5086",
         null,
         null
        ],
        [
         "1999-12-08 00:00:00",
         "89.6361",
         null,
         null
        ],
        [
         "1999-12-09 00:00:00",
         "89.7532",
         null,
         null
        ],
        [
         "1999-12-10 00:00:00",
         "89.8604",
         null,
         null
        ],
        [
         "1999-12-13 00:00:00",
         "89.9359",
         null,
         null
        ],
        [
         "1999-12-14 00:00:00",
         "89.9572",
         null,
         null
        ],
        [
         "1999-12-15 00:00:00",
         "89.9652",
         null,
         null
        ],
        [
         "1999-12-16 00:00:00",
         "89.981",
         null,
         null
        ],
        [
         "1999-12-17 00:00:00",
         "89.9941",
         null,
         null
        ],
        [
         "1999-12-20 00:00:00",
         "89.9782",
         null,
         null
        ],
        [
         "1999-12-21 00:00:00",
         "90.032",
         null,
         null
        ],
        [
         "1999-12-22 00:00:00",
         "90.1375",
         null,
         null
        ],
        [
         "1999-12-23 00:00:00",
         "90.2923",
         null,
         null
        ],
        [
         "1999-12-27 00:00:00",
         "90.4574",
         null,
         null
        ],
        [
         "1999-12-28 00:00:00",
         "90.6355",
         null,
         null
        ],
        [
         "1999-12-29 00:00:00",
         "90.8861",
         null,
         null
        ],
        [
         "1999-12-30 00:00:00",
         "91.0954",
         null,
         null
        ],
        [
         "1999-12-31 00:00:00",
         "91.2855",
         null,
         null
        ],
        [
         "2000-01-03 00:00:00",
         "91.3474",
         null,
         null
        ],
        [
         "2000-01-04 00:00:00",
         "91.2619",
         null,
         null
        ],
        [
         "2000-01-05 00:00:00",
         "91.2211",
         null,
         null
        ],
        [
         "2000-01-06 00:00:00",
         "91.1375",
         null,
         null
        ],
        [
         "2000-01-07 00:00:00",
         "91.2867",
         null,
         null
        ],
        [
         "2000-01-10 00:00:00",
         "91.437",
         null,
         null
        ],
        [
         "2000-01-11 00:00:00",
         "91.5236",
         "89.9995",
         null
        ],
        [
         "2000-01-12 00:00:00",
         "91.6081",
         "90.0992",
         null
        ],
        [
         "2000-01-13 00:00:00",
         "91.7305",
         "90.2359",
         null
        ],
        [
         "2000-01-14 00:00:00",
         "91.8957",
         "90.3862",
         null
        ],
        [
         "2000-01-18 00:00:00",
         "91.9953",
         "90.5086",
         null
        ],
        [
         "2000-01-19 00:00:00",
         "92.1654",
         "90.6291",
         null
        ],
        [
         "2000-01-20 00:00:00",
         "92.1953",
         "90.7194",
         null
        ],
        [
         "2000-01-21 00:00:00",
         "92.2032",
         "90.8221",
         null
        ],
        [
         "2000-01-24 00:00:00",
         "92.0077",
         "90.8598",
         null
        ],
        [
         "2000-01-25 00:00:00",
         "91.8694",
         "90.9079",
         null
        ],
        [
         "2000-01-26 00:00:00",
         "91.6982",
         "90.9257",
         null
        ],
        [
         "2000-01-27 00:00:00",
         "91.4893",
         "90.9323",
         null
        ],
        [
         "2000-01-28 00:00:00",
         "91.1465",
         "90.8682",
         null
        ],
        [
         "2000-01-31 00:00:00",
         "90.9137",
         "90.8463",
         null
        ],
        [
         "2000-02-01 00:00:00",
         "90.7704",
         "90.8292",
         null
        ],
        [
         "2000-02-02 00:00:00",
         "90.8122",
         "90.8153",
         null
        ],
        [
         "2000-02-03 00:00:00",
         "90.9137",
         "90.8289",
         null
        ],
        [
         "2000-02-04 00:00:00",
         "91.0679",
         "90.8508",
         null
        ],
        [
         "2000-02-07 00:00:00",
         "90.9604",
         "90.8603",
         null
        ],
        [
         "2000-02-08 00:00:00",
         "90.8987",
         "90.9013",
         null
        ]
       ],
       "shape": {
        "columns": 3,
        "rows": 6351
       }
      },
      "text/html": [
       "<div>\n",
       "<style scoped>\n",
       "    .dataframe tbody tr th:only-of-type {\n",
       "        vertical-align: middle;\n",
       "    }\n",
       "\n",
       "    .dataframe tbody tr th {\n",
       "        vertical-align: top;\n",
       "    }\n",
       "\n",
       "    .dataframe thead th {\n",
       "        text-align: right;\n",
       "    }\n",
       "</style>\n",
       "<table border=\"1\" class=\"dataframe\">\n",
       "  <thead>\n",
       "    <tr style=\"text-align: right;\">\n",
       "      <th></th>\n",
       "      <th>SMA_20</th>\n",
       "      <th>SMA_50</th>\n",
       "      <th>SMA_200</th>\n",
       "    </tr>\n",
       "  </thead>\n",
       "  <tbody>\n",
       "    <tr>\n",
       "      <th>1999-11-29</th>\n",
       "      <td>88.5199</td>\n",
       "      <td>NaN</td>\n",
       "      <td>NaN</td>\n",
       "    </tr>\n",
       "    <tr>\n",
       "      <th>1999-11-30</th>\n",
       "      <td>88.6380</td>\n",
       "      <td>NaN</td>\n",
       "      <td>NaN</td>\n",
       "    </tr>\n",
       "    <tr>\n",
       "      <th>1999-12-01</th>\n",
       "      <td>88.8227</td>\n",
       "      <td>NaN</td>\n",
       "      <td>NaN</td>\n",
       "    </tr>\n",
       "    <tr>\n",
       "      <th>1999-12-02</th>\n",
       "      <td>89.0053</td>\n",
       "      <td>NaN</td>\n",
       "      <td>NaN</td>\n",
       "    </tr>\n",
       "    <tr>\n",
       "      <th>1999-12-03</th>\n",
       "      <td>89.2376</td>\n",
       "      <td>NaN</td>\n",
       "      <td>NaN</td>\n",
       "    </tr>\n",
       "    <tr>\n",
       "      <th>...</th>\n",
       "      <td>...</td>\n",
       "      <td>...</td>\n",
       "      <td>...</td>\n",
       "    </tr>\n",
       "    <tr>\n",
       "      <th>2025-02-21</th>\n",
       "      <td>604.9540</td>\n",
       "      <td>598.8254</td>\n",
       "      <td>566.1337</td>\n",
       "    </tr>\n",
       "    <tr>\n",
       "      <th>2025-02-24</th>\n",
       "      <td>604.4160</td>\n",
       "      <td>598.7161</td>\n",
       "      <td>566.5617</td>\n",
       "    </tr>\n",
       "    <tr>\n",
       "      <th>2025-02-25</th>\n",
       "      <td>604.1595</td>\n",
       "      <td>598.5849</td>\n",
       "      <td>566.9719</td>\n",
       "    </tr>\n",
       "    <tr>\n",
       "      <th>2025-02-26</th>\n",
       "      <td>603.6605</td>\n",
       "      <td>598.3667</td>\n",
       "      <td>567.3834</td>\n",
       "    </tr>\n",
       "    <tr>\n",
       "      <th>2025-02-27</th>\n",
       "      <td>602.8225</td>\n",
       "      <td>598.0212</td>\n",
       "      <td>567.7326</td>\n",
       "    </tr>\n",
       "  </tbody>\n",
       "</table>\n",
       "<p>6351 rows × 3 columns</p>\n",
       "</div>"
      ],
      "text/plain": [
       "              SMA_20    SMA_50   SMA_200\n",
       "1999-11-29   88.5199       NaN       NaN\n",
       "1999-11-30   88.6380       NaN       NaN\n",
       "1999-12-01   88.8227       NaN       NaN\n",
       "1999-12-02   89.0053       NaN       NaN\n",
       "1999-12-03   89.2376       NaN       NaN\n",
       "...              ...       ...       ...\n",
       "2025-02-21  604.9540  598.8254  566.1337\n",
       "2025-02-24  604.4160  598.7161  566.5617\n",
       "2025-02-25  604.1595  598.5849  566.9719\n",
       "2025-02-26  603.6605  598.3667  567.3834\n",
       "2025-02-27  602.8225  598.0212  567.7326\n",
       "\n",
       "[6351 rows x 3 columns]"
      ]
     },
     "execution_count": 6,
     "metadata": {},
     "output_type": "execute_result"
    }
   ],
   "source": [
    "df_sma"
   ]
  },
  {
   "cell_type": "code",
   "execution_count": 9,
   "metadata": {},
   "outputs": [],
   "source": [
    "import requests\n",
    "import pandas as pd\n",
    "\n",
    "API_KEY = \"TU_API_KEY\"  \n",
    "SYMBOL = \"SPY\"  \n",
    "INTERVAL = \"15min\" \n",
    "\n",
    "# FUNCIÓN PARA OBTENER INDICADORES TÉCNICOS (MACD, ATR)\n",
    "def get_technical_indicator(symbol, function, interval, params=\"\"):\n",
    "    \"\"\"\n",
    "    Obtiene un indicador técnico desde Alpha Vantage.\n",
    "\n",
    "    Parámetros:\n",
    "    - symbol: Ticker del activo (Ejemplo: \"SPY\")\n",
    "    - function: Indicador a obtener (Ejemplo: \"MACD\", \"ATR\")\n",
    "    - interval: Intervalo de tiempo (Ejemplo: \"1min\", \"5min\", \"15min\", \"30min\", \"60min\")\n",
    "    - params: Parámetros adicionales para la API\n",
    "\n",
    "    Retorna:\n",
    "    - DataFrame con el indicador técnico calculado\n",
    "    \"\"\"\n",
    "    url = f\"https://www.alphavantage.co/query?function={function}&symbol={symbol}&interval={interval}{params}&apikey=YBKMA5L9K9I3GE0E\"\n",
    "    response = requests.get(url)\n",
    "    data = response.json()\n",
    "\n",
    "    key_name = list(data.keys())[-1] if len(data.keys()) > 1 else None\n",
    "    if not key_name or key_name == \"Information\":\n",
    "        print(f\"Error obteniendo {function} para {symbol} (intervalo {interval}).\")\n",
    "        print(\"Respuesta de la API:\", data)\n",
    "        return pd.DataFrame()  # Devuelve un DataFrame vacío si hay error\n",
    "\n",
    "    df = pd.DataFrame.from_dict(data[key_name], orient=\"index\")\n",
    "    df = df.astype(float)\n",
    "    df.index = pd.to_datetime(df.index)  # Convertir índice a formato fecha-hora\n",
    "    return df.sort_index()\n",
    "\n",
    "atr = get_technical_indicator(SYMBOL, \"ATR\", INTERVAL, \"&time_period=14\")\n",
    "atr = atr.rename(columns={\"ATR\": \"ATR_15min\"})\n",
    "\n",
    "\n",
    "\n"
   ]
  },
  {
   "cell_type": "code",
   "execution_count": 10,
   "metadata": {},
   "outputs": [
    {
     "data": {
      "application/vnd.microsoft.datawrangler.viewer.v0+json": {
       "columns": [
        {
         "name": "index",
         "rawType": "datetime64[ns]",
         "type": "datetime"
        },
        {
         "name": "ATR_15min",
         "rawType": "float64",
         "type": "float"
        }
       ],
       "conversionMethod": "pd.DataFrame",
       "ref": "b98d622a-30b3-4a7d-8f01-4204ac63971c",
       "rows": [
        [
         "2025-01-29 07:30:00",
         "0.3828"
        ],
        [
         "2025-01-29 07:45:00",
         "0.3804"
        ],
        [
         "2025-01-29 08:00:00",
         "0.519"
        ],
        [
         "2025-01-29 08:15:00",
         "0.5362"
        ],
        [
         "2025-01-29 08:30:00",
         "0.54"
        ],
        [
         "2025-01-29 08:45:00",
         "0.5486"
        ],
        [
         "2025-01-29 09:00:00",
         "0.5466"
        ],
        [
         "2025-01-29 09:15:00",
         "0.7475"
        ],
        [
         "2025-01-29 09:30:00",
         "0.8045"
        ],
        [
         "2025-01-29 09:45:00",
         "0.8235"
        ],
        [
         "2025-01-29 10:00:00",
         "0.8583"
        ],
        [
         "2025-01-29 10:15:00",
         "0.8747"
        ],
        [
         "2025-01-29 10:30:00",
         "0.8836"
        ],
        [
         "2025-01-29 10:45:00",
         "0.8769"
        ],
        [
         "2025-01-29 11:00:00",
         "0.8783"
        ],
        [
         "2025-01-29 11:15:00",
         "0.8548"
        ],
        [
         "2025-01-29 11:30:00",
         "0.8673"
        ],
        [
         "2025-01-29 11:45:00",
         "0.8718"
        ],
        [
         "2025-01-29 12:00:00",
         "0.8824"
        ],
        [
         "2025-01-29 12:15:00",
         "0.8651"
        ],
        [
         "2025-01-29 12:30:00",
         "0.8454"
        ],
        [
         "2025-01-29 12:45:00",
         "0.8465"
        ],
        [
         "2025-01-29 13:00:00",
         "0.9782"
        ],
        [
         "2025-01-29 13:15:00",
         "0.9919"
        ],
        [
         "2025-01-29 13:30:00",
         "1.0124"
        ],
        [
         "2025-01-29 13:45:00",
         "0.9966"
        ],
        [
         "2025-01-29 14:00:00",
         "1.0604"
        ],
        [
         "2025-01-29 14:15:00",
         "1.0618"
        ],
        [
         "2025-01-29 14:30:00",
         "1.2638"
        ],
        [
         "2025-01-29 14:45:00",
         "1.2852"
        ],
        [
         "2025-01-29 15:00:00",
         "1.3098"
        ],
        [
         "2025-01-29 15:15:00",
         "1.4398"
        ],
        [
         "2025-01-29 15:30:00",
         "1.482"
        ],
        [
         "2025-01-29 15:45:00",
         "1.4947"
        ],
        [
         "2025-01-29 16:00:00",
         "1.6508"
        ],
        [
         "2025-01-29 16:15:00",
         "1.6779"
        ],
        [
         "2025-01-29 16:30:00",
         "1.814"
        ],
        [
         "2025-01-29 16:45:00",
         "1.768"
        ],
        [
         "2025-01-29 17:00:00",
         "1.7396"
        ],
        [
         "2025-01-29 17:15:00",
         "3.5492"
        ],
        [
         "2025-01-29 17:30:00",
         "5.2368"
        ],
        [
         "2025-01-29 17:45:00",
         "4.9699"
        ],
        [
         "2025-01-29 18:00:00",
         "4.6863"
        ],
        [
         "2025-01-29 18:15:00",
         "4.4094"
        ],
        [
         "2025-01-29 18:30:00",
         "4.1637"
        ],
        [
         "2025-01-29 18:45:00",
         "3.8966"
        ],
        [
         "2025-01-29 19:00:00",
         "3.6697"
        ],
        [
         "2025-01-29 19:15:00",
         "3.4469"
        ],
        [
         "2025-01-29 19:30:00",
         "3.2207"
        ],
        [
         "2025-01-29 19:45:00",
         "3.0142"
        ]
       ],
       "shape": {
        "columns": 1,
        "rows": 1351
       }
      },
      "text/html": [
       "<div>\n",
       "<style scoped>\n",
       "    .dataframe tbody tr th:only-of-type {\n",
       "        vertical-align: middle;\n",
       "    }\n",
       "\n",
       "    .dataframe tbody tr th {\n",
       "        vertical-align: top;\n",
       "    }\n",
       "\n",
       "    .dataframe thead th {\n",
       "        text-align: right;\n",
       "    }\n",
       "</style>\n",
       "<table border=\"1\" class=\"dataframe\">\n",
       "  <thead>\n",
       "    <tr style=\"text-align: right;\">\n",
       "      <th></th>\n",
       "      <th>ATR_15min</th>\n",
       "    </tr>\n",
       "  </thead>\n",
       "  <tbody>\n",
       "    <tr>\n",
       "      <th>2025-01-29 07:30:00</th>\n",
       "      <td>0.3828</td>\n",
       "    </tr>\n",
       "    <tr>\n",
       "      <th>2025-01-29 07:45:00</th>\n",
       "      <td>0.3804</td>\n",
       "    </tr>\n",
       "    <tr>\n",
       "      <th>2025-01-29 08:00:00</th>\n",
       "      <td>0.5190</td>\n",
       "    </tr>\n",
       "    <tr>\n",
       "      <th>2025-01-29 08:15:00</th>\n",
       "      <td>0.5362</td>\n",
       "    </tr>\n",
       "    <tr>\n",
       "      <th>2025-01-29 08:30:00</th>\n",
       "      <td>0.5400</td>\n",
       "    </tr>\n",
       "    <tr>\n",
       "      <th>...</th>\n",
       "      <td>...</td>\n",
       "    </tr>\n",
       "    <tr>\n",
       "      <th>2025-02-27 19:00:00</th>\n",
       "      <td>3.6058</td>\n",
       "    </tr>\n",
       "    <tr>\n",
       "      <th>2025-02-27 19:15:00</th>\n",
       "      <td>3.3946</td>\n",
       "    </tr>\n",
       "    <tr>\n",
       "      <th>2025-02-27 19:30:00</th>\n",
       "      <td>3.1965</td>\n",
       "    </tr>\n",
       "    <tr>\n",
       "      <th>2025-02-27 19:45:00</th>\n",
       "      <td>2.9960</td>\n",
       "    </tr>\n",
       "    <tr>\n",
       "      <th>2025-02-27 20:00:00</th>\n",
       "      <td>2.7941</td>\n",
       "    </tr>\n",
       "  </tbody>\n",
       "</table>\n",
       "<p>1351 rows × 1 columns</p>\n",
       "</div>"
      ],
      "text/plain": [
       "                     ATR_15min\n",
       "2025-01-29 07:30:00     0.3828\n",
       "2025-01-29 07:45:00     0.3804\n",
       "2025-01-29 08:00:00     0.5190\n",
       "2025-01-29 08:15:00     0.5362\n",
       "2025-01-29 08:30:00     0.5400\n",
       "...                        ...\n",
       "2025-02-27 19:00:00     3.6058\n",
       "2025-02-27 19:15:00     3.3946\n",
       "2025-02-27 19:30:00     3.1965\n",
       "2025-02-27 19:45:00     2.9960\n",
       "2025-02-27 20:00:00     2.7941\n",
       "\n",
       "[1351 rows x 1 columns]"
      ]
     },
     "execution_count": 10,
     "metadata": {},
     "output_type": "execute_result"
    }
   ],
   "source": [
    "atr"
   ]
  },
  {
   "cell_type": "code",
   "execution_count": null,
   "metadata": {},
   "outputs": [],
   "source": [
    "pd.options.plotting.backend = \"plotly\"\n",
    "\n",
    "# Asegúrate de que `df_spy` es un DataFrame válido\n",
    "fig = df_spy.plot(x='Time', y=df_spy.columns)\n",
    "\n",
    "fig.show()"
   ]
  },
  {
   "cell_type": "code",
   "execution_count": 11,
   "metadata": {},
   "outputs": [
    {
     "data": {
      "application/vnd.microsoft.datawrangler.viewer.v0+json": {
       "columns": [
        {
         "name": "index",
         "rawType": "int64",
         "type": "integer"
        },
        {
         "name": "Time",
         "rawType": "datetime64[ns]",
         "type": "datetime"
        },
        {
         "name": "ATR_15min",
         "rawType": "float64",
         "type": "float"
        }
       ],
       "conversionMethod": "pd.DataFrame",
       "ref": "5948c0b0-91c0-46ed-89b3-c79d7a06b300",
       "rows": [
        [
         "0",
         "2025-01-29 07:30:00",
         "0.3828"
        ],
        [
         "1",
         "2025-01-29 07:45:00",
         "0.3804"
        ],
        [
         "2",
         "2025-01-29 08:00:00",
         "0.519"
        ],
        [
         "3",
         "2025-01-29 08:15:00",
         "0.5362"
        ],
        [
         "4",
         "2025-01-29 08:30:00",
         "0.54"
        ]
       ],
       "shape": {
        "columns": 2,
        "rows": 5
       }
      },
      "text/html": [
       "<div>\n",
       "<style scoped>\n",
       "    .dataframe tbody tr th:only-of-type {\n",
       "        vertical-align: middle;\n",
       "    }\n",
       "\n",
       "    .dataframe tbody tr th {\n",
       "        vertical-align: top;\n",
       "    }\n",
       "\n",
       "    .dataframe thead th {\n",
       "        text-align: right;\n",
       "    }\n",
       "</style>\n",
       "<table border=\"1\" class=\"dataframe\">\n",
       "  <thead>\n",
       "    <tr style=\"text-align: right;\">\n",
       "      <th></th>\n",
       "      <th>Time</th>\n",
       "      <th>ATR_15min</th>\n",
       "    </tr>\n",
       "  </thead>\n",
       "  <tbody>\n",
       "    <tr>\n",
       "      <th>0</th>\n",
       "      <td>2025-01-29 07:30:00</td>\n",
       "      <td>0.3828</td>\n",
       "    </tr>\n",
       "    <tr>\n",
       "      <th>1</th>\n",
       "      <td>2025-01-29 07:45:00</td>\n",
       "      <td>0.3804</td>\n",
       "    </tr>\n",
       "    <tr>\n",
       "      <th>2</th>\n",
       "      <td>2025-01-29 08:00:00</td>\n",
       "      <td>0.5190</td>\n",
       "    </tr>\n",
       "    <tr>\n",
       "      <th>3</th>\n",
       "      <td>2025-01-29 08:15:00</td>\n",
       "      <td>0.5362</td>\n",
       "    </tr>\n",
       "    <tr>\n",
       "      <th>4</th>\n",
       "      <td>2025-01-29 08:30:00</td>\n",
       "      <td>0.5400</td>\n",
       "    </tr>\n",
       "  </tbody>\n",
       "</table>\n",
       "</div>"
      ],
      "text/plain": [
       "                 Time  ATR_15min\n",
       "0 2025-01-29 07:30:00     0.3828\n",
       "1 2025-01-29 07:45:00     0.3804\n",
       "2 2025-01-29 08:00:00     0.5190\n",
       "3 2025-01-29 08:15:00     0.5362\n",
       "4 2025-01-29 08:30:00     0.5400"
      ]
     },
     "execution_count": 11,
     "metadata": {},
     "output_type": "execute_result"
    }
   ],
   "source": [
    "atr.reset_index(inplace=True)\n",
    "atr.rename(columns={\"index\": \"Time\"}, inplace=True)\n",
    "atr.head()"
   ]
  },
  {
   "cell_type": "code",
   "execution_count": 13,
   "metadata": {},
   "outputs": [
    {
     "data": {
      "application/vnd.plotly.v1+json": {
       "config": {
        "plotlyServerURL": "https://plot.ly"
       },
       "data": [
        {
         "hovertemplate": "variable=ATR_15min<br>Time=%{x}<br>value=%{y}<extra></extra>",
         "legendgroup": "ATR_15min",
         "line": {
          "color": "#636efa",
          "dash": "solid"
         },
         "marker": {
          "symbol": "circle"
         },
         "mode": "lines",
         "name": "ATR_15min",
         "showlegend": true,
         "type": "scattergl",
         "x": [
          "2025-01-29T07:30:00",
          "2025-01-29T07:45:00",
          "2025-01-29T08:00:00",
          "2025-01-29T08:15:00",
          "2025-01-29T08:30:00",
          "2025-01-29T08:45:00",
          "2025-01-29T09:00:00",
          "2025-01-29T09:15:00",
          "2025-01-29T09:30:00",
          "2025-01-29T09:45:00",
          "2025-01-29T10:00:00",
          "2025-01-29T10:15:00",
          "2025-01-29T10:30:00",
          "2025-01-29T10:45:00",
          "2025-01-29T11:00:00",
          "2025-01-29T11:15:00",
          "2025-01-29T11:30:00",
          "2025-01-29T11:45:00",
          "2025-01-29T12:00:00",
          "2025-01-29T12:15:00",
          "2025-01-29T12:30:00",
          "2025-01-29T12:45:00",
          "2025-01-29T13:00:00",
          "2025-01-29T13:15:00",
          "2025-01-29T13:30:00",
          "2025-01-29T13:45:00",
          "2025-01-29T14:00:00",
          "2025-01-29T14:15:00",
          "2025-01-29T14:30:00",
          "2025-01-29T14:45:00",
          "2025-01-29T15:00:00",
          "2025-01-29T15:15:00",
          "2025-01-29T15:30:00",
          "2025-01-29T15:45:00",
          "2025-01-29T16:00:00",
          "2025-01-29T16:15:00",
          "2025-01-29T16:30:00",
          "2025-01-29T16:45:00",
          "2025-01-29T17:00:00",
          "2025-01-29T17:15:00",
          "2025-01-29T17:30:00",
          "2025-01-29T17:45:00",
          "2025-01-29T18:00:00",
          "2025-01-29T18:15:00",
          "2025-01-29T18:30:00",
          "2025-01-29T18:45:00",
          "2025-01-29T19:00:00",
          "2025-01-29T19:15:00",
          "2025-01-29T19:30:00",
          "2025-01-29T19:45:00",
          "2025-01-29T20:00:00",
          "2025-01-30T04:00:00",
          "2025-01-30T04:15:00",
          "2025-01-30T04:30:00",
          "2025-01-30T04:45:00",
          "2025-01-30T05:00:00",
          "2025-01-30T05:15:00",
          "2025-01-30T05:30:00",
          "2025-01-30T05:45:00",
          "2025-01-30T06:00:00",
          "2025-01-30T06:15:00",
          "2025-01-30T06:30:00",
          "2025-01-30T06:45:00",
          "2025-01-30T07:00:00",
          "2025-01-30T07:15:00",
          "2025-01-30T07:30:00",
          "2025-01-30T07:45:00",
          "2025-01-30T08:00:00",
          "2025-01-30T08:15:00",
          "2025-01-30T08:30:00",
          "2025-01-30T08:45:00",
          "2025-01-30T09:00:00",
          "2025-01-30T09:15:00",
          "2025-01-30T09:30:00",
          "2025-01-30T09:45:00",
          "2025-01-30T10:00:00",
          "2025-01-30T10:15:00",
          "2025-01-30T10:30:00",
          "2025-01-30T10:45:00",
          "2025-01-30T11:00:00",
          "2025-01-30T11:15:00",
          "2025-01-30T11:30:00",
          "2025-01-30T11:45:00",
          "2025-01-30T12:00:00",
          "2025-01-30T12:15:00",
          "2025-01-30T12:30:00",
          "2025-01-30T12:45:00",
          "2025-01-30T13:00:00",
          "2025-01-30T13:15:00",
          "2025-01-30T13:30:00",
          "2025-01-30T13:45:00",
          "2025-01-30T14:00:00",
          "2025-01-30T14:15:00",
          "2025-01-30T14:30:00",
          "2025-01-30T14:45:00",
          "2025-01-30T15:00:00",
          "2025-01-30T15:15:00",
          "2025-01-30T15:30:00",
          "2025-01-30T15:45:00",
          "2025-01-30T16:00:00",
          "2025-01-30T16:15:00",
          "2025-01-30T16:30:00",
          "2025-01-30T16:45:00",
          "2025-01-30T17:00:00",
          "2025-01-30T17:15:00",
          "2025-01-30T17:30:00",
          "2025-01-30T17:45:00",
          "2025-01-30T18:00:00",
          "2025-01-30T18:15:00",
          "2025-01-30T18:30:00",
          "2025-01-30T18:45:00",
          "2025-01-30T19:00:00",
          "2025-01-30T19:15:00",
          "2025-01-30T19:30:00",
          "2025-01-30T19:45:00",
          "2025-01-30T20:00:00",
          "2025-01-31T04:00:00",
          "2025-01-31T04:15:00",
          "2025-01-31T04:30:00",
          "2025-01-31T04:45:00",
          "2025-01-31T05:00:00",
          "2025-01-31T05:15:00",
          "2025-01-31T05:30:00",
          "2025-01-31T05:45:00",
          "2025-01-31T06:00:00",
          "2025-01-31T06:15:00",
          "2025-01-31T06:30:00",
          "2025-01-31T06:45:00",
          "2025-01-31T07:00:00",
          "2025-01-31T07:15:00",
          "2025-01-31T07:30:00",
          "2025-01-31T07:45:00",
          "2025-01-31T08:00:00",
          "2025-01-31T08:15:00",
          "2025-01-31T08:30:00",
          "2025-01-31T08:45:00",
          "2025-01-31T09:00:00",
          "2025-01-31T09:15:00",
          "2025-01-31T09:30:00",
          "2025-01-31T09:45:00",
          "2025-01-31T10:00:00",
          "2025-01-31T10:15:00",
          "2025-01-31T10:30:00",
          "2025-01-31T10:45:00",
          "2025-01-31T11:00:00",
          "2025-01-31T11:15:00",
          "2025-01-31T11:30:00",
          "2025-01-31T11:45:00",
          "2025-01-31T12:00:00",
          "2025-01-31T12:15:00",
          "2025-01-31T12:30:00",
          "2025-01-31T12:45:00",
          "2025-01-31T13:00:00",
          "2025-01-31T13:15:00",
          "2025-01-31T13:30:00",
          "2025-01-31T13:45:00",
          "2025-01-31T14:00:00",
          "2025-01-31T14:15:00",
          "2025-01-31T14:30:00",
          "2025-01-31T14:45:00",
          "2025-01-31T15:00:00",
          "2025-01-31T15:15:00",
          "2025-01-31T15:30:00",
          "2025-01-31T15:45:00",
          "2025-01-31T16:00:00",
          "2025-01-31T16:15:00",
          "2025-01-31T16:30:00",
          "2025-01-31T16:45:00",
          "2025-01-31T17:00:00",
          "2025-01-31T17:15:00",
          "2025-01-31T17:30:00",
          "2025-01-31T17:45:00",
          "2025-01-31T18:00:00",
          "2025-01-31T18:15:00",
          "2025-01-31T18:30:00",
          "2025-01-31T18:45:00",
          "2025-01-31T19:00:00",
          "2025-01-31T19:15:00",
          "2025-01-31T19:30:00",
          "2025-01-31T19:45:00",
          "2025-01-31T20:00:00",
          "2025-02-03T04:00:00",
          "2025-02-03T04:15:00",
          "2025-02-03T04:30:00",
          "2025-02-03T04:45:00",
          "2025-02-03T05:00:00",
          "2025-02-03T05:15:00",
          "2025-02-03T05:30:00",
          "2025-02-03T05:45:00",
          "2025-02-03T06:00:00",
          "2025-02-03T06:15:00",
          "2025-02-03T06:30:00",
          "2025-02-03T06:45:00",
          "2025-02-03T07:00:00",
          "2025-02-03T07:15:00",
          "2025-02-03T07:30:00",
          "2025-02-03T07:45:00",
          "2025-02-03T08:00:00",
          "2025-02-03T08:15:00",
          "2025-02-03T08:30:00",
          "2025-02-03T08:45:00",
          "2025-02-03T09:00:00",
          "2025-02-03T09:15:00",
          "2025-02-03T09:30:00",
          "2025-02-03T09:45:00",
          "2025-02-03T10:00:00",
          "2025-02-03T10:15:00",
          "2025-02-03T10:30:00",
          "2025-02-03T10:45:00",
          "2025-02-03T11:00:00",
          "2025-02-03T11:15:00",
          "2025-02-03T11:30:00",
          "2025-02-03T11:45:00",
          "2025-02-03T12:00:00",
          "2025-02-03T12:15:00",
          "2025-02-03T12:30:00",
          "2025-02-03T12:45:00",
          "2025-02-03T13:00:00",
          "2025-02-03T13:15:00",
          "2025-02-03T13:30:00",
          "2025-02-03T13:45:00",
          "2025-02-03T14:00:00",
          "2025-02-03T14:15:00",
          "2025-02-03T14:30:00",
          "2025-02-03T14:45:00",
          "2025-02-03T15:00:00",
          "2025-02-03T15:15:00",
          "2025-02-03T15:30:00",
          "2025-02-03T15:45:00",
          "2025-02-03T16:00:00",
          "2025-02-03T16:15:00",
          "2025-02-03T16:30:00",
          "2025-02-03T16:45:00",
          "2025-02-03T17:00:00",
          "2025-02-03T17:15:00",
          "2025-02-03T17:30:00",
          "2025-02-03T17:45:00",
          "2025-02-03T18:00:00",
          "2025-02-03T18:15:00",
          "2025-02-03T18:30:00",
          "2025-02-03T18:45:00",
          "2025-02-03T19:00:00",
          "2025-02-03T19:15:00",
          "2025-02-03T19:30:00",
          "2025-02-03T19:45:00",
          "2025-02-03T20:00:00",
          "2025-02-04T04:00:00",
          "2025-02-04T04:15:00",
          "2025-02-04T04:30:00",
          "2025-02-04T04:45:00",
          "2025-02-04T05:00:00",
          "2025-02-04T05:15:00",
          "2025-02-04T05:30:00",
          "2025-02-04T05:45:00",
          "2025-02-04T06:00:00",
          "2025-02-04T06:15:00",
          "2025-02-04T06:30:00",
          "2025-02-04T06:45:00",
          "2025-02-04T07:00:00",
          "2025-02-04T07:15:00",
          "2025-02-04T07:30:00",
          "2025-02-04T07:45:00",
          "2025-02-04T08:00:00",
          "2025-02-04T08:15:00",
          "2025-02-04T08:30:00",
          "2025-02-04T08:45:00",
          "2025-02-04T09:00:00",
          "2025-02-04T09:15:00",
          "2025-02-04T09:30:00",
          "2025-02-04T09:45:00",
          "2025-02-04T10:00:00",
          "2025-02-04T10:15:00",
          "2025-02-04T10:30:00",
          "2025-02-04T10:45:00",
          "2025-02-04T11:00:00",
          "2025-02-04T11:15:00",
          "2025-02-04T11:30:00",
          "2025-02-04T11:45:00",
          "2025-02-04T12:00:00",
          "2025-02-04T12:15:00",
          "2025-02-04T12:30:00",
          "2025-02-04T12:45:00",
          "2025-02-04T13:00:00",
          "2025-02-04T13:15:00",
          "2025-02-04T13:30:00",
          "2025-02-04T13:45:00",
          "2025-02-04T14:00:00",
          "2025-02-04T14:15:00",
          "2025-02-04T14:30:00",
          "2025-02-04T14:45:00",
          "2025-02-04T15:00:00",
          "2025-02-04T15:15:00",
          "2025-02-04T15:30:00",
          "2025-02-04T15:45:00",
          "2025-02-04T16:00:00",
          "2025-02-04T16:15:00",
          "2025-02-04T16:30:00",
          "2025-02-04T16:45:00",
          "2025-02-04T17:00:00",
          "2025-02-04T17:15:00",
          "2025-02-04T17:30:00",
          "2025-02-04T17:45:00",
          "2025-02-04T18:00:00",
          "2025-02-04T18:15:00",
          "2025-02-04T18:30:00",
          "2025-02-04T18:45:00",
          "2025-02-04T19:00:00",
          "2025-02-04T19:15:00",
          "2025-02-04T19:30:00",
          "2025-02-04T19:45:00",
          "2025-02-04T20:00:00",
          "2025-02-05T04:00:00",
          "2025-02-05T04:15:00",
          "2025-02-05T04:30:00",
          "2025-02-05T04:45:00",
          "2025-02-05T05:00:00",
          "2025-02-05T05:15:00",
          "2025-02-05T05:30:00",
          "2025-02-05T05:45:00",
          "2025-02-05T06:00:00",
          "2025-02-05T06:15:00",
          "2025-02-05T06:30:00",
          "2025-02-05T06:45:00",
          "2025-02-05T07:00:00",
          "2025-02-05T07:15:00",
          "2025-02-05T07:30:00",
          "2025-02-05T07:45:00",
          "2025-02-05T08:00:00",
          "2025-02-05T08:15:00",
          "2025-02-05T08:30:00",
          "2025-02-05T08:45:00",
          "2025-02-05T09:00:00",
          "2025-02-05T09:15:00",
          "2025-02-05T09:30:00",
          "2025-02-05T09:45:00",
          "2025-02-05T10:00:00",
          "2025-02-05T10:15:00",
          "2025-02-05T10:30:00",
          "2025-02-05T10:45:00",
          "2025-02-05T11:00:00",
          "2025-02-05T11:15:00",
          "2025-02-05T11:30:00",
          "2025-02-05T11:45:00",
          "2025-02-05T12:00:00",
          "2025-02-05T12:15:00",
          "2025-02-05T12:30:00",
          "2025-02-05T12:45:00",
          "2025-02-05T13:00:00",
          "2025-02-05T13:15:00",
          "2025-02-05T13:30:00",
          "2025-02-05T13:45:00",
          "2025-02-05T14:00:00",
          "2025-02-05T14:15:00",
          "2025-02-05T14:30:00",
          "2025-02-05T14:45:00",
          "2025-02-05T15:00:00",
          "2025-02-05T15:15:00",
          "2025-02-05T15:30:00",
          "2025-02-05T15:45:00",
          "2025-02-05T16:00:00",
          "2025-02-05T16:15:00",
          "2025-02-05T16:30:00",
          "2025-02-05T16:45:00",
          "2025-02-05T17:00:00",
          "2025-02-05T17:15:00",
          "2025-02-05T17:30:00",
          "2025-02-05T17:45:00",
          "2025-02-05T18:00:00",
          "2025-02-05T18:15:00",
          "2025-02-05T18:30:00",
          "2025-02-05T18:45:00",
          "2025-02-05T19:00:00",
          "2025-02-05T19:15:00",
          "2025-02-05T19:30:00",
          "2025-02-05T19:45:00",
          "2025-02-05T20:00:00",
          "2025-02-06T04:00:00",
          "2025-02-06T04:15:00",
          "2025-02-06T04:30:00",
          "2025-02-06T04:45:00",
          "2025-02-06T05:00:00",
          "2025-02-06T05:15:00",
          "2025-02-06T05:30:00",
          "2025-02-06T05:45:00",
          "2025-02-06T06:00:00",
          "2025-02-06T06:15:00",
          "2025-02-06T06:30:00",
          "2025-02-06T06:45:00",
          "2025-02-06T07:00:00",
          "2025-02-06T07:15:00",
          "2025-02-06T07:30:00",
          "2025-02-06T07:45:00",
          "2025-02-06T08:00:00",
          "2025-02-06T08:15:00",
          "2025-02-06T08:30:00",
          "2025-02-06T08:45:00",
          "2025-02-06T09:00:00",
          "2025-02-06T09:15:00",
          "2025-02-06T09:30:00",
          "2025-02-06T09:45:00",
          "2025-02-06T10:00:00",
          "2025-02-06T10:15:00",
          "2025-02-06T10:30:00",
          "2025-02-06T10:45:00",
          "2025-02-06T11:00:00",
          "2025-02-06T11:15:00",
          "2025-02-06T11:30:00",
          "2025-02-06T11:45:00",
          "2025-02-06T12:00:00",
          "2025-02-06T12:15:00",
          "2025-02-06T12:30:00",
          "2025-02-06T12:45:00",
          "2025-02-06T13:00:00",
          "2025-02-06T13:15:00",
          "2025-02-06T13:30:00",
          "2025-02-06T13:45:00",
          "2025-02-06T14:00:00",
          "2025-02-06T14:15:00",
          "2025-02-06T14:30:00",
          "2025-02-06T14:45:00",
          "2025-02-06T15:00:00",
          "2025-02-06T15:15:00",
          "2025-02-06T15:30:00",
          "2025-02-06T15:45:00",
          "2025-02-06T16:00:00",
          "2025-02-06T16:15:00",
          "2025-02-06T16:30:00",
          "2025-02-06T16:45:00",
          "2025-02-06T17:00:00",
          "2025-02-06T17:15:00",
          "2025-02-06T17:30:00",
          "2025-02-06T17:45:00",
          "2025-02-06T18:00:00",
          "2025-02-06T18:15:00",
          "2025-02-06T18:30:00",
          "2025-02-06T18:45:00",
          "2025-02-06T19:00:00",
          "2025-02-06T19:15:00",
          "2025-02-06T19:30:00",
          "2025-02-06T19:45:00",
          "2025-02-06T20:00:00",
          "2025-02-07T04:00:00",
          "2025-02-07T04:15:00",
          "2025-02-07T04:30:00",
          "2025-02-07T04:45:00",
          "2025-02-07T05:00:00",
          "2025-02-07T05:15:00",
          "2025-02-07T05:30:00",
          "2025-02-07T05:45:00",
          "2025-02-07T06:00:00",
          "2025-02-07T06:15:00",
          "2025-02-07T06:30:00",
          "2025-02-07T06:45:00",
          "2025-02-07T07:00:00",
          "2025-02-07T07:15:00",
          "2025-02-07T07:30:00",
          "2025-02-07T07:45:00",
          "2025-02-07T08:00:00",
          "2025-02-07T08:15:00",
          "2025-02-07T08:30:00",
          "2025-02-07T08:45:00",
          "2025-02-07T09:00:00",
          "2025-02-07T09:15:00",
          "2025-02-07T09:30:00",
          "2025-02-07T09:45:00",
          "2025-02-07T10:00:00",
          "2025-02-07T10:15:00",
          "2025-02-07T10:30:00",
          "2025-02-07T10:45:00",
          "2025-02-07T11:00:00",
          "2025-02-07T11:15:00",
          "2025-02-07T11:30:00",
          "2025-02-07T11:45:00",
          "2025-02-07T12:00:00",
          "2025-02-07T12:15:00",
          "2025-02-07T12:30:00",
          "2025-02-07T12:45:00",
          "2025-02-07T13:00:00",
          "2025-02-07T13:15:00",
          "2025-02-07T13:30:00",
          "2025-02-07T13:45:00",
          "2025-02-07T14:00:00",
          "2025-02-07T14:15:00",
          "2025-02-07T14:30:00",
          "2025-02-07T14:45:00",
          "2025-02-07T15:00:00",
          "2025-02-07T15:15:00",
          "2025-02-07T15:30:00",
          "2025-02-07T15:45:00",
          "2025-02-07T16:00:00",
          "2025-02-07T16:15:00",
          "2025-02-07T16:30:00",
          "2025-02-07T16:45:00",
          "2025-02-07T17:00:00",
          "2025-02-07T17:15:00",
          "2025-02-07T17:30:00",
          "2025-02-07T17:45:00",
          "2025-02-07T18:00:00",
          "2025-02-07T18:15:00",
          "2025-02-07T18:30:00",
          "2025-02-07T18:45:00",
          "2025-02-07T19:00:00",
          "2025-02-07T19:15:00",
          "2025-02-07T19:30:00",
          "2025-02-07T19:45:00",
          "2025-02-07T20:00:00",
          "2025-02-10T04:00:00",
          "2025-02-10T04:15:00",
          "2025-02-10T04:30:00",
          "2025-02-10T04:45:00",
          "2025-02-10T05:00:00",
          "2025-02-10T05:15:00",
          "2025-02-10T05:30:00",
          "2025-02-10T05:45:00",
          "2025-02-10T06:00:00",
          "2025-02-10T06:15:00",
          "2025-02-10T06:30:00",
          "2025-02-10T06:45:00",
          "2025-02-10T07:00:00",
          "2025-02-10T07:15:00",
          "2025-02-10T07:30:00",
          "2025-02-10T07:45:00",
          "2025-02-10T08:00:00",
          "2025-02-10T08:15:00",
          "2025-02-10T08:30:00",
          "2025-02-10T08:45:00",
          "2025-02-10T09:00:00",
          "2025-02-10T09:15:00",
          "2025-02-10T09:30:00",
          "2025-02-10T09:45:00",
          "2025-02-10T10:00:00",
          "2025-02-10T10:15:00",
          "2025-02-10T10:30:00",
          "2025-02-10T10:45:00",
          "2025-02-10T11:00:00",
          "2025-02-10T11:15:00",
          "2025-02-10T11:30:00",
          "2025-02-10T11:45:00",
          "2025-02-10T12:00:00",
          "2025-02-10T12:15:00",
          "2025-02-10T12:30:00",
          "2025-02-10T12:45:00",
          "2025-02-10T13:00:00",
          "2025-02-10T13:15:00",
          "2025-02-10T13:30:00",
          "2025-02-10T13:45:00",
          "2025-02-10T14:00:00",
          "2025-02-10T14:15:00",
          "2025-02-10T14:30:00",
          "2025-02-10T14:45:00",
          "2025-02-10T15:00:00",
          "2025-02-10T15:15:00",
          "2025-02-10T15:30:00",
          "2025-02-10T15:45:00",
          "2025-02-10T16:00:00",
          "2025-02-10T16:15:00",
          "2025-02-10T16:30:00",
          "2025-02-10T16:45:00",
          "2025-02-10T17:00:00",
          "2025-02-10T17:15:00",
          "2025-02-10T17:30:00",
          "2025-02-10T17:45:00",
          "2025-02-10T18:00:00",
          "2025-02-10T18:15:00",
          "2025-02-10T18:30:00",
          "2025-02-10T18:45:00",
          "2025-02-10T19:00:00",
          "2025-02-10T19:15:00",
          "2025-02-10T19:30:00",
          "2025-02-10T19:45:00",
          "2025-02-10T20:00:00",
          "2025-02-11T04:00:00",
          "2025-02-11T04:15:00",
          "2025-02-11T04:30:00",
          "2025-02-11T04:45:00",
          "2025-02-11T05:00:00",
          "2025-02-11T05:15:00",
          "2025-02-11T05:30:00",
          "2025-02-11T05:45:00",
          "2025-02-11T06:00:00",
          "2025-02-11T06:15:00",
          "2025-02-11T06:30:00",
          "2025-02-11T06:45:00",
          "2025-02-11T07:00:00",
          "2025-02-11T07:15:00",
          "2025-02-11T07:30:00",
          "2025-02-11T07:45:00",
          "2025-02-11T08:00:00",
          "2025-02-11T08:15:00",
          "2025-02-11T08:30:00",
          "2025-02-11T08:45:00",
          "2025-02-11T09:00:00",
          "2025-02-11T09:15:00",
          "2025-02-11T09:30:00",
          "2025-02-11T09:45:00",
          "2025-02-11T10:00:00",
          "2025-02-11T10:15:00",
          "2025-02-11T10:30:00",
          "2025-02-11T10:45:00",
          "2025-02-11T11:00:00",
          "2025-02-11T11:15:00",
          "2025-02-11T11:30:00",
          "2025-02-11T11:45:00",
          "2025-02-11T12:00:00",
          "2025-02-11T12:15:00",
          "2025-02-11T12:30:00",
          "2025-02-11T12:45:00",
          "2025-02-11T13:00:00",
          "2025-02-11T13:15:00",
          "2025-02-11T13:30:00",
          "2025-02-11T13:45:00",
          "2025-02-11T14:00:00",
          "2025-02-11T14:15:00",
          "2025-02-11T14:30:00",
          "2025-02-11T14:45:00",
          "2025-02-11T15:00:00",
          "2025-02-11T15:15:00",
          "2025-02-11T15:30:00",
          "2025-02-11T15:45:00",
          "2025-02-11T16:00:00",
          "2025-02-11T16:15:00",
          "2025-02-11T16:30:00",
          "2025-02-11T16:45:00",
          "2025-02-11T17:00:00",
          "2025-02-11T17:15:00",
          "2025-02-11T17:30:00",
          "2025-02-11T17:45:00",
          "2025-02-11T18:00:00",
          "2025-02-11T18:15:00",
          "2025-02-11T18:30:00",
          "2025-02-11T18:45:00",
          "2025-02-11T19:00:00",
          "2025-02-11T19:15:00",
          "2025-02-11T19:30:00",
          "2025-02-11T19:45:00",
          "2025-02-11T20:00:00",
          "2025-02-12T04:00:00",
          "2025-02-12T04:15:00",
          "2025-02-12T04:30:00",
          "2025-02-12T04:45:00",
          "2025-02-12T05:00:00",
          "2025-02-12T05:15:00",
          "2025-02-12T05:30:00",
          "2025-02-12T05:45:00",
          "2025-02-12T06:00:00",
          "2025-02-12T06:15:00",
          "2025-02-12T06:30:00",
          "2025-02-12T06:45:00",
          "2025-02-12T07:00:00",
          "2025-02-12T07:15:00",
          "2025-02-12T07:30:00",
          "2025-02-12T07:45:00",
          "2025-02-12T08:00:00",
          "2025-02-12T08:15:00",
          "2025-02-12T08:30:00",
          "2025-02-12T08:45:00",
          "2025-02-12T09:00:00",
          "2025-02-12T09:15:00",
          "2025-02-12T09:30:00",
          "2025-02-12T09:45:00",
          "2025-02-12T10:00:00",
          "2025-02-12T10:15:00",
          "2025-02-12T10:30:00",
          "2025-02-12T10:45:00",
          "2025-02-12T11:00:00",
          "2025-02-12T11:15:00",
          "2025-02-12T11:30:00",
          "2025-02-12T11:45:00",
          "2025-02-12T12:00:00",
          "2025-02-12T12:15:00",
          "2025-02-12T12:30:00",
          "2025-02-12T12:45:00",
          "2025-02-12T13:00:00",
          "2025-02-12T13:15:00",
          "2025-02-12T13:30:00",
          "2025-02-12T13:45:00",
          "2025-02-12T14:00:00",
          "2025-02-12T14:15:00",
          "2025-02-12T14:30:00",
          "2025-02-12T14:45:00",
          "2025-02-12T15:00:00",
          "2025-02-12T15:15:00",
          "2025-02-12T15:30:00",
          "2025-02-12T15:45:00",
          "2025-02-12T16:00:00",
          "2025-02-12T16:15:00",
          "2025-02-12T16:30:00",
          "2025-02-12T16:45:00",
          "2025-02-12T17:00:00",
          "2025-02-12T17:15:00",
          "2025-02-12T17:30:00",
          "2025-02-12T17:45:00",
          "2025-02-12T18:00:00",
          "2025-02-12T18:15:00",
          "2025-02-12T18:30:00",
          "2025-02-12T18:45:00",
          "2025-02-12T19:00:00",
          "2025-02-12T19:15:00",
          "2025-02-12T19:30:00",
          "2025-02-12T19:45:00",
          "2025-02-12T20:00:00",
          "2025-02-13T04:00:00",
          "2025-02-13T04:15:00",
          "2025-02-13T04:30:00",
          "2025-02-13T04:45:00",
          "2025-02-13T05:00:00",
          "2025-02-13T05:15:00",
          "2025-02-13T05:30:00",
          "2025-02-13T05:45:00",
          "2025-02-13T06:00:00",
          "2025-02-13T06:15:00",
          "2025-02-13T06:30:00",
          "2025-02-13T06:45:00",
          "2025-02-13T07:00:00",
          "2025-02-13T07:15:00",
          "2025-02-13T07:30:00",
          "2025-02-13T07:45:00",
          "2025-02-13T08:00:00",
          "2025-02-13T08:15:00",
          "2025-02-13T08:30:00",
          "2025-02-13T08:45:00",
          "2025-02-13T09:00:00",
          "2025-02-13T09:15:00",
          "2025-02-13T09:30:00",
          "2025-02-13T09:45:00",
          "2025-02-13T10:00:00",
          "2025-02-13T10:15:00",
          "2025-02-13T10:30:00",
          "2025-02-13T10:45:00",
          "2025-02-13T11:00:00",
          "2025-02-13T11:15:00",
          "2025-02-13T11:30:00",
          "2025-02-13T11:45:00",
          "2025-02-13T12:00:00",
          "2025-02-13T12:15:00",
          "2025-02-13T12:30:00",
          "2025-02-13T12:45:00",
          "2025-02-13T13:00:00",
          "2025-02-13T13:15:00",
          "2025-02-13T13:30:00",
          "2025-02-13T13:45:00",
          "2025-02-13T14:00:00",
          "2025-02-13T14:15:00",
          "2025-02-13T14:30:00",
          "2025-02-13T14:45:00",
          "2025-02-13T15:00:00",
          "2025-02-13T15:15:00",
          "2025-02-13T15:30:00",
          "2025-02-13T15:45:00",
          "2025-02-13T16:00:00",
          "2025-02-13T16:15:00",
          "2025-02-13T16:30:00",
          "2025-02-13T16:45:00",
          "2025-02-13T17:00:00",
          "2025-02-13T17:15:00",
          "2025-02-13T17:30:00",
          "2025-02-13T17:45:00",
          "2025-02-13T18:00:00",
          "2025-02-13T18:15:00",
          "2025-02-13T18:30:00",
          "2025-02-13T18:45:00",
          "2025-02-13T19:00:00",
          "2025-02-13T19:15:00",
          "2025-02-13T19:30:00",
          "2025-02-13T19:45:00",
          "2025-02-13T20:00:00",
          "2025-02-14T04:00:00",
          "2025-02-14T04:15:00",
          "2025-02-14T04:30:00",
          "2025-02-14T04:45:00",
          "2025-02-14T05:00:00",
          "2025-02-14T05:15:00",
          "2025-02-14T05:30:00",
          "2025-02-14T05:45:00",
          "2025-02-14T06:00:00",
          "2025-02-14T06:15:00",
          "2025-02-14T06:30:00",
          "2025-02-14T06:45:00",
          "2025-02-14T07:00:00",
          "2025-02-14T07:15:00",
          "2025-02-14T07:30:00",
          "2025-02-14T07:45:00",
          "2025-02-14T08:00:00",
          "2025-02-14T08:15:00",
          "2025-02-14T08:30:00",
          "2025-02-14T08:45:00",
          "2025-02-14T09:00:00",
          "2025-02-14T09:15:00",
          "2025-02-14T09:30:00",
          "2025-02-14T09:45:00",
          "2025-02-14T10:00:00",
          "2025-02-14T10:15:00",
          "2025-02-14T10:30:00",
          "2025-02-14T10:45:00",
          "2025-02-14T11:00:00",
          "2025-02-14T11:15:00",
          "2025-02-14T11:30:00",
          "2025-02-14T11:45:00",
          "2025-02-14T12:00:00",
          "2025-02-14T12:15:00",
          "2025-02-14T12:30:00",
          "2025-02-14T12:45:00",
          "2025-02-14T13:00:00",
          "2025-02-14T13:15:00",
          "2025-02-14T13:30:00",
          "2025-02-14T13:45:00",
          "2025-02-14T14:00:00",
          "2025-02-14T14:15:00",
          "2025-02-14T14:30:00",
          "2025-02-14T14:45:00",
          "2025-02-14T15:00:00",
          "2025-02-14T15:15:00",
          "2025-02-14T15:30:00",
          "2025-02-14T15:45:00",
          "2025-02-14T16:00:00",
          "2025-02-14T16:15:00",
          "2025-02-14T16:30:00",
          "2025-02-14T16:45:00",
          "2025-02-14T17:00:00",
          "2025-02-14T17:15:00",
          "2025-02-14T17:30:00",
          "2025-02-14T17:45:00",
          "2025-02-14T18:00:00",
          "2025-02-14T18:15:00",
          "2025-02-14T18:30:00",
          "2025-02-14T18:45:00",
          "2025-02-14T19:00:00",
          "2025-02-14T19:15:00",
          "2025-02-14T19:30:00",
          "2025-02-14T19:45:00",
          "2025-02-14T20:00:00",
          "2025-02-18T04:00:00",
          "2025-02-18T04:15:00",
          "2025-02-18T04:30:00",
          "2025-02-18T04:45:00",
          "2025-02-18T05:00:00",
          "2025-02-18T05:15:00",
          "2025-02-18T05:30:00",
          "2025-02-18T05:45:00",
          "2025-02-18T06:00:00",
          "2025-02-18T06:15:00",
          "2025-02-18T06:30:00",
          "2025-02-18T06:45:00",
          "2025-02-18T07:00:00",
          "2025-02-18T07:15:00",
          "2025-02-18T07:30:00",
          "2025-02-18T07:45:00",
          "2025-02-18T08:00:00",
          "2025-02-18T08:15:00",
          "2025-02-18T08:30:00",
          "2025-02-18T08:45:00",
          "2025-02-18T09:00:00",
          "2025-02-18T09:15:00",
          "2025-02-18T09:30:00",
          "2025-02-18T09:45:00",
          "2025-02-18T10:00:00",
          "2025-02-18T10:15:00",
          "2025-02-18T10:30:00",
          "2025-02-18T10:45:00",
          "2025-02-18T11:00:00",
          "2025-02-18T11:15:00",
          "2025-02-18T11:30:00",
          "2025-02-18T11:45:00",
          "2025-02-18T12:00:00",
          "2025-02-18T12:15:00",
          "2025-02-18T12:30:00",
          "2025-02-18T12:45:00",
          "2025-02-18T13:00:00",
          "2025-02-18T13:15:00",
          "2025-02-18T13:30:00",
          "2025-02-18T13:45:00",
          "2025-02-18T14:00:00",
          "2025-02-18T14:15:00",
          "2025-02-18T14:30:00",
          "2025-02-18T14:45:00",
          "2025-02-18T15:00:00",
          "2025-02-18T15:15:00",
          "2025-02-18T15:30:00",
          "2025-02-18T15:45:00",
          "2025-02-18T16:00:00",
          "2025-02-18T16:15:00",
          "2025-02-18T16:30:00",
          "2025-02-18T16:45:00",
          "2025-02-18T17:00:00",
          "2025-02-18T17:15:00",
          "2025-02-18T17:30:00",
          "2025-02-18T17:45:00",
          "2025-02-18T18:00:00",
          "2025-02-18T18:15:00",
          "2025-02-18T18:30:00",
          "2025-02-18T18:45:00",
          "2025-02-18T19:00:00",
          "2025-02-18T19:15:00",
          "2025-02-18T19:30:00",
          "2025-02-18T19:45:00",
          "2025-02-18T20:00:00",
          "2025-02-19T04:00:00",
          "2025-02-19T04:15:00",
          "2025-02-19T04:30:00",
          "2025-02-19T04:45:00",
          "2025-02-19T05:00:00",
          "2025-02-19T05:15:00",
          "2025-02-19T05:30:00",
          "2025-02-19T05:45:00",
          "2025-02-19T06:00:00",
          "2025-02-19T06:15:00",
          "2025-02-19T06:30:00",
          "2025-02-19T06:45:00",
          "2025-02-19T07:00:00",
          "2025-02-19T07:15:00",
          "2025-02-19T07:30:00",
          "2025-02-19T07:45:00",
          "2025-02-19T08:00:00",
          "2025-02-19T08:15:00",
          "2025-02-19T08:30:00",
          "2025-02-19T08:45:00",
          "2025-02-19T09:00:00",
          "2025-02-19T09:15:00",
          "2025-02-19T09:30:00",
          "2025-02-19T09:45:00",
          "2025-02-19T10:00:00",
          "2025-02-19T10:15:00",
          "2025-02-19T10:30:00",
          "2025-02-19T10:45:00",
          "2025-02-19T11:00:00",
          "2025-02-19T11:15:00",
          "2025-02-19T11:30:00",
          "2025-02-19T11:45:00",
          "2025-02-19T12:00:00",
          "2025-02-19T12:15:00",
          "2025-02-19T12:30:00",
          "2025-02-19T12:45:00",
          "2025-02-19T13:00:00",
          "2025-02-19T13:15:00",
          "2025-02-19T13:30:00",
          "2025-02-19T13:45:00",
          "2025-02-19T14:00:00",
          "2025-02-19T14:15:00",
          "2025-02-19T14:30:00",
          "2025-02-19T14:45:00",
          "2025-02-19T15:00:00",
          "2025-02-19T15:15:00",
          "2025-02-19T15:30:00",
          "2025-02-19T15:45:00",
          "2025-02-19T16:00:00",
          "2025-02-19T16:15:00",
          "2025-02-19T16:30:00",
          "2025-02-19T16:45:00",
          "2025-02-19T17:00:00",
          "2025-02-19T17:15:00",
          "2025-02-19T17:30:00",
          "2025-02-19T17:45:00",
          "2025-02-19T18:00:00",
          "2025-02-19T18:15:00",
          "2025-02-19T18:30:00",
          "2025-02-19T18:45:00",
          "2025-02-19T19:00:00",
          "2025-02-19T19:15:00",
          "2025-02-19T19:30:00",
          "2025-02-19T19:45:00",
          "2025-02-19T20:00:00",
          "2025-02-20T04:00:00",
          "2025-02-20T04:15:00",
          "2025-02-20T04:30:00",
          "2025-02-20T04:45:00",
          "2025-02-20T05:00:00",
          "2025-02-20T05:15:00",
          "2025-02-20T05:30:00",
          "2025-02-20T05:45:00",
          "2025-02-20T06:00:00",
          "2025-02-20T06:15:00",
          "2025-02-20T06:30:00",
          "2025-02-20T06:45:00",
          "2025-02-20T07:00:00",
          "2025-02-20T07:15:00",
          "2025-02-20T07:30:00",
          "2025-02-20T07:45:00",
          "2025-02-20T08:00:00",
          "2025-02-20T08:15:00",
          "2025-02-20T08:30:00",
          "2025-02-20T08:45:00",
          "2025-02-20T09:00:00",
          "2025-02-20T09:15:00",
          "2025-02-20T09:30:00",
          "2025-02-20T09:45:00",
          "2025-02-20T10:00:00",
          "2025-02-20T10:15:00",
          "2025-02-20T10:30:00",
          "2025-02-20T10:45:00",
          "2025-02-20T11:00:00",
          "2025-02-20T11:15:00",
          "2025-02-20T11:30:00",
          "2025-02-20T11:45:00",
          "2025-02-20T12:00:00",
          "2025-02-20T12:15:00",
          "2025-02-20T12:30:00",
          "2025-02-20T12:45:00",
          "2025-02-20T13:00:00",
          "2025-02-20T13:15:00",
          "2025-02-20T13:30:00",
          "2025-02-20T13:45:00",
          "2025-02-20T14:00:00",
          "2025-02-20T14:15:00",
          "2025-02-20T14:30:00",
          "2025-02-20T14:45:00",
          "2025-02-20T15:00:00",
          "2025-02-20T15:15:00",
          "2025-02-20T15:30:00",
          "2025-02-20T15:45:00",
          "2025-02-20T16:00:00",
          "2025-02-20T16:15:00",
          "2025-02-20T16:30:00",
          "2025-02-20T16:45:00",
          "2025-02-20T17:00:00",
          "2025-02-20T17:15:00",
          "2025-02-20T17:30:00",
          "2025-02-20T17:45:00",
          "2025-02-20T18:00:00",
          "2025-02-20T18:15:00",
          "2025-02-20T18:30:00",
          "2025-02-20T18:45:00",
          "2025-02-20T19:00:00",
          "2025-02-20T19:15:00",
          "2025-02-20T19:30:00",
          "2025-02-20T19:45:00",
          "2025-02-20T20:00:00",
          "2025-02-21T04:00:00",
          "2025-02-21T04:15:00",
          "2025-02-21T04:30:00",
          "2025-02-21T04:45:00",
          "2025-02-21T05:00:00",
          "2025-02-21T05:15:00",
          "2025-02-21T05:30:00",
          "2025-02-21T05:45:00",
          "2025-02-21T06:00:00",
          "2025-02-21T06:15:00",
          "2025-02-21T06:30:00",
          "2025-02-21T06:45:00",
          "2025-02-21T07:00:00",
          "2025-02-21T07:15:00",
          "2025-02-21T07:30:00",
          "2025-02-21T07:45:00",
          "2025-02-21T08:00:00",
          "2025-02-21T08:15:00",
          "2025-02-21T08:30:00",
          "2025-02-21T08:45:00",
          "2025-02-21T09:00:00",
          "2025-02-21T09:15:00",
          "2025-02-21T09:30:00",
          "2025-02-21T09:45:00",
          "2025-02-21T10:00:00",
          "2025-02-21T10:15:00",
          "2025-02-21T10:30:00",
          "2025-02-21T10:45:00",
          "2025-02-21T11:00:00",
          "2025-02-21T11:15:00",
          "2025-02-21T11:30:00",
          "2025-02-21T11:45:00",
          "2025-02-21T12:00:00",
          "2025-02-21T12:15:00",
          "2025-02-21T12:30:00",
          "2025-02-21T12:45:00",
          "2025-02-21T13:00:00",
          "2025-02-21T13:15:00",
          "2025-02-21T13:30:00",
          "2025-02-21T13:45:00",
          "2025-02-21T14:00:00",
          "2025-02-21T14:15:00",
          "2025-02-21T14:30:00",
          "2025-02-21T14:45:00",
          "2025-02-21T15:00:00",
          "2025-02-21T15:15:00",
          "2025-02-21T15:30:00",
          "2025-02-21T15:45:00",
          "2025-02-21T16:00:00",
          "2025-02-21T16:15:00",
          "2025-02-21T16:30:00",
          "2025-02-21T16:45:00",
          "2025-02-21T17:00:00",
          "2025-02-21T17:15:00",
          "2025-02-21T17:30:00",
          "2025-02-21T17:45:00",
          "2025-02-21T18:00:00",
          "2025-02-21T18:15:00",
          "2025-02-21T18:30:00",
          "2025-02-21T18:45:00",
          "2025-02-21T19:00:00",
          "2025-02-21T19:15:00",
          "2025-02-21T19:30:00",
          "2025-02-21T19:45:00",
          "2025-02-21T20:00:00",
          "2025-02-24T04:00:00",
          "2025-02-24T04:15:00",
          "2025-02-24T04:30:00",
          "2025-02-24T04:45:00",
          "2025-02-24T05:00:00",
          "2025-02-24T05:15:00",
          "2025-02-24T05:30:00",
          "2025-02-24T05:45:00",
          "2025-02-24T06:00:00",
          "2025-02-24T06:15:00",
          "2025-02-24T06:30:00",
          "2025-02-24T06:45:00",
          "2025-02-24T07:00:00",
          "2025-02-24T07:15:00",
          "2025-02-24T07:30:00",
          "2025-02-24T07:45:00",
          "2025-02-24T08:00:00",
          "2025-02-24T08:15:00",
          "2025-02-24T08:30:00",
          "2025-02-24T08:45:00",
          "2025-02-24T09:00:00",
          "2025-02-24T09:15:00",
          "2025-02-24T09:30:00",
          "2025-02-24T09:45:00",
          "2025-02-24T10:00:00",
          "2025-02-24T10:15:00",
          "2025-02-24T10:30:00",
          "2025-02-24T10:45:00",
          "2025-02-24T11:00:00",
          "2025-02-24T11:15:00",
          "2025-02-24T11:30:00",
          "2025-02-24T11:45:00",
          "2025-02-24T12:00:00",
          "2025-02-24T12:15:00",
          "2025-02-24T12:30:00",
          "2025-02-24T12:45:00",
          "2025-02-24T13:00:00",
          "2025-02-24T13:15:00",
          "2025-02-24T13:30:00",
          "2025-02-24T13:45:00",
          "2025-02-24T14:00:00",
          "2025-02-24T14:15:00",
          "2025-02-24T14:30:00",
          "2025-02-24T14:45:00",
          "2025-02-24T15:00:00",
          "2025-02-24T15:15:00",
          "2025-02-24T15:30:00",
          "2025-02-24T15:45:00",
          "2025-02-24T16:00:00",
          "2025-02-24T16:15:00",
          "2025-02-24T16:30:00",
          "2025-02-24T16:45:00",
          "2025-02-24T17:00:00",
          "2025-02-24T17:15:00",
          "2025-02-24T17:30:00",
          "2025-02-24T17:45:00",
          "2025-02-24T18:00:00",
          "2025-02-24T18:15:00",
          "2025-02-24T18:30:00",
          "2025-02-24T18:45:00",
          "2025-02-24T19:00:00",
          "2025-02-24T19:15:00",
          "2025-02-24T19:30:00",
          "2025-02-24T19:45:00",
          "2025-02-24T20:00:00",
          "2025-02-25T04:00:00",
          "2025-02-25T04:15:00",
          "2025-02-25T04:30:00",
          "2025-02-25T04:45:00",
          "2025-02-25T05:00:00",
          "2025-02-25T05:15:00",
          "2025-02-25T05:30:00",
          "2025-02-25T05:45:00",
          "2025-02-25T06:00:00",
          "2025-02-25T06:15:00",
          "2025-02-25T06:30:00",
          "2025-02-25T06:45:00",
          "2025-02-25T07:00:00",
          "2025-02-25T07:15:00",
          "2025-02-25T07:30:00",
          "2025-02-25T07:45:00",
          "2025-02-25T08:00:00",
          "2025-02-25T08:15:00",
          "2025-02-25T08:30:00",
          "2025-02-25T08:45:00",
          "2025-02-25T09:00:00",
          "2025-02-25T09:15:00",
          "2025-02-25T09:30:00",
          "2025-02-25T09:45:00",
          "2025-02-25T10:00:00",
          "2025-02-25T10:15:00",
          "2025-02-25T10:30:00",
          "2025-02-25T10:45:00",
          "2025-02-25T11:00:00",
          "2025-02-25T11:15:00",
          "2025-02-25T11:30:00",
          "2025-02-25T11:45:00",
          "2025-02-25T12:00:00",
          "2025-02-25T12:15:00",
          "2025-02-25T12:30:00",
          "2025-02-25T12:45:00",
          "2025-02-25T13:00:00",
          "2025-02-25T13:15:00",
          "2025-02-25T13:30:00",
          "2025-02-25T13:45:00",
          "2025-02-25T14:00:00",
          "2025-02-25T14:15:00",
          "2025-02-25T14:30:00",
          "2025-02-25T14:45:00",
          "2025-02-25T15:00:00",
          "2025-02-25T15:15:00",
          "2025-02-25T15:30:00",
          "2025-02-25T15:45:00",
          "2025-02-25T16:00:00",
          "2025-02-25T16:15:00",
          "2025-02-25T16:30:00",
          "2025-02-25T16:45:00",
          "2025-02-25T17:00:00",
          "2025-02-25T17:15:00",
          "2025-02-25T17:30:00",
          "2025-02-25T17:45:00",
          "2025-02-25T18:00:00",
          "2025-02-25T18:15:00",
          "2025-02-25T18:30:00",
          "2025-02-25T18:45:00",
          "2025-02-25T19:00:00",
          "2025-02-25T19:15:00",
          "2025-02-25T19:30:00",
          "2025-02-25T19:45:00",
          "2025-02-25T20:00:00",
          "2025-02-26T04:00:00",
          "2025-02-26T04:15:00",
          "2025-02-26T04:30:00",
          "2025-02-26T04:45:00",
          "2025-02-26T05:00:00",
          "2025-02-26T05:15:00",
          "2025-02-26T05:30:00",
          "2025-02-26T05:45:00",
          "2025-02-26T06:00:00",
          "2025-02-26T06:15:00",
          "2025-02-26T06:30:00",
          "2025-02-26T06:45:00",
          "2025-02-26T07:00:00",
          "2025-02-26T07:15:00",
          "2025-02-26T07:30:00",
          "2025-02-26T07:45:00",
          "2025-02-26T08:00:00",
          "2025-02-26T08:15:00",
          "2025-02-26T08:30:00",
          "2025-02-26T08:45:00",
          "2025-02-26T09:00:00",
          "2025-02-26T09:15:00",
          "2025-02-26T09:30:00",
          "2025-02-26T09:45:00",
          "2025-02-26T10:00:00",
          "2025-02-26T10:15:00",
          "2025-02-26T10:30:00",
          "2025-02-26T10:45:00",
          "2025-02-26T11:00:00",
          "2025-02-26T11:15:00",
          "2025-02-26T11:30:00",
          "2025-02-26T11:45:00",
          "2025-02-26T12:00:00",
          "2025-02-26T12:15:00",
          "2025-02-26T12:30:00",
          "2025-02-26T12:45:00",
          "2025-02-26T13:00:00",
          "2025-02-26T13:15:00",
          "2025-02-26T13:30:00",
          "2025-02-26T13:45:00",
          "2025-02-26T14:00:00",
          "2025-02-26T14:15:00",
          "2025-02-26T14:30:00",
          "2025-02-26T14:45:00",
          "2025-02-26T15:00:00",
          "2025-02-26T15:15:00",
          "2025-02-26T15:30:00",
          "2025-02-26T15:45:00",
          "2025-02-26T16:00:00",
          "2025-02-26T16:15:00",
          "2025-02-26T16:30:00",
          "2025-02-26T16:45:00",
          "2025-02-26T17:00:00",
          "2025-02-26T17:15:00",
          "2025-02-26T17:30:00",
          "2025-02-26T17:45:00",
          "2025-02-26T18:00:00",
          "2025-02-26T18:15:00",
          "2025-02-26T18:30:00",
          "2025-02-26T18:45:00",
          "2025-02-26T19:00:00",
          "2025-02-26T19:15:00",
          "2025-02-26T19:30:00",
          "2025-02-26T19:45:00",
          "2025-02-26T20:00:00",
          "2025-02-27T04:00:00",
          "2025-02-27T04:15:00",
          "2025-02-27T04:30:00",
          "2025-02-27T04:45:00",
          "2025-02-27T05:00:00",
          "2025-02-27T05:15:00",
          "2025-02-27T05:30:00",
          "2025-02-27T05:45:00",
          "2025-02-27T06:00:00",
          "2025-02-27T06:15:00",
          "2025-02-27T06:30:00",
          "2025-02-27T06:45:00",
          "2025-02-27T07:00:00",
          "2025-02-27T07:15:00",
          "2025-02-27T07:30:00",
          "2025-02-27T07:45:00",
          "2025-02-27T08:00:00",
          "2025-02-27T08:15:00",
          "2025-02-27T08:30:00",
          "2025-02-27T08:45:00",
          "2025-02-27T09:00:00",
          "2025-02-27T09:15:00",
          "2025-02-27T09:30:00",
          "2025-02-27T09:45:00",
          "2025-02-27T10:00:00",
          "2025-02-27T10:15:00",
          "2025-02-27T10:30:00",
          "2025-02-27T10:45:00",
          "2025-02-27T11:00:00",
          "2025-02-27T11:15:00",
          "2025-02-27T11:30:00",
          "2025-02-27T11:45:00",
          "2025-02-27T12:00:00",
          "2025-02-27T12:15:00",
          "2025-02-27T12:30:00",
          "2025-02-27T12:45:00",
          "2025-02-27T13:00:00",
          "2025-02-27T13:15:00",
          "2025-02-27T13:30:00",
          "2025-02-27T13:45:00",
          "2025-02-27T14:00:00",
          "2025-02-27T14:15:00",
          "2025-02-27T14:30:00",
          "2025-02-27T14:45:00",
          "2025-02-27T15:00:00",
          "2025-02-27T15:15:00",
          "2025-02-27T15:30:00",
          "2025-02-27T15:45:00",
          "2025-02-27T16:00:00",
          "2025-02-27T16:15:00",
          "2025-02-27T16:30:00",
          "2025-02-27T16:45:00",
          "2025-02-27T17:00:00",
          "2025-02-27T17:15:00",
          "2025-02-27T17:30:00",
          "2025-02-27T17:45:00",
          "2025-02-27T18:00:00",
          "2025-02-27T18:15:00",
          "2025-02-27T18:30:00",
          "2025-02-27T18:45:00",
          "2025-02-27T19:00:00",
          "2025-02-27T19:15:00",
          "2025-02-27T19:30:00",
          "2025-02-27T19:45:00",
          "2025-02-27T20:00:00"
         ],
         "xaxis": "x",
         "y": {
          "bdata": "xyk6kst/2D9jf9k9eVjYP8/3U+Olm+A/uK8D54wo4T9I4XoUrkfhPzy9UpYhjuE/kst/SL994T/sUbgehevnP1g5tMh2vuk/JzEIrBxa6j+BBMWPMXfrP1r1udqK/es/9dvXgXNG7D/ImLuWkA/sPyV1ApoIG+w/mN2Th4Va6z/+Q/rt68DrP73jFB3J5es/W7G/7J487D+QoPgx5q7rP5M6AU2EDes/SgwCK4cW6z92Tx4Wak3vP3bgnBGlve8/woanV8oy8D/5MeauJeTvP7raiv1l9/A/6Ugu/yH98D/x9EpZhjj0P3EbDeAtkPQ/FNBE2PD09D8ofoy5awn3P4PAyqFFtvc/mEwVjErq9z/vycNCrWn6P5tVn6ut2Po/oBov3SQG/T99PzVeukn8PxPyQc9m1fs/orQ3+MJkDEBtxf6ye/IUQMWPMXct4RNArfpcbcW+EkD67evAOaMRQLprCfmgpxBAsb/snjwsD0CzDHGsi1sNQMGopE5AkwtATtGRXP7DCUBb07zjFB0IQLFQa5p3HAdAVp+rrdhfB0B+HThnROkFQJ2AJsKGpwRAWRe30QBeA0C8lpAPejYCQBKDwMqhRQFAb/CFyVRBAEDD9Shcj8L+PxKDwMqhRf0/O99PjZdu+z/D0ytlGeL5P0mdgCbChvg/fa62Yn/Z9z8ldQKaCBv3PxQ/xty1hPY/OwFNhA1P9T/jpZvEILD3PyL99nXgnPY/DXGsi9to9z8gQfFjzF34P8IXJlMFo/s/veMUHcnl+j90JJf/kH76P8cpOpLLf/o/WDm0yHa++j8bDeAtkKD6P5F++zpwzvo/0SLb+X5q+z+eXinLEMf6P5HtfD81Xvs/+aBns+pz+j/ImLuWkA/6P8RCrWnecfk/QmDl0CLb+D+h1jTvOEX4P7RZ9bnaivc/duCcEaW99j9VMCqpE9D1PwdfmEwVjPU/sHJoke189D8nwoanV8rzP3PXEvJBz/I/zqrP1Vbs8T956SYxCKzxP4C3QILix/E/OiNKe4Mv8T+mCkYldQL1P8Dsnjws1Pc/yjLEsS5u+j/tnjws1Jr5P7WmeccpOvw/zojS3uAL+z83GsBbIEESQF3+Q/rtaxFA+THmriVkEEAhH/RsVv0OQDSitDf4Qg1AXrpJDAKrC0DecYqO5PIJQApoImx4eghAUWuad5wiB0ASpb3BF6YFQHlYqDXNOwRAIbByaJHtAkBQ/Bhz1xICQHRGlPYGXwJAih9j7lpCAUChZ7PqczUAQH4dOGdEaf4/CmgibHh6/D8tsp3vp8b6PyxlGeJYF/k/hslUwaik9z+b5h2n6Ej2P3S1FfvL7vQ/VFInoImw8z9NhA1Pr5TyP0GC4seYu/E/ufyH9NvX8D9a9bnaiv3vP5HtfD81Xu4/+1xtxf6y8T9BguLHmLvwP5+rrdhfdvA/MZkqGJXU8j8hH/RsVn3yP4iFWtO84/E/RIts5/up8T//snvysFDxP3xhMlUwKvE/HOviNhrA8D8mUwWjkjrwP+xRuB6F6+8/kX77OnDO7j/eAgmKH2PuPxfZzvdT4+0/ryXkg57N7D/Sb18HzhntP8E5I0p7g+0/AU2EDU+v7D9n1edqK/brP+VhodY07+o/fdCzWfW57j+vJeSDns3wP5zEILByaPE/iUFg5dAi8z+GyVTBqKTzPyKOdXEbDfU/3nGKjuTy9T+sHFpkO9/2P+XQItv5fvY/RPrt68A59j+z6nO1Ffv2P3e+nxov3fs/oBov3SQG/j9aZDvfTw0AQKK0N/jCZP4/idLe4AuT/D9FR3L5D+n6P7dif9k9efk/BOeMKO0N+D/3deCcEaX2PyntDb4wmfU/fGEyVTAq9T+t+lxtxf7zPxfZzvdT4/I/6gQ0ETY88j+Y3ZOHhVrxP/RsVn2utvE/qFfKMsSx8z+qYFRSJ6D/Pzy9UpYhjv4/irDh6ZWy/T9yio7k8h/8P5/Nqs/VVvs/cM6I0t7g+T/67evAOSP5PzlFR3L5D/g/FmpN845T9z9GtvP91Hj2P3EbDeAtkPU/xLEubqMB9T+At0CC4sf0P8WPMXctIfQ/VTAqqRPQ8z+z6nO1FfvyP05iEFg5tP8/2PD0SlmG/j8Jih9j7loAQMZtNIC3wARAUiegibDhA0DzjlN0JJcLQLpJDAIrBwtAsi5uowE8CkBvEoPAyiEJQMDsnjws1ApA8BZIUPyYCkDZX3ZPHhYMQPvL7snDwgtAArwFEhS/CkBLWYY41sUJQG8Sg8DKIQlA7FG4HoXrB0BE+u3rwDkHQDAqqRPQRAZA/Knx0k3iBUBZF7fRAF4FQMHKoUW2cwRAKVyPwvWoA0AkKH6MuesCQLTIdr6fmgVAb/CFyVRBCEAydy0hH/QGQMbctYR80AVAi/1l9+ThBEBKDAIrhxYEQBkEVg4tMgNA2c73U+OlAkCQMXctIR8FQKW9wRcm0wRAF7fRAN4CBUDr4jYawFsVQK+UZYhjXR9Anu+nxks3HUB56SYxCCwbQBdIUPwYcxlAfGEyVTDqF0AMk6mCUUkWQD9XW7G/rBVADJOpglFJFEC5jQbwFggTQIqO5PIf0hFAGlHaG3yhEEDwFkhQ/BgPQNcS8kHPZg5A78nDQq1pDUBApN++DpwLQPcGX5hMFQpAEOm3rwNnCEA/NV66SQwHQKH4MeaupQVAgZVDi2xnBEAs1JrmHScDQBkEVg4tMgJAJLn8h/RbAUAZ4lgXt1EAQHDOiNLe4P4/JuSDns2q/T9N845TdCT8P/rt68A5I/s/taZ5xyk6+j9N845TdCT9P+PHmLuWkPs/8tJNYhBY+j8UrkfhehT5PyQofoy5a/0/07zjFB3JAUB24JwRpT0BQNNNYhBYuQBA1lbsL7unAEAW+8vuycP/P3PXEvJBz/4/ZDvfT42X/T8j2/l+arz8PwRWDi2ynfs/mbuWkA96+j851sVtNID5PxiV1AloIvg/dQKaCBue+D+QMXctIR/4P1OWIY51cfc/okW28/3U9j+OdXEbDeD1P1wgQfFjzPQ/w9MrZRni8z+bVZ+rrdjzPxe30QDeAvM/vJaQD3o28j8QejarPlfyP+hqK/aX3fE/GCZTBaOS8T+ppE5AE2HxPxZqTfOOU/E/2ht8YTJV9T9z1xLyQc/1P921hHzQs/c/fT81XrpJEECKsOHplXIbQPFjzF1LiBlALSEf9GzWF0ASg8DKoUUWQIGVQ4ts5xRAwTkjSnuDE0BAE2HD06sSQBIUP8bcdRFAVg4tsp1vEECQMXctIZ8OQOeMKO0NvgxAcM6I0t7gCkDTTWIQWLkJQHe+nxov3QlAbqMBvAWSCEC/fR04Z0QHQCDSb18HzgVANKK0N/jCBEBd/kP67WsDQCNKe4MvTAJA93XgnBElAUBnRGlv8AUAQI0o7Q2+MP4/DJOpglFJ/D/FILByaJH6P8ZtNIC3QPk/rBxaZDvf9z8i/fZ14Jz2P/jCZKpgVPU/UrgehetR+D8rGJXUCWj3PxHHuriNBvc/rBxaZDvf9z+LbOf7qfH2P+tztRX7y/U/GXPXEvJB9T+neccpOpL1P0VHcvkP6fY/veMUHcnl9j8OLbKd76f2P96Th4Va0/U/CmgibHh69T/GbTSAt0D1P6+UZYhjXfU/2T15WKg19T/UK2UZ4lj0P61p3nGKjvM/ETY8vVKW8j/oaiv2l93xP/rt68A5I/E/irDh6ZWy8D/whclUwajwP9xoAG+BBPA/umsJ+aBn7z8PC7WmecftPzj4wmSqYOw/4zYawFsg6z8UrkfhehTqP4XrUbgehek/h6dXyjLE6T/7y+7Jw0LrP95xio7k8vk/CfmgZ7Pq+j8nwoanV8r7P5vmHafoSPo/6Gor9pfd+D+FfNCzWbUQQJ0Rpb3BFw9A4lgXt9EADUAAb4EExQ8LQPFjzF1LSAlA8IXJVMGoB0BRa5p3nCIGQIQNT6+U5QRA5dAi2/l+A0Drc7UV+0sCQLG/7J48LAFAIGPuWkI+AEAYldQJaCIAQGdEaW/whf4/b/CFyVTB/D+SXP5D+u36P3RGlPYGX/k/Vg4tsp3v9z8bDeAtkKD2P94CCYofY/U/gQTFjzF39D/OGVHaG3zzPzLmriXkg/I/LbKd76fG8T/yQc9m1efwP7mNBvAWSPA/BoGVQ4ts7z+u2F92Tx7uP1D8GHPXEvA/1edqK/aX8D/Sb18HzhnxPzbNO07RkfE/PL1SliGO8D9LWYY41sXvP8zuycNCre8/1XjpJjEI8D82qz5XW7HvP9GRXP5D+u8/78nDQq1p8D/FjzF3LSHwP7yWkA96NvA/d76fGi/d7j8ijnVxGw3uP7hAguLHmO0/hA1Pr5Rl7D8aUdobfGHsP5+rrdhfdus/2qz6XG3F6j8dOGdEaW/qPybkg57Nquk/8tJNYhBY6T/VCWgibHjoP7n8h/Tb1+c/cRsN4C2Q6D/dJAaBlUPrP0dy+Q/pt+s/0ETY8PRK6z+At0CC4sfqPxrAWyBB8ek/CmgibHh66z+4rwPnjCj0P5oIG55eKfU/5fIf0m9f9T//snvysFD0P2UZ4lgXt/Q/9pfdk4eF8z9GlPYGX5jyP/d14JwRpfE/irDh6ZWy8T8W+8vuycPwPwBvgQTFj/A/VcGopE5A7z+uR+F6FK7tP7AD54wo7es/QYLix5i76j8m5IOezarpP4Lix5i7lug/mbuWkA966D+J0t7gC5PnP90kBoGVQ+c/sb/snjws5j8ydy0hH/TkPxx8YTJVMOQ/Z0Rpb/CF4z+xUGuad5ziP2UZ4lgXt+E/W9O84xQd4T+1N/jCZKrgP26jAbwFEuA/9GxWfa623j8KaCJseHrdP7dif9k9edw/Dk+vlGWI2z9hw9MrZRngP0GC4seYu+A/s+pztRX75T84+MJkqmDmP1r1udqK/eU/owG8BRIU8z9hw9MrZRnzP1OWIY51cfI/54wo7Q2+9T9NFYxK6gT2P9Sa5h2n6PU/1lbsL7sn+T9SSZ2AJsL5P588LNSa5vo/cF8HzhlR+j8U0ETY8PT5P1K4HoXrUfo/GsBbIEHx+j/y0k1iEFj6P6qCUUmdgPs/CYofY+5a+z8FxY8xdy36P0Mc6+I2Gvo/VFInoImw+T/biv1l9+T4P5M6AU2EDfg/R3L5D+m39z8pyxDHurj2P+Y/pN++DvY/PujZrPpc9T/ufD81Xrr0Pz0s1JrmHfQ/eVioNc07+T+pE9BE2PD3P11txf6ye/Y/T0ATYcPTEEBQjZduEgMnQJhMFYxKmjBAGlHaG3zhLkC4HoXrUbgsQNXnaiv2typADr4wmSrYKED5MeauJSQnQD9XW7G/jCVAQBNhw9MLJEDbiv1l96QiQCBj7lpCXiFAHhZqTfMuIEC9UpYhjjUeQB/0bFZ97hxAeekmMQjsGkCRfvs6cA4ZQCBB8WPMXRdAZMxdS8jHFUA3iUFg5VAUQEI+6Nms+hJAYTJVMCqpEUDzjlN0JJcQQA3gLZCg+A5A5fIf0m/fDECP5PIf0u8KQF8pyxDHOglAmggbnl6pB0BkO99PjRcGQHZxGw3grQRAKH6MuWsJBUBVwaikTsADQH/7OnDOiAJAMZkqGJVUA0B3vp8aL90FQD81XrpJjARAswxxrIvbA0Dy0k1iENgCQE9AE2HDUwJAtvP91HhpAUAQ6bevA2cAQHWTGARWDv8/Z0Rpb/CF/T8B3gIJih/8P6Fns+pztfo/yjLEsS5u+T97gy9Mpgr5P6rx0k1iEPg/taZ5xyk69z/DZKpgVFL2P2uad5yiI/U/t9EA3gIJ9D/8GHPXEvLyP8WPMXctIfI/Iv32deCc8T8noImw4enwP+QUHcnlP/A/odY07zhF7z+ZKhiV1AnuPzSitDf4wuw/7FG4HoXr6z+7Jw8LtabrP/aX3ZOHhfE/MnctIR/09D/cRgN4CyT4P4XrUbgehfY/O99PjZfuEEAzxLEubiMnQBQ/xty1hCVAb4EExY8RJEC+wRcmU8UiQLN78rBQiyFAWDm0yHZ+IEDVCWgibLgeQM07TtGRnBxA3bWEfNCzGkCfPCzUmuYYQELPZtXnKhdA+Q/pt6/DFUAawFsgQbEUQL3jFB3JZRNAfPKwUGsaEkAYldQJaOIQQLpJDAIrhw9AMnctIR90DUDSb18HzpkLQISezarP1QlALbKd76dGCEA9m1Wfq60GQLyWkA96NgVAveMUHcnlA0Bpb/CFydQCQIqw4emVsgFAGQRWDi2yAEAoDwu1pnn/P2TMXUvIBwBAmnecoiM5AECM22gAb4H+P6Fns+pztf8/umsJ+aBn/j+28/3UeOn/P4V80LNZ9f4/gy9MpgpG/T/gvg6cM6L8P8rDQq1p3vs/dy0hH/Rs+j8TYcPTK2X5P2q8dJMYBPg/klz+Q/rt9j+Rfvs6cM71P4BIv30dOPU/foy5awn59D8T8kHPZtX0P9V46SYxCPQ/zH9Iv30d8z8gQfFjzF3yP2dEaW/whfE/ryXkg57N8T9Pr5RliGPxP3npJjEIrPA/MZkqGJXU7z+dEaW9wRfwP2FUUiegie4/uK8D54wo7T9YyjLEsS7sPxKDwMqhRew/RUdy+Q/p6z/fT42XbhLvP15LyAc9m+0/3nGKjuTy6z8JG55eKcsLQJLLf0i//QlAxf6ye/IwCEBv8IXJVMEGQGUZ4lgXNwVAMEymCkYlBEArGJXUCegCQLKd76fGywFAa5p3nKKjAECTGARWDi3/PwK8BRIUP/0/O99PjZdu+z+SXP5D+u35P+kmMQisHPg/3SQGgZVD+D+1pnnHKTr3P0I+6Nms+vU/BFYOLbKd9D8/xty1hHzzP1pkO99PjfI/mbuWkA968T9y+Q/pt6/wPwHeAgmKH/A/ldQJaCJs7j9ZF7fRAN7sP8xdS8gHPes/F9nO91Pj6T+xUGuad5zoP15LyAc9m+c/FvvL7snD5j94CyQofozpP42XbhKDwOg/0NVW7C+78z8OT6+UZYj5P13+Q/rt6/g/5BQdyeU/+D/ZX3ZPHhb5Pz2bVZ+rrfg/e4MvTKYK+T/qBDQRNjz6PyUGgZVDi/o/uECC4seY+T8PC7Wmecf5P86I0t7gC/k/2V92Tx4W+T8Sg8DKoUX5PzqSy39Iv/g/7MA5I0p79z9HcvkP6bf2P0Ck374OnPY/utqK/WX39T8r9pfdk4f1P8HKoUW28/Q/JXUCmggb9D8bL90kBoHzPzhnRGlv8PI/taZ5xyk68j/D9Shcj8LxP23F/rJ78vA/I0p7gy9M8D+xv+yePCzwP5oIG55eKfA/Vp+rrdhf8T9sCfmgZ7PxP4SezarP1fA/vsEXJlMF8D8qOpLLf0jvP921hHzQMwdAW9O84xSdBUC+nxov3SQEQDhnRGlv8AJAbAn5oGezAUDY8PRKWQYBQDnWxW00AABA9+RhodY0/j9gdk8eFmr8P0I+6Nms+vo/0ETY8PRK+T/5MeauJeT4Pxb7y+7Jw/k/N4lBYOXQ+D8eFmpN8473P90kBoGVQ/Y/v30dOGdE9T/OiNLe4Av0P1HaG3xhMvM/BOeMKO0N8j+ZKhiV1AnxP5EPejarPvA/rWnecYqO7j9rmnecoiPvP8/3U+Olm+4/3bWEfNCz7T/3Bl+YTBXsP3o2qz5XW+s/9bnaiv1l8D/gnBGlvcHvP0LPZtXnavE/eekmMQis8T8p7Q2+MJn2P4XrUbgehfU/Qxzr4jYa9j+sHFpkO9/1P50Rpb3BF/Y/qDXNO07R9T9n1edqK/b1P6H4MeauJfU/NxrAWyBB9D/7XG3F/rLzP6MjufyH9PI/at5xio7k8j9/2T15WKjyPwn5oGez6vE/30+Nl24S8T/gLZCg+DHxPxgmUwWjkvA/zojS3uAL8T+xUGuad5zxP3icoiO5/PE/8x/Sb18H8j8gY+5aQj7xP4iFWtO84/A/VFInoImw8D9yio7k8h/wPxWMSuoENO8/Io51cRsN7j+bVZ+rrdjtP0HxY8xdS/U/FYxK6gQ0+z+tad5xio75P/AWSFD8GPg/hXzQs1n19j9rmnecoiMLQCcxCKwc2hRAi2zn+6lxE0D+1HjpJjESQHsUrkfh+hBAPQrXo3C9D0AHX5hMFYwNQFjKMsSxrgtARUdy+Q/pCUAYldQJaCIIQP2H9NvXgQZAIbByaJHtBEB8YTJVMCoEQGb35GGh1gJAkxgEVg6tAUCTGARWDq0AQIv9ZffkYf8/cRsN4C2Q/T8GEhQ/xtz7P89m1edqK/o/ryXkg57N+D851sVtNID3P5MYBFYOLfY/9wZfmEwV9T+94xQdyeXzP+58PzVeuvI/FR3J5T+k8T9PQBNhw9PwP3o2qz5XW/I/x0s3iUFg8T+x4emVsgzxPyBj7lpCPvA/F7fRAN4C7z/nHafoSC70P4nS3uALk/M/+n5qvHST8j/r4jYawFvyP7wFEhQ/xvE/odY07zhF8T924JwRpb3wP4BIv30dOPA/WKg1zTtO8D8XSFD8GHPvP9xoAG+BBO8/2IFzRpT27j+sHFpkO9/tPxDpt68D5+w/UkmdgCbC7D+9UpYhjnXrP1K4HoXrUeo/Z9Xnaiv26T9SSZ2AJsLoP5huEoPAyuc/mpmZmZmZ5z/uWkI+6NnmPyNKe4MvTOY/VFInoImw5T9Ra5p3nKLlP5+rrdhfduU/bxKDwMqh5T/mriXkg57lPwtGJXUCmuQ/zqrP1Vbs4z/xY8xdS8jjP6kT0ETY8OI/9UpZhjjW4T/sL7snDwvhP3KKjuTyH+A/RPrt68A53z8/NV66SQzeP+viNhrAW9w/1lbsL7sn2z8UrkfhehTaPzJ3LSEf9Ng/AiuHFtnO1z/35GGh1jTXP+JYF7fRANY/f/s6cM6I3j+1pnnHKTreP7aEfNCzWd0/7Q2+MJkq3D/gnBGlvcHbP8xdS8gHPds/dQKaCBue2j96Nqs+V1vZP/Xb14FzRtg/fh04Z0Rp1z/hehSuR+HWP9GRXP5D+tU/bef7qfHS1T/ufD81XrrVP2B2Tx4WatU/2PD0SlmG1D+itDf4wmTeP1fsL7snD98/FR3J5T+k4z+MSuoENBHoP4C3QILix+Y//tR46SYx6D/2l92Th4XoPxZqTfOOU+g/wOyePCzU6D+Ens2qz9XoP/YoXI/C9eg/dk8eFmpN6T9qTfOOU3ToP8RCrWneceg/lrIMcayL5z+6awn5oGfnP5wzorQ3+OY/fT81XrpJ5j/9h/Tb14HlP7raiv1l9+Q/7C+7Jw8L5T9xrIvbaADlP6qCUUmdgOQ/u7iNBvAW5D+fPCzUmublPxKlvcEXJuc/B1+YTBWM5j+qglFJnYDmPw5Pr5RliOU/qz5XW7G/5D+1pnnHKTrkP2IQWDm0yOY/KqkT0ETY6D9iEFg5tMjqP/cGX5hMFeo/OdbFbTSA6T+28/3UeOnoP/+ye/KwUOc/I0p7gy9M9j+C4seYuxYAQAkbnl4py/4/Vg4tsp3v/D8cfGEyVTD7Pw5Pr5RliPk/nDOitDf49z8OT6+UZYj2P2iR7Xw/NfU/WvW52or98z9KDAIrhxbzPz0K16NwPfI/S+oENBE28T/ZPXlYqDXwP7MMcayL2+4/sp3vp8ZL7T8YJlMFo5LsPzsBTYQNT+s/klz+Q/rt6T8bDeAtkKDoP8P1KFyPwuc/PZtVn6ut5j9SJ6CJsOHlP+xRuB6F6+U/okW28/3U5D99rrZif9njP4nS3uALk+M/FD/G3LWE5j9d/kP67evmP9c07zhFR+Y/mSoYldQJ6D8i/fZ14JznP49TdCSX/+Y/JQaBlUOL5j9YyjLEsS7mP9xGA3gLJOY/rBxaZDvf5T8jSnuDL0zmPwtGJXUCmuY/SZ2AJsKG5z+coiO5/IfmP240gLdAguY/QKTfvg6c5T+yne+nxkvlPwHeAgmKH+U/EhQ/xty15D956SYxCKzkP/LSTWIQWOU/TYQNT6+U5T/yQc9m1efkP7N78rBQa+Q/zO7Jw0Kt5T8QejarPlflPzC7Jw8LteQ/2PD0SlmG5D82zTtO0ZHkPy2yne+nxuU/ufyH9NvX5T9B8WPMXUvmP1uxv+yePOg/W0I+6Nms6D/ZPXlYqDXnP65H4XoUruc/L26jAbwF6D+k374OnDPoP7FQa5p3nOY/8BZIUPwY5T9dbcX+snvkPxzr4jYawOM/0SLb+X5q5D+4QILix5jjP/JBz2bV5+I/K/aX3ZOH/z+4QILix5j9P4EExY8xd/w/liGOdXEb+z/HSzeJQWD7PwRWDi2ynfk/4lgXt9EA+D/4U+Olm8T2P5+rrdhfdvU/Ad4CCYof9D+Hp1fKMsTyP5p3nKIjufE/rkfhehSu8D8EVg4tsp3vP6+UZYhjXe4/qDXNO07R7T+ASL99HTjtPygPC7Wmees/sVBrmnec6j88vVKWIY7pP0Otad5xiuw/9ihcj8L16j9CYOXQItvpPy1DHOviNuw/iUFg5dAi6z8pXI/C9SjqPyGwcmiR7eo/JzEIrBxa7j+aCBueXinwP26jAbwFEvA/odY07zhF8D8qqRPQRNjwPyh+jLlrCfE/4JwRpb3B8D/99nXgnBHxP3/7OnDOiPA/7FG4HoXr8D9E+u3rwDnwP1XBqKROQO8/PujZrPpc7z/J5T+k377uPwN4CyQofu4/f2q8dJMY7j8QejarPlftP+XyH9JvX+0/eVioNc077D+6awn5oGfrP+CcEaW9wes/2IFzRpT26j8ydy0hH/TqP3lYqDXNO+o/C0YldQKa6j8X2c73U+PvP6vP1VbsL+8/1XjpJjEI7j9jf9k9eVjsPxlz1xLyQes/qaROQBNh6T+qglFJnYDoP6vP1VbsL+c/Gw3gLZCg5j9kXdxGA3jlP8Dsnjws1OQ/escpOpLL4z+JQWDl0CLjP6qCUUmdgOI/fPKwUGua4T9q3nGKjuTgP7ByaJHtfN8/G55eKcsQ3z/kg57Nqs/dP40o7Q2+MN0/HhZqTfOO2z/LEMe6uI3aP3Noke18P9k/MCqpE9BE2D+uR+F6FK7XPy6QoPgx5tY/5IOezarP1T8IPZtVn6vVP6foSC7/IdU/KcsQx7q41T/CFyZTBaPWP/5D+u3rwNU//fZ14JwR1T+9UpYhjnXZP2gibHh6pdg/4umVsgxx2D8RNjy9UpbhP2Kh1jTvOOE/BaOSOgFN4j89CtejcD3kP3DOiNLe4OU/tMh2vp8a5z/BOSNKe4PpP6RwPQrXo+o/b4EExY8x6z9NhA1Pr5TrP+XyH9JvX+s/6gQ0ETY86z/swDkjSnvrP/2H9NvXges/8rBQa5p37D/QRNjw9ErtP2FUUiegie4/Io51cRsN8D/pt68D54zwP1uxv+yePPE/w/UoXI/C8D8Z4lgXt9HwP2Rd3EYDePI/A3gLJCh+8j8wKqkT0ETyP588LNSa5vE/Gy/dJAaB8T83GsBbIEHxP9k9eVioNfE/+Q/pt68D/D+YTBWMSuoCQJ7vp8ZLtwFAfGEyVTCqAEBI4XoUrkf/P4MvTKYKRv0/ZmZmZmZm+z9CPujZrPr5P+cdp+hILvg/Z0Rpb/CF9j+L/WX35GH1P/cGX5hMFfQ/Ece6uI0G8z99rrZif9nxP68l5IOezfA/RIts5/up7z/TTWIQWDnuP+ELk6mCUfI/CmgibHh68T87cM6I0t7wPzVeukkMAvA/Ke0NvjCZ7j9N845TdCTtP65H4XoUrus/hjjWxW006j/FILByaJHpP0i/fR04Z+g/TfOOU3Qk5z99PzVeuknmP3sUrkfheuY/QmDl0CLb5T9miGNd3EblP23F/rJ78uQ/hjjWxW007D+iRbbz/dTwP3uDL0ymCvA/PZtVn6ut8j/TTWIQWDnyP1ioNc07Tvw/4lgXt9EA/T9TBaOSOgH+Pz9XW7G/7P4/AG+BBMWP/z8AkX77OnD+P9GRXP5D+v0/OiNKe4Mv/T9Wn6ut2F/9P451cRsN4Pw/veMUHcnl+z+GWtO84xT7P+XQItv5fvo/R3L5D+m3+T+R7Xw/NV75P6yt2F92T/g/7MA5I0p79z93LSEf9Gz2PyZTBaOSOvY/SFD8GHPX9T/y0k1iEFj1Pw8LtaZ5x/Q/8fRKWYY49D/0bFZ9rrbzP7hAguLHmPM/U5YhjnVx8z/cRgN4CyT1PwTnjCjtDfc/IEHxY8xd+D9LWYY41kUAQGkAb4EExf4/lIeFWtP8EUDNzMzMzAwcQIcW2c73ExpAApoIG57eG0DiWBe30QAaQMP1KFyPQhhAgQTFjzG3FkAtIR/0bFYVQN/gC5OpAhRA3SQGgZXDEkBmiGNd3IYRQAtGJXUCWhBAvHSTGATWDkBtxf6ye/INQA6+MJkqGAxAAG+BBMWPCkAm5IOezSoJQIqO5PIf0gdAGeJYF7dRBkCze/KwUOsEQCuHFtnO9wNAVg4tsp3vAkCzDHGsi9sBQAn5oGezagFAE2HD0ytlAEAB3gIJih//P5p3nKIjuf0/QBNhw9Mr/D89m1Wfq637P8UgsHJokf0/Rrbz/dR4/D/hC5OpglH7P36MuWsJ+fk/V1uxv+ye+D9/arx0kxj4P7u4jQbwFvg/PujZrPpc+T+yLm6jAbz6P78OnDOitPs/hxbZzvdT/D8oDwu1pnn8P2HD0ytlGfw/YhBYObTI+z8T8kHPZtX7PwHeAgmKH/0/y6FFtvP9+z9EaW/whcn7P3Gsi9toAPs/ofgx5q4l+j/hehSuR+H5P96Th4Va0/k/cRsN4C2Q+j/ImLuWkA/6P9DVVuwvu/k/veMUHcnl+D9d3EYDeAv6P7N78rBQa/k/rBxaZDvf+D++wRcmUwX5P8X+snvysPk/gSbChqdX+T/x9EpZhjj7P52AJsKGp/8/lIeFWtM8AEB3vp8aL93+PwU0ETY8vQxA9P3UeOnmGEDRItv5fioXQCV1ApoImxVAlkOLbOc7FECu2F92T94SQAwCK4cWGRJAIbByaJHtEEC/DpwzorQPQKvP1Vbsrw1Ah6dXyjLEC0BuNIC3QAIKQEcDeAskKAlAGsBbIEHxB0AKaCJseHoGQMiYu5aQDwVAWMoyxLGuA0AvbqMBvIUCQIEmwoanVwFADJOpglFJAECfq63YX3b+P1g5tMh2vvw/W9O84xQd+z9rK/aX3ZP5PwwCK4cW2fg/VFInoImw9z8nMQisHFr2P/AWSFD8GPU/ukkMAiuH9D8JG55eKcv2PyDSb18HzvU/iGNd3EYD9T+At0CC4sf2P+xRuB6F6/U/X5hMFYxK9T8Cmggbnl71P+7rwDkjSvY/9bnaiv1l9j8bDeAtkKD2P799HThnRPY/1sVtNIC39T8AAAAAAAD1P3Qkl/+QfvQ/AG+BBMWP9D9iEFg5tMj0P86qz9VW7PQ/nDOitDf49D++wRcmUwX2P40o7Q2+MPc/46WbxCCw9j9DHOviNhr3P8GopE5AE/c/F0hQ/Bhz9z93LSEf9Gz3P/wYc9cS8vc/hJ7Nqs/V9z+h1jTvOEX4P+lILv8h/fc/EFg5tMh29z93vp8aL933PySX/5B++/c/hXzQs1n1/D+cxCCwcugBQNiBc0aUdgFAv30dOGdEAUD+1HjpJvETQNV46SYxSBhAT6+UZYijFkBQjZduEkMVQO84RUdy+RNA/tR46SbxEkAPnDOitLcRQPT91HjpphBAAiuHFtlOD0CGyVTBqKQNQPH0SlmGuAtAaCJseHolCkCh1jTvOMUIQJtVn6ut2AhA0ZFc/kN6B0DEsS5uowEGQCV1ApoImwRAY3/ZPXlYA0DkFB3J5T8CQJeQD3o2KwFAcoqO5PIfAEAXSFD8GHP+P15LyAc9m/w/OGdEaW/w+j8UP8bctYT5P8WPMXctIfg/16NwPQrX9j9SSZ2AJsL1P5kqGJXUCfU/ylTBqKRO+D/LEMe6uI33PyBj7lpCPvc/wTkjSnuD+j9xGw3gLZD6P1OWIY51cfk/NV66SQwC+z88TtGRXP79P8IXJlMFIwBA3+ALk6mCAEA/NV66SYwAQKFns+pztQBAQYLix5i7AEC94xQdyeUAQBdIUPwYcwBALSEf9GxWAEB6Nqs+V1v/P5kqGJXUCQBAaLPqc7UVAECASL99HTj/P23n+6nx0v4/uB6F61G4/T/HKTqSy3/8P+qVsgxxrPs/OwFNhA1P+z9UUiegibD7P2dEaW/whfw/+zpwzojS+z8xmSoYldT8Pwkbnl4py/w/48eYu5aQ/D+rz9VW7C/9PwAAAAAAAANAFD/G3LUEB0BDHOviNpoFQE3zjlN0pARAV1uxv+zeE0Coxks3iYESQB4Wak3zThFA+u3rwDkjEEDRItv5fmoOQBiV1AloYhFA001iEFh5EEAaUdobfOEOQJtVn6ut2AxARwN4CyQoC0DfT42XbpIJQCuHFtnO9wdAXwfOGVFaBkA=",
          "dtype": "f8"
         },
         "yaxis": "y"
        }
       ],
       "layout": {
        "legend": {
         "title": {
          "text": "variable"
         },
         "tracegroupgap": 0
        },
        "margin": {
         "t": 60
        },
        "template": {
         "data": {
          "bar": [
           {
            "error_x": {
             "color": "#2a3f5f"
            },
            "error_y": {
             "color": "#2a3f5f"
            },
            "marker": {
             "line": {
              "color": "#E5ECF6",
              "width": 0.5
             },
             "pattern": {
              "fillmode": "overlay",
              "size": 10,
              "solidity": 0.2
             }
            },
            "type": "bar"
           }
          ],
          "barpolar": [
           {
            "marker": {
             "line": {
              "color": "#E5ECF6",
              "width": 0.5
             },
             "pattern": {
              "fillmode": "overlay",
              "size": 10,
              "solidity": 0.2
             }
            },
            "type": "barpolar"
           }
          ],
          "carpet": [
           {
            "aaxis": {
             "endlinecolor": "#2a3f5f",
             "gridcolor": "white",
             "linecolor": "white",
             "minorgridcolor": "white",
             "startlinecolor": "#2a3f5f"
            },
            "baxis": {
             "endlinecolor": "#2a3f5f",
             "gridcolor": "white",
             "linecolor": "white",
             "minorgridcolor": "white",
             "startlinecolor": "#2a3f5f"
            },
            "type": "carpet"
           }
          ],
          "choropleth": [
           {
            "colorbar": {
             "outlinewidth": 0,
             "ticks": ""
            },
            "type": "choropleth"
           }
          ],
          "contour": [
           {
            "colorbar": {
             "outlinewidth": 0,
             "ticks": ""
            },
            "colorscale": [
             [
              0,
              "#0d0887"
             ],
             [
              0.1111111111111111,
              "#46039f"
             ],
             [
              0.2222222222222222,
              "#7201a8"
             ],
             [
              0.3333333333333333,
              "#9c179e"
             ],
             [
              0.4444444444444444,
              "#bd3786"
             ],
             [
              0.5555555555555556,
              "#d8576b"
             ],
             [
              0.6666666666666666,
              "#ed7953"
             ],
             [
              0.7777777777777778,
              "#fb9f3a"
             ],
             [
              0.8888888888888888,
              "#fdca26"
             ],
             [
              1,
              "#f0f921"
             ]
            ],
            "type": "contour"
           }
          ],
          "contourcarpet": [
           {
            "colorbar": {
             "outlinewidth": 0,
             "ticks": ""
            },
            "type": "contourcarpet"
           }
          ],
          "heatmap": [
           {
            "colorbar": {
             "outlinewidth": 0,
             "ticks": ""
            },
            "colorscale": [
             [
              0,
              "#0d0887"
             ],
             [
              0.1111111111111111,
              "#46039f"
             ],
             [
              0.2222222222222222,
              "#7201a8"
             ],
             [
              0.3333333333333333,
              "#9c179e"
             ],
             [
              0.4444444444444444,
              "#bd3786"
             ],
             [
              0.5555555555555556,
              "#d8576b"
             ],
             [
              0.6666666666666666,
              "#ed7953"
             ],
             [
              0.7777777777777778,
              "#fb9f3a"
             ],
             [
              0.8888888888888888,
              "#fdca26"
             ],
             [
              1,
              "#f0f921"
             ]
            ],
            "type": "heatmap"
           }
          ],
          "histogram": [
           {
            "marker": {
             "pattern": {
              "fillmode": "overlay",
              "size": 10,
              "solidity": 0.2
             }
            },
            "type": "histogram"
           }
          ],
          "histogram2d": [
           {
            "colorbar": {
             "outlinewidth": 0,
             "ticks": ""
            },
            "colorscale": [
             [
              0,
              "#0d0887"
             ],
             [
              0.1111111111111111,
              "#46039f"
             ],
             [
              0.2222222222222222,
              "#7201a8"
             ],
             [
              0.3333333333333333,
              "#9c179e"
             ],
             [
              0.4444444444444444,
              "#bd3786"
             ],
             [
              0.5555555555555556,
              "#d8576b"
             ],
             [
              0.6666666666666666,
              "#ed7953"
             ],
             [
              0.7777777777777778,
              "#fb9f3a"
             ],
             [
              0.8888888888888888,
              "#fdca26"
             ],
             [
              1,
              "#f0f921"
             ]
            ],
            "type": "histogram2d"
           }
          ],
          "histogram2dcontour": [
           {
            "colorbar": {
             "outlinewidth": 0,
             "ticks": ""
            },
            "colorscale": [
             [
              0,
              "#0d0887"
             ],
             [
              0.1111111111111111,
              "#46039f"
             ],
             [
              0.2222222222222222,
              "#7201a8"
             ],
             [
              0.3333333333333333,
              "#9c179e"
             ],
             [
              0.4444444444444444,
              "#bd3786"
             ],
             [
              0.5555555555555556,
              "#d8576b"
             ],
             [
              0.6666666666666666,
              "#ed7953"
             ],
             [
              0.7777777777777778,
              "#fb9f3a"
             ],
             [
              0.8888888888888888,
              "#fdca26"
             ],
             [
              1,
              "#f0f921"
             ]
            ],
            "type": "histogram2dcontour"
           }
          ],
          "mesh3d": [
           {
            "colorbar": {
             "outlinewidth": 0,
             "ticks": ""
            },
            "type": "mesh3d"
           }
          ],
          "parcoords": [
           {
            "line": {
             "colorbar": {
              "outlinewidth": 0,
              "ticks": ""
             }
            },
            "type": "parcoords"
           }
          ],
          "pie": [
           {
            "automargin": true,
            "type": "pie"
           }
          ],
          "scatter": [
           {
            "fillpattern": {
             "fillmode": "overlay",
             "size": 10,
             "solidity": 0.2
            },
            "type": "scatter"
           }
          ],
          "scatter3d": [
           {
            "line": {
             "colorbar": {
              "outlinewidth": 0,
              "ticks": ""
             }
            },
            "marker": {
             "colorbar": {
              "outlinewidth": 0,
              "ticks": ""
             }
            },
            "type": "scatter3d"
           }
          ],
          "scattercarpet": [
           {
            "marker": {
             "colorbar": {
              "outlinewidth": 0,
              "ticks": ""
             }
            },
            "type": "scattercarpet"
           }
          ],
          "scattergeo": [
           {
            "marker": {
             "colorbar": {
              "outlinewidth": 0,
              "ticks": ""
             }
            },
            "type": "scattergeo"
           }
          ],
          "scattergl": [
           {
            "marker": {
             "colorbar": {
              "outlinewidth": 0,
              "ticks": ""
             }
            },
            "type": "scattergl"
           }
          ],
          "scattermap": [
           {
            "marker": {
             "colorbar": {
              "outlinewidth": 0,
              "ticks": ""
             }
            },
            "type": "scattermap"
           }
          ],
          "scattermapbox": [
           {
            "marker": {
             "colorbar": {
              "outlinewidth": 0,
              "ticks": ""
             }
            },
            "type": "scattermapbox"
           }
          ],
          "scatterpolar": [
           {
            "marker": {
             "colorbar": {
              "outlinewidth": 0,
              "ticks": ""
             }
            },
            "type": "scatterpolar"
           }
          ],
          "scatterpolargl": [
           {
            "marker": {
             "colorbar": {
              "outlinewidth": 0,
              "ticks": ""
             }
            },
            "type": "scatterpolargl"
           }
          ],
          "scatterternary": [
           {
            "marker": {
             "colorbar": {
              "outlinewidth": 0,
              "ticks": ""
             }
            },
            "type": "scatterternary"
           }
          ],
          "surface": [
           {
            "colorbar": {
             "outlinewidth": 0,
             "ticks": ""
            },
            "colorscale": [
             [
              0,
              "#0d0887"
             ],
             [
              0.1111111111111111,
              "#46039f"
             ],
             [
              0.2222222222222222,
              "#7201a8"
             ],
             [
              0.3333333333333333,
              "#9c179e"
             ],
             [
              0.4444444444444444,
              "#bd3786"
             ],
             [
              0.5555555555555556,
              "#d8576b"
             ],
             [
              0.6666666666666666,
              "#ed7953"
             ],
             [
              0.7777777777777778,
              "#fb9f3a"
             ],
             [
              0.8888888888888888,
              "#fdca26"
             ],
             [
              1,
              "#f0f921"
             ]
            ],
            "type": "surface"
           }
          ],
          "table": [
           {
            "cells": {
             "fill": {
              "color": "#EBF0F8"
             },
             "line": {
              "color": "white"
             }
            },
            "header": {
             "fill": {
              "color": "#C8D4E3"
             },
             "line": {
              "color": "white"
             }
            },
            "type": "table"
           }
          ]
         },
         "layout": {
          "annotationdefaults": {
           "arrowcolor": "#2a3f5f",
           "arrowhead": 0,
           "arrowwidth": 1
          },
          "autotypenumbers": "strict",
          "coloraxis": {
           "colorbar": {
            "outlinewidth": 0,
            "ticks": ""
           }
          },
          "colorscale": {
           "diverging": [
            [
             0,
             "#8e0152"
            ],
            [
             0.1,
             "#c51b7d"
            ],
            [
             0.2,
             "#de77ae"
            ],
            [
             0.3,
             "#f1b6da"
            ],
            [
             0.4,
             "#fde0ef"
            ],
            [
             0.5,
             "#f7f7f7"
            ],
            [
             0.6,
             "#e6f5d0"
            ],
            [
             0.7,
             "#b8e186"
            ],
            [
             0.8,
             "#7fbc41"
            ],
            [
             0.9,
             "#4d9221"
            ],
            [
             1,
             "#276419"
            ]
           ],
           "sequential": [
            [
             0,
             "#0d0887"
            ],
            [
             0.1111111111111111,
             "#46039f"
            ],
            [
             0.2222222222222222,
             "#7201a8"
            ],
            [
             0.3333333333333333,
             "#9c179e"
            ],
            [
             0.4444444444444444,
             "#bd3786"
            ],
            [
             0.5555555555555556,
             "#d8576b"
            ],
            [
             0.6666666666666666,
             "#ed7953"
            ],
            [
             0.7777777777777778,
             "#fb9f3a"
            ],
            [
             0.8888888888888888,
             "#fdca26"
            ],
            [
             1,
             "#f0f921"
            ]
           ],
           "sequentialminus": [
            [
             0,
             "#0d0887"
            ],
            [
             0.1111111111111111,
             "#46039f"
            ],
            [
             0.2222222222222222,
             "#7201a8"
            ],
            [
             0.3333333333333333,
             "#9c179e"
            ],
            [
             0.4444444444444444,
             "#bd3786"
            ],
            [
             0.5555555555555556,
             "#d8576b"
            ],
            [
             0.6666666666666666,
             "#ed7953"
            ],
            [
             0.7777777777777778,
             "#fb9f3a"
            ],
            [
             0.8888888888888888,
             "#fdca26"
            ],
            [
             1,
             "#f0f921"
            ]
           ]
          },
          "colorway": [
           "#636efa",
           "#EF553B",
           "#00cc96",
           "#ab63fa",
           "#FFA15A",
           "#19d3f3",
           "#FF6692",
           "#B6E880",
           "#FF97FF",
           "#FECB52"
          ],
          "font": {
           "color": "#2a3f5f"
          },
          "geo": {
           "bgcolor": "white",
           "lakecolor": "white",
           "landcolor": "#E5ECF6",
           "showlakes": true,
           "showland": true,
           "subunitcolor": "white"
          },
          "hoverlabel": {
           "align": "left"
          },
          "hovermode": "closest",
          "mapbox": {
           "style": "light"
          },
          "paper_bgcolor": "white",
          "plot_bgcolor": "#E5ECF6",
          "polar": {
           "angularaxis": {
            "gridcolor": "white",
            "linecolor": "white",
            "ticks": ""
           },
           "bgcolor": "#E5ECF6",
           "radialaxis": {
            "gridcolor": "white",
            "linecolor": "white",
            "ticks": ""
           }
          },
          "scene": {
           "xaxis": {
            "backgroundcolor": "#E5ECF6",
            "gridcolor": "white",
            "gridwidth": 2,
            "linecolor": "white",
            "showbackground": true,
            "ticks": "",
            "zerolinecolor": "white"
           },
           "yaxis": {
            "backgroundcolor": "#E5ECF6",
            "gridcolor": "white",
            "gridwidth": 2,
            "linecolor": "white",
            "showbackground": true,
            "ticks": "",
            "zerolinecolor": "white"
           },
           "zaxis": {
            "backgroundcolor": "#E5ECF6",
            "gridcolor": "white",
            "gridwidth": 2,
            "linecolor": "white",
            "showbackground": true,
            "ticks": "",
            "zerolinecolor": "white"
           }
          },
          "shapedefaults": {
           "line": {
            "color": "#2a3f5f"
           }
          },
          "ternary": {
           "aaxis": {
            "gridcolor": "white",
            "linecolor": "white",
            "ticks": ""
           },
           "baxis": {
            "gridcolor": "white",
            "linecolor": "white",
            "ticks": ""
           },
           "bgcolor": "#E5ECF6",
           "caxis": {
            "gridcolor": "white",
            "linecolor": "white",
            "ticks": ""
           }
          },
          "title": {
           "x": 0.05
          },
          "xaxis": {
           "automargin": true,
           "gridcolor": "white",
           "linecolor": "white",
           "ticks": "",
           "title": {
            "standoff": 15
           },
           "zerolinecolor": "white",
           "zerolinewidth": 2
          },
          "yaxis": {
           "automargin": true,
           "gridcolor": "white",
           "linecolor": "white",
           "ticks": "",
           "title": {
            "standoff": 15
           },
           "zerolinecolor": "white",
           "zerolinewidth": 2
          }
         }
        },
        "xaxis": {
         "anchor": "y",
         "domain": [
          0,
          1
         ],
         "title": {
          "text": "Time"
         }
        },
        "yaxis": {
         "anchor": "x",
         "domain": [
          0,
          1
         ],
         "title": {
          "text": "value"
         }
        }
       }
      }
     },
     "metadata": {},
     "output_type": "display_data"
    }
   ],
   "source": [
    "pd.options.plotting.backend = \"plotly\"\n",
    "\n",
    "# Asegúrate de que `df_spy` es un DataFrame válido\n",
    "fig = atr.plot(x='Time', y=atr.columns)\n",
    "\n",
    "fig.show()"
   ]
  }
 ],
 "metadata": {
  "kernelspec": {
   "display_name": "ads",
   "language": "python",
   "name": "python3"
  },
  "language_info": {
   "codemirror_mode": {
    "name": "ipython",
    "version": 3
   },
   "file_extension": ".py",
   "mimetype": "text/x-python",
   "name": "python",
   "nbconvert_exporter": "python",
   "pygments_lexer": "ipython3",
   "version": "3.10.15"
  }
 },
 "nbformat": 4,
 "nbformat_minor": 2
}
